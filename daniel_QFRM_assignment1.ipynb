{
 "cells": [
  {
   "cell_type": "code",
   "execution_count": 1,
   "metadata": {},
   "outputs": [],
   "source": [
    "# Data processing\n",
    "import numpy as np\n",
    "import pandas as pd\n",
    "import datetime as dt\n",
    "\n",
    "# Download data\n",
    "import yfinance as yf\n",
    "\n",
    "from scipy.stats import norm\n",
    "import statsmodels.api as sm\n",
    "from matplotlib import pyplot as plt"
   ]
  },
  {
   "cell_type": "code",
   "execution_count": 2,
   "metadata": {},
   "outputs": [],
   "source": [
    "# Initial investment and currency per stock\n",
    "\n",
    "# in dollar values initially?\n",
    "\n",
    "principle = 100000000 #100mil\n",
    "\n",
    "# initial weights\n",
    "\n",
    "# for respective instruments, and 10% for cash\n",
    "weights = np.array([0.1,0.2,0.2,0.2,0.2, 0.1])\n",
    "\n",
    "investment = {\n",
    "    \"DBA\" : [10000000, 'USD'], # iPath Pure Beta Broad Commodity ETN (BCM)\n",
    "    \"EWQ\" : [20000000, 'USD'], # iShares MSCI France ETF, NYSE, USD\n",
    "    \"^AEX\"  : [20000000, 'EUR'], # AEX Index\n",
    "    \"^GSPC\" : [20000000, 'USD'], # S&P 500 Index\n",
    "    \"^N225\" : [20000000, 'JPY'] # Nikkei 225\n",
    "}\n",
    "\n",
    "start = \"2010-01-01\"\n",
    "end = \"2018-12-31\""
   ]
  },
  {
   "cell_type": "code",
   "execution_count": 3,
   "metadata": {},
   "outputs": [
    {
     "name": "stdout",
     "output_type": "stream",
     "text": [
      "[*********************100%***********************]  5 of 5 completed\n"
     ]
    }
   ],
   "source": [
    "# Download data and store in dataframe\n",
    "\n",
    "instruments_data = yf.download(' '.join(list(investment.keys())), start=start, end=end, groupby='ticker')\n",
    "instruments = instruments_data['Adj Close']"
   ]
  },
  {
   "cell_type": "code",
   "execution_count": 4,
   "metadata": {},
   "outputs": [],
   "source": [
    "# Create exchange rate ticker list based on initial investment data\n",
    "currencies = list(set(['EUR' + i[1] + '=X' for i in investment.values()]))\n",
    "\n",
    "# Remove EUR-EUR exchange rate\n",
    "for currency in currencies:\n",
    "    if currency[0:2] == currency[3:5]:\n",
    "        currencies.remove(currency)\n",
    "        \n",
    "currencies = \" \".join(currencies)"
   ]
  },
  {
   "cell_type": "code",
   "execution_count": 5,
   "metadata": {},
   "outputs": [
    {
     "name": "stdout",
     "output_type": "stream",
     "text": [
      "[*********************100%***********************]  2 of 2 completed\n"
     ]
    },
    {
     "data": {
      "text/html": [
       "<div>\n",
       "<style scoped>\n",
       "    .dataframe tbody tr th:only-of-type {\n",
       "        vertical-align: middle;\n",
       "    }\n",
       "\n",
       "    .dataframe tbody tr th {\n",
       "        vertical-align: top;\n",
       "    }\n",
       "\n",
       "    .dataframe thead th {\n",
       "        text-align: right;\n",
       "    }\n",
       "</style>\n",
       "<table border=\"1\" class=\"dataframe\">\n",
       "  <thead>\n",
       "    <tr style=\"text-align: right;\">\n",
       "      <th></th>\n",
       "      <th>EURJPY=X</th>\n",
       "      <th>EURUSD=X</th>\n",
       "    </tr>\n",
       "    <tr>\n",
       "      <th>Date</th>\n",
       "      <th></th>\n",
       "      <th></th>\n",
       "    </tr>\n",
       "  </thead>\n",
       "  <tbody>\n",
       "    <tr>\n",
       "      <td>2018-12-24</td>\n",
       "      <td>126.292000</td>\n",
       "      <td>1.137281</td>\n",
       "    </tr>\n",
       "    <tr>\n",
       "      <td>2018-12-25</td>\n",
       "      <td>125.769997</td>\n",
       "      <td>1.140394</td>\n",
       "    </tr>\n",
       "    <tr>\n",
       "      <td>2018-12-26</td>\n",
       "      <td>126.001999</td>\n",
       "      <td>1.141553</td>\n",
       "    </tr>\n",
       "    <tr>\n",
       "      <td>2018-12-27</td>\n",
       "      <td>126.404999</td>\n",
       "      <td>1.136131</td>\n",
       "    </tr>\n",
       "    <tr>\n",
       "      <td>2018-12-28</td>\n",
       "      <td>126.767998</td>\n",
       "      <td>1.143105</td>\n",
       "    </tr>\n",
       "  </tbody>\n",
       "</table>\n",
       "</div>"
      ],
      "text/plain": [
       "              EURJPY=X  EURUSD=X\n",
       "Date                            \n",
       "2018-12-24  126.292000  1.137281\n",
       "2018-12-25  125.769997  1.140394\n",
       "2018-12-26  126.001999  1.141553\n",
       "2018-12-27  126.404999  1.136131\n",
       "2018-12-28  126.767998  1.143105"
      ]
     },
     "execution_count": 5,
     "metadata": {},
     "output_type": "execute_result"
    }
   ],
   "source": [
    "# Download exchange rate data\n",
    "exchangerate_data = yf.download(currencies, start=start, end=end, groupby='ticker')\n",
    "exchangerate = exchangerate_data['Adj Close']\n",
    "exchangerate.tail()"
   ]
  },
  {
   "cell_type": "code",
   "execution_count": 6,
   "metadata": {},
   "outputs": [],
   "source": [
    "# invest in Euribor 3m future, exposure to interest rates\n",
    "\n",
    "euribor3m_future = pd.read_excel('data/euribor_FEU300-EUR.xlsx')\n",
    "euribor3m = euribor3m_future['Last']\n"
   ]
  },
  {
   "cell_type": "code",
   "execution_count": 7,
   "metadata": {},
   "outputs": [],
   "source": [
    "# Make index datetime\n",
    "euribor3m.index = pd.to_datetime(euribor3m_future.Date)"
   ]
  },
  {
   "cell_type": "code",
   "execution_count": 8,
   "metadata": {},
   "outputs": [],
   "source": [
    "euribor3m = euribor3m.iloc[::-1]\n",
    "euribor3m = euribor3m[start:end]"
   ]
  },
  {
   "cell_type": "code",
   "execution_count": 9,
   "metadata": {},
   "outputs": [
    {
     "data": {
      "text/html": [
       "<div>\n",
       "<style scoped>\n",
       "    .dataframe tbody tr th:only-of-type {\n",
       "        vertical-align: middle;\n",
       "    }\n",
       "\n",
       "    .dataframe tbody tr th {\n",
       "        vertical-align: top;\n",
       "    }\n",
       "\n",
       "    .dataframe thead th {\n",
       "        text-align: right;\n",
       "    }\n",
       "</style>\n",
       "<table border=\"1\" class=\"dataframe\">\n",
       "  <thead>\n",
       "    <tr style=\"text-align: right;\">\n",
       "      <th></th>\n",
       "      <th>DBA</th>\n",
       "      <th>EWQ</th>\n",
       "      <th>^AEX</th>\n",
       "      <th>^GSPC</th>\n",
       "      <th>^N225</th>\n",
       "    </tr>\n",
       "    <tr>\n",
       "      <th>Date</th>\n",
       "      <th></th>\n",
       "      <th></th>\n",
       "      <th></th>\n",
       "      <th></th>\n",
       "      <th></th>\n",
       "    </tr>\n",
       "  </thead>\n",
       "  <tbody>\n",
       "    <tr>\n",
       "      <td>2009-12-31</td>\n",
       "      <td>25.755527</td>\n",
       "      <td>19.757006</td>\n",
       "      <td>NaN</td>\n",
       "      <td>1115.099976</td>\n",
       "      <td>NaN</td>\n",
       "    </tr>\n",
       "    <tr>\n",
       "      <td>2010-01-04</td>\n",
       "      <td>25.999054</td>\n",
       "      <td>20.460157</td>\n",
       "      <td>343.029999</td>\n",
       "      <td>1132.989990</td>\n",
       "      <td>10654.790039</td>\n",
       "    </tr>\n",
       "    <tr>\n",
       "      <td>2010-01-05</td>\n",
       "      <td>26.164654</td>\n",
       "      <td>20.406656</td>\n",
       "      <td>342.019989</td>\n",
       "      <td>1136.520020</td>\n",
       "      <td>10681.830078</td>\n",
       "    </tr>\n",
       "    <tr>\n",
       "      <td>2010-01-06</td>\n",
       "      <td>26.310770</td>\n",
       "      <td>20.513659</td>\n",
       "      <td>341.480011</td>\n",
       "      <td>1137.140015</td>\n",
       "      <td>10731.450195</td>\n",
       "    </tr>\n",
       "    <tr>\n",
       "      <td>2010-01-07</td>\n",
       "      <td>26.106207</td>\n",
       "      <td>20.421942</td>\n",
       "      <td>340.549988</td>\n",
       "      <td>1141.689941</td>\n",
       "      <td>10681.660156</td>\n",
       "    </tr>\n",
       "    <tr>\n",
       "      <td>...</td>\n",
       "      <td>...</td>\n",
       "      <td>...</td>\n",
       "      <td>...</td>\n",
       "      <td>...</td>\n",
       "      <td>...</td>\n",
       "    </tr>\n",
       "    <tr>\n",
       "      <td>2018-12-24</td>\n",
       "      <td>16.687899</td>\n",
       "      <td>24.885502</td>\n",
       "      <td>478.339996</td>\n",
       "      <td>2351.100098</td>\n",
       "      <td>NaN</td>\n",
       "    </tr>\n",
       "    <tr>\n",
       "      <td>2018-12-25</td>\n",
       "      <td>NaN</td>\n",
       "      <td>NaN</td>\n",
       "      <td>NaN</td>\n",
       "      <td>NaN</td>\n",
       "      <td>19155.740234</td>\n",
       "    </tr>\n",
       "    <tr>\n",
       "      <td>2018-12-26</td>\n",
       "      <td>16.697742</td>\n",
       "      <td>25.567028</td>\n",
       "      <td>NaN</td>\n",
       "      <td>2467.699951</td>\n",
       "      <td>19327.060547</td>\n",
       "    </tr>\n",
       "    <tr>\n",
       "      <td>2018-12-27</td>\n",
       "      <td>16.638670</td>\n",
       "      <td>25.528084</td>\n",
       "      <td>476.029999</td>\n",
       "      <td>2488.830078</td>\n",
       "      <td>20077.619141</td>\n",
       "    </tr>\n",
       "    <tr>\n",
       "      <td>2018-12-28</td>\n",
       "      <td>16.707588</td>\n",
       "      <td>25.625444</td>\n",
       "      <td>484.170013</td>\n",
       "      <td>2485.739990</td>\n",
       "      <td>20014.769531</td>\n",
       "    </tr>\n",
       "  </tbody>\n",
       "</table>\n",
       "<p>2341 rows × 5 columns</p>\n",
       "</div>"
      ],
      "text/plain": [
       "                  DBA        EWQ        ^AEX        ^GSPC         ^N225\n",
       "Date                                                                   \n",
       "2009-12-31  25.755527  19.757006         NaN  1115.099976           NaN\n",
       "2010-01-04  25.999054  20.460157  343.029999  1132.989990  10654.790039\n",
       "2010-01-05  26.164654  20.406656  342.019989  1136.520020  10681.830078\n",
       "2010-01-06  26.310770  20.513659  341.480011  1137.140015  10731.450195\n",
       "2010-01-07  26.106207  20.421942  340.549988  1141.689941  10681.660156\n",
       "...               ...        ...         ...          ...           ...\n",
       "2018-12-24  16.687899  24.885502  478.339996  2351.100098           NaN\n",
       "2018-12-25        NaN        NaN         NaN          NaN  19155.740234\n",
       "2018-12-26  16.697742  25.567028         NaN  2467.699951  19327.060547\n",
       "2018-12-27  16.638670  25.528084  476.029999  2488.830078  20077.619141\n",
       "2018-12-28  16.707588  25.625444  484.170013  2485.739990  20014.769531\n",
       "\n",
       "[2341 rows x 5 columns]"
      ]
     },
     "execution_count": 9,
     "metadata": {},
     "output_type": "execute_result"
    }
   ],
   "source": [
    "# invest in stock (and commodity) indices (by investing in mutual funds)? ETFs?\n",
    "\n",
    "\n",
    "instruments"
   ]
  },
  {
   "cell_type": "markdown",
   "metadata": {},
   "source": [
    "### Step2: \n",
    "Implement and backtest VaR and ES for the two abovementioned confidence levels and 1-day horizon using the following methods:"
   ]
  },
  {
   "cell_type": "code",
   "execution_count": 10,
   "metadata": {},
   "outputs": [],
   "source": [
    "from functools import reduce"
   ]
  },
  {
   "cell_type": "code",
   "execution_count": 11,
   "metadata": {},
   "outputs": [],
   "source": [
    "# merge the instrument prices, exchange rates, and euribor into one dataframe\n",
    "dfs = [instruments, exchangerate, euribor3m]\n",
    "df_pf = reduce(lambda left,right: pd.merge(left,right,left_index=True, right_index=True), dfs)\n",
    "df_pf = df_pf.rename(columns={5: 'euribor3m', '^AEX':'AEX', '^GSPC':'GSPC','^N225':'N225', 'Last':'euribor3m'})\n"
   ]
  },
  {
   "cell_type": "code",
   "execution_count": 12,
   "metadata": {},
   "outputs": [],
   "source": [
    "instrument_names = list(df_pf.columns[:5])\n",
    "instrument_names.append('euribor3m')"
   ]
  },
  {
   "cell_type": "code",
   "execution_count": 13,
   "metadata": {},
   "outputs": [
    {
     "data": {
      "text/plain": [
       "['DBA', 'EWQ', 'AEX', 'GSPC', 'N225', 'euribor3m']"
      ]
     },
     "execution_count": 13,
     "metadata": {},
     "output_type": "execute_result"
    }
   ],
   "source": [
    "instrument_names"
   ]
  },
  {
   "cell_type": "code",
   "execution_count": null,
   "metadata": {},
   "outputs": [],
   "source": []
  },
  {
   "cell_type": "code",
   "execution_count": null,
   "metadata": {},
   "outputs": [],
   "source": []
  },
  {
   "cell_type": "code",
   "execution_count": 89,
   "metadata": {},
   "outputs": [
    {
     "data": {
      "text/plain": [
       "Date\n",
       "2010-01-04         NaN\n",
       "2010-01-05    0.006349\n",
       "2010-01-06    0.005569\n",
       "2010-01-07   -0.007805\n",
       "2010-01-08    0.002981\n",
       "2010-01-11   -0.004474\n",
       "2010-01-12   -0.018481\n",
       "2010-01-13    0.012484\n",
       "2010-01-14   -0.009443\n",
       "2010-01-15   -0.009533\n",
       "dtype: float64"
      ]
     },
     "execution_count": 89,
     "metadata": {},
     "output_type": "execute_result"
    }
   ],
   "source": [
    "# alternative way to include the exchange risk\n",
    "np.log(df_pf[0:10]['DBA']/df_pf[0:10]['EURUSD=X']) - np.log(df_pf[0:10]['DBA'].shift()/df_pf[0:10]['EURUSD=X'])"
   ]
  },
  {
   "cell_type": "code",
   "execution_count": null,
   "metadata": {},
   "outputs": [],
   "source": []
  },
  {
   "cell_type": "code",
   "execution_count": 14,
   "metadata": {},
   "outputs": [],
   "source": [
    "df_returns_all = np.log(df_pf[instrument_names])- np.log(df_pf[instrument_names].shift())\n",
    "\n",
    "df_returns_all['euribor3m'] = np.log(df_pf['euribor3m'])- np.log(df_pf['euribor3m'].shift()) # negative rates?\n",
    "\n",
    "# calculate the FX returns, and use them to adjust the foreign currency denominated indices\n",
    "df_returns_all['EURJPY_ret'] = np.log(df_pf['EURJPY=X'])- np.log(df_pf['EURJPY=X'].shift())\n",
    "df_returns_all['EURUSD_ret'] = np.log(df_pf['EURUSD=X'])- np.log(df_pf['EURUSD=X'].shift())"
   ]
  },
  {
   "cell_type": "code",
   "execution_count": 15,
   "metadata": {},
   "outputs": [
    {
     "data": {
      "text/html": [
       "<div>\n",
       "<style scoped>\n",
       "    .dataframe tbody tr th:only-of-type {\n",
       "        vertical-align: middle;\n",
       "    }\n",
       "\n",
       "    .dataframe tbody tr th {\n",
       "        vertical-align: top;\n",
       "    }\n",
       "\n",
       "    .dataframe thead th {\n",
       "        text-align: right;\n",
       "    }\n",
       "</style>\n",
       "<table border=\"1\" class=\"dataframe\">\n",
       "  <thead>\n",
       "    <tr style=\"text-align: right;\">\n",
       "      <th></th>\n",
       "      <th>DBA</th>\n",
       "      <th>EWQ</th>\n",
       "      <th>AEX</th>\n",
       "      <th>GSPC</th>\n",
       "      <th>N225</th>\n",
       "      <th>euribor3m</th>\n",
       "      <th>EURJPY_ret</th>\n",
       "      <th>EURUSD_ret</th>\n",
       "    </tr>\n",
       "    <tr>\n",
       "      <th>Date</th>\n",
       "      <th></th>\n",
       "      <th></th>\n",
       "      <th></th>\n",
       "      <th></th>\n",
       "      <th></th>\n",
       "      <th></th>\n",
       "      <th></th>\n",
       "      <th></th>\n",
       "    </tr>\n",
       "  </thead>\n",
       "  <tbody>\n",
       "    <tr>\n",
       "      <td>2010-01-04</td>\n",
       "      <td>NaN</td>\n",
       "      <td>NaN</td>\n",
       "      <td>NaN</td>\n",
       "      <td>NaN</td>\n",
       "      <td>NaN</td>\n",
       "      <td>NaN</td>\n",
       "      <td>NaN</td>\n",
       "      <td>NaN</td>\n",
       "    </tr>\n",
       "    <tr>\n",
       "      <td>2010-01-05</td>\n",
       "      <td>0.006349</td>\n",
       "      <td>-0.002618</td>\n",
       "      <td>-0.002949</td>\n",
       "      <td>0.003111</td>\n",
       "      <td>0.002535</td>\n",
       "      <td>0.000151</td>\n",
       "      <td>-0.014042</td>\n",
       "      <td>-0.004031</td>\n",
       "    </tr>\n",
       "    <tr>\n",
       "      <td>2010-01-06</td>\n",
       "      <td>0.005569</td>\n",
       "      <td>0.005230</td>\n",
       "      <td>-0.001580</td>\n",
       "      <td>0.000545</td>\n",
       "      <td>0.004635</td>\n",
       "      <td>0.000101</td>\n",
       "      <td>0.011212</td>\n",
       "      <td>0.002647</td>\n",
       "    </tr>\n",
       "    <tr>\n",
       "      <td>2010-01-07</td>\n",
       "      <td>-0.007805</td>\n",
       "      <td>-0.004481</td>\n",
       "      <td>-0.002727</td>\n",
       "      <td>0.003993</td>\n",
       "      <td>-0.004650</td>\n",
       "      <td>0.000151</td>\n",
       "      <td>0.005511</td>\n",
       "      <td>-0.005989</td>\n",
       "    </tr>\n",
       "    <tr>\n",
       "      <td>2010-01-08</td>\n",
       "      <td>0.002981</td>\n",
       "      <td>0.013752</td>\n",
       "      <td>0.004073</td>\n",
       "      <td>0.002878</td>\n",
       "      <td>0.010862</td>\n",
       "      <td>-0.000050</td>\n",
       "      <td>-0.001931</td>\n",
       "      <td>0.006478</td>\n",
       "    </tr>\n",
       "    <tr>\n",
       "      <td>...</td>\n",
       "      <td>...</td>\n",
       "      <td>...</td>\n",
       "      <td>...</td>\n",
       "      <td>...</td>\n",
       "      <td>...</td>\n",
       "      <td>...</td>\n",
       "      <td>...</td>\n",
       "      <td>...</td>\n",
       "    </tr>\n",
       "    <tr>\n",
       "      <td>2018-12-19</td>\n",
       "      <td>-0.001744</td>\n",
       "      <td>-0.008289</td>\n",
       "      <td>0.003110</td>\n",
       "      <td>-0.015515</td>\n",
       "      <td>-0.006058</td>\n",
       "      <td>0.000100</td>\n",
       "      <td>-0.000461</td>\n",
       "      <td>0.002250</td>\n",
       "    </tr>\n",
       "    <tr>\n",
       "      <td>2018-12-20</td>\n",
       "      <td>-0.002913</td>\n",
       "      <td>-0.004171</td>\n",
       "      <td>-0.020409</td>\n",
       "      <td>-0.015898</td>\n",
       "      <td>-0.028776</td>\n",
       "      <td>0.000050</td>\n",
       "      <td>0.000188</td>\n",
       "      <td>0.001241</td>\n",
       "    </tr>\n",
       "    <tr>\n",
       "      <td>2018-12-21</td>\n",
       "      <td>-0.008201</td>\n",
       "      <td>-0.013387</td>\n",
       "      <td>-0.002390</td>\n",
       "      <td>-0.020803</td>\n",
       "      <td>-0.011164</td>\n",
       "      <td>0.000000</td>\n",
       "      <td>-0.005216</td>\n",
       "      <td>0.005894</td>\n",
       "    </tr>\n",
       "    <tr>\n",
       "      <td>2018-12-27</td>\n",
       "      <td>0.004745</td>\n",
       "      <td>0.009580</td>\n",
       "      <td>-0.018276</td>\n",
       "      <td>0.029443</td>\n",
       "      <td>-0.004402</td>\n",
       "      <td>0.000000</td>\n",
       "      <td>-0.007464</td>\n",
       "      <td>-0.008374</td>\n",
       "    </tr>\n",
       "    <tr>\n",
       "      <td>2018-12-28</td>\n",
       "      <td>0.004133</td>\n",
       "      <td>0.003807</td>\n",
       "      <td>0.016955</td>\n",
       "      <td>-0.001242</td>\n",
       "      <td>-0.003135</td>\n",
       "      <td>0.000050</td>\n",
       "      <td>0.002868</td>\n",
       "      <td>0.006120</td>\n",
       "    </tr>\n",
       "  </tbody>\n",
       "</table>\n",
       "<p>2289 rows × 8 columns</p>\n",
       "</div>"
      ],
      "text/plain": [
       "                 DBA       EWQ       AEX      GSPC      N225  euribor3m  \\\n",
       "Date                                                                      \n",
       "2010-01-04       NaN       NaN       NaN       NaN       NaN        NaN   \n",
       "2010-01-05  0.006349 -0.002618 -0.002949  0.003111  0.002535   0.000151   \n",
       "2010-01-06  0.005569  0.005230 -0.001580  0.000545  0.004635   0.000101   \n",
       "2010-01-07 -0.007805 -0.004481 -0.002727  0.003993 -0.004650   0.000151   \n",
       "2010-01-08  0.002981  0.013752  0.004073  0.002878  0.010862  -0.000050   \n",
       "...              ...       ...       ...       ...       ...        ...   \n",
       "2018-12-19 -0.001744 -0.008289  0.003110 -0.015515 -0.006058   0.000100   \n",
       "2018-12-20 -0.002913 -0.004171 -0.020409 -0.015898 -0.028776   0.000050   \n",
       "2018-12-21 -0.008201 -0.013387 -0.002390 -0.020803 -0.011164   0.000000   \n",
       "2018-12-27  0.004745  0.009580 -0.018276  0.029443 -0.004402   0.000000   \n",
       "2018-12-28  0.004133  0.003807  0.016955 -0.001242 -0.003135   0.000050   \n",
       "\n",
       "            EURJPY_ret  EURUSD_ret  \n",
       "Date                                \n",
       "2010-01-04         NaN         NaN  \n",
       "2010-01-05   -0.014042   -0.004031  \n",
       "2010-01-06    0.011212    0.002647  \n",
       "2010-01-07    0.005511   -0.005989  \n",
       "2010-01-08   -0.001931    0.006478  \n",
       "...                ...         ...  \n",
       "2018-12-19   -0.000461    0.002250  \n",
       "2018-12-20    0.000188    0.001241  \n",
       "2018-12-21   -0.005216    0.005894  \n",
       "2018-12-27   -0.007464   -0.008374  \n",
       "2018-12-28    0.002868    0.006120  \n",
       "\n",
       "[2289 rows x 8 columns]"
      ]
     },
     "execution_count": 15,
     "metadata": {},
     "output_type": "execute_result"
    }
   ],
   "source": [
    "df_returns_all"
   ]
  },
  {
   "cell_type": "code",
   "execution_count": 16,
   "metadata": {},
   "outputs": [],
   "source": [
    "# select the estimation period\n",
    "df_returns = df_returns_all[instrument_names][:]"
   ]
  },
  {
   "cell_type": "code",
   "execution_count": 17,
   "metadata": {},
   "outputs": [],
   "source": [
    "# adjust for exchange rates\n",
    "df_returns['DBA'] = df_returns['DBA'] * (1+df_returns_all['EURUSD_ret'])\n",
    "df_returns['EWQ'] = df_returns['EWQ'] * (1+df_returns_all['EURUSD_ret'])\n",
    "df_returns['GSPC'] = df_returns['GSPC'] * (1+df_returns_all['EURUSD_ret'])\n",
    "df_returns['N225'] = df_returns['N225'] * (1+df_returns_all['EURJPY_ret'])"
   ]
  },
  {
   "cell_type": "markdown",
   "metadata": {},
   "source": [
    "#### Estimate VaR and ES, based on Variance-Covariance method, multivariate normal distribution"
   ]
  },
  {
   "cell_type": "code",
   "execution_count": 18,
   "metadata": {},
   "outputs": [
    {
     "data": {
      "text/html": [
       "<div>\n",
       "<style scoped>\n",
       "    .dataframe tbody tr th:only-of-type {\n",
       "        vertical-align: middle;\n",
       "    }\n",
       "\n",
       "    .dataframe tbody tr th {\n",
       "        vertical-align: top;\n",
       "    }\n",
       "\n",
       "    .dataframe thead th {\n",
       "        text-align: right;\n",
       "    }\n",
       "</style>\n",
       "<table border=\"1\" class=\"dataframe\">\n",
       "  <thead>\n",
       "    <tr style=\"text-align: right;\">\n",
       "      <th></th>\n",
       "      <th>DBA</th>\n",
       "      <th>EWQ</th>\n",
       "      <th>AEX</th>\n",
       "      <th>GSPC</th>\n",
       "      <th>N225</th>\n",
       "      <th>euribor3m</th>\n",
       "    </tr>\n",
       "  </thead>\n",
       "  <tbody>\n",
       "    <tr>\n",
       "      <td>DBA</td>\n",
       "      <td>6.680151e-05</td>\n",
       "      <td>4.054976e-05</td>\n",
       "      <td>2.084994e-05</td>\n",
       "      <td>2.341740e-05</td>\n",
       "      <td>1.201325e-05</td>\n",
       "      <td>-6.176495e-08</td>\n",
       "    </tr>\n",
       "    <tr>\n",
       "      <td>EWQ</td>\n",
       "      <td>4.054976e-05</td>\n",
       "      <td>2.212690e-04</td>\n",
       "      <td>1.102516e-04</td>\n",
       "      <td>1.165002e-04</td>\n",
       "      <td>3.237039e-05</td>\n",
       "      <td>-3.270876e-07</td>\n",
       "    </tr>\n",
       "    <tr>\n",
       "      <td>AEX</td>\n",
       "      <td>2.084994e-05</td>\n",
       "      <td>1.102516e-04</td>\n",
       "      <td>1.154280e-04</td>\n",
       "      <td>6.463286e-05</td>\n",
       "      <td>4.734517e-05</td>\n",
       "      <td>-9.876114e-08</td>\n",
       "    </tr>\n",
       "    <tr>\n",
       "      <td>GSPC</td>\n",
       "      <td>2.341740e-05</td>\n",
       "      <td>1.165002e-04</td>\n",
       "      <td>6.463286e-05</td>\n",
       "      <td>9.079651e-05</td>\n",
       "      <td>2.248005e-05</td>\n",
       "      <td>-1.309112e-07</td>\n",
       "    </tr>\n",
       "    <tr>\n",
       "      <td>N225</td>\n",
       "      <td>1.201325e-05</td>\n",
       "      <td>3.237039e-05</td>\n",
       "      <td>4.734517e-05</td>\n",
       "      <td>2.248005e-05</td>\n",
       "      <td>1.796203e-04</td>\n",
       "      <td>-1.540590e-07</td>\n",
       "    </tr>\n",
       "    <tr>\n",
       "      <td>euribor3m</td>\n",
       "      <td>-6.176495e-08</td>\n",
       "      <td>-3.270876e-07</td>\n",
       "      <td>-9.876114e-08</td>\n",
       "      <td>-1.309112e-07</td>\n",
       "      <td>-1.540590e-07</td>\n",
       "      <td>5.689059e-08</td>\n",
       "    </tr>\n",
       "  </tbody>\n",
       "</table>\n",
       "</div>"
      ],
      "text/plain": [
       "                    DBA           EWQ           AEX          GSPC  \\\n",
       "DBA        6.680151e-05  4.054976e-05  2.084994e-05  2.341740e-05   \n",
       "EWQ        4.054976e-05  2.212690e-04  1.102516e-04  1.165002e-04   \n",
       "AEX        2.084994e-05  1.102516e-04  1.154280e-04  6.463286e-05   \n",
       "GSPC       2.341740e-05  1.165002e-04  6.463286e-05  9.079651e-05   \n",
       "N225       1.201325e-05  3.237039e-05  4.734517e-05  2.248005e-05   \n",
       "euribor3m -6.176495e-08 -3.270876e-07 -9.876114e-08 -1.309112e-07   \n",
       "\n",
       "                   N225     euribor3m  \n",
       "DBA        1.201325e-05 -6.176495e-08  \n",
       "EWQ        3.237039e-05 -3.270876e-07  \n",
       "AEX        4.734517e-05 -9.876114e-08  \n",
       "GSPC       2.248005e-05 -1.309112e-07  \n",
       "N225       1.796203e-04 -1.540590e-07  \n",
       "euribor3m -1.540590e-07  5.689059e-08  "
      ]
     },
     "execution_count": 18,
     "metadata": {},
     "output_type": "execute_result"
    }
   ],
   "source": [
    "# calculate the variance-covariance matrix\n",
    "cov_matrix = df_returns.cov()\n",
    "cov_matrix"
   ]
  },
  {
   "cell_type": "code",
   "execution_count": 19,
   "metadata": {},
   "outputs": [],
   "source": [
    "# calculate the mean return\n",
    "avg_returns = df_returns.mean()"
   ]
  },
  {
   "cell_type": "code",
   "execution_count": 20,
   "metadata": {},
   "outputs": [
    {
     "data": {
      "text/plain": [
       "0.00015997788952196355"
      ]
     },
     "execution_count": 20,
     "metadata": {},
     "output_type": "execute_result"
    }
   ],
   "source": [
    "# calculate the portfolio mean\n",
    "pf_mean_pct = sum(avg_returns*weights)\n",
    "pf_mean_pct"
   ]
  },
  {
   "cell_type": "code",
   "execution_count": 21,
   "metadata": {},
   "outputs": [],
   "source": [
    "# calculate the portfolio standard deviation in percentage terms\n",
    "pf_std_pct = np.sqrt(weights.T.dot(cov_matrix).dot(weights))"
   ]
  },
  {
   "cell_type": "code",
   "execution_count": 22,
   "metadata": {},
   "outputs": [],
   "source": [
    "# convert the pf return and std from percentage to euro\n",
    "pf_mean_euro = pf_mean_pct * principle\n",
    "pf_std_euro = pf_std_pct * principle"
   ]
  },
  {
   "cell_type": "code",
   "execution_count": 23,
   "metadata": {},
   "outputs": [
    {
     "data": {
      "text/plain": [
       "[0.025, 0.01]"
      ]
     },
     "execution_count": 23,
     "metadata": {},
     "output_type": "execute_result"
    }
   ],
   "source": [
    "confidence_levels = [0.975, 0.99]\n",
    "alphas = [0.025,0.01]\n",
    "alphas"
   ]
  },
  {
   "cell_type": "code",
   "execution_count": 24,
   "metadata": {},
   "outputs": [],
   "source": [
    "# calculate the VaR\n",
    "var_975_1d = norm.ppf(confidence_levels[0]) * pf_std_euro - pf_mean_euro\n",
    "es_975_1d = alphas[0]**-1 * norm.pdf(norm.ppf(alphas[0]))*pf_std_euro - pf_mean_euro"
   ]
  },
  {
   "cell_type": "code",
   "execution_count": 25,
   "metadata": {},
   "outputs": [],
   "source": [
    "var_990_1d = norm.ppf(confidence_levels[1]) * pf_std_euro - pf_mean_euro\n",
    "es_990_1d = alphas[1]**-1 * norm.pdf(norm.ppf(alphas[1]))*pf_std_euro - pf_mean_euro"
   ]
  },
  {
   "cell_type": "code",
   "execution_count": 26,
   "metadata": {},
   "outputs": [
    {
     "name": "stdout",
     "output_type": "stream",
     "text": [
      "VaR 99% 1d: 1790229.8110804502, ES 99% 1d: 2053333.087356622\n"
     ]
    }
   ],
   "source": [
    "print(f'VaR 99% 1d: {var_990_1d}, ES 99% 1d: {es_990_1d}')"
   ]
  },
  {
   "cell_type": "code",
   "execution_count": 27,
   "metadata": {},
   "outputs": [
    {
     "name": "stderr",
     "output_type": "stream",
     "text": [
      "/opt/anaconda3/lib/python3.7/site-packages/numpy/lib/histograms.py:829: RuntimeWarning: invalid value encountered in greater_equal\n",
      "  keep = (tmp_a >= first_edge)\n",
      "/opt/anaconda3/lib/python3.7/site-packages/numpy/lib/histograms.py:830: RuntimeWarning: invalid value encountered in less_equal\n",
      "  keep &= (tmp_a <= last_edge)\n"
     ]
    },
    {
     "data": {
      "image/png": "[encoded data removed]",
      "text/plain": [
       "<Figure size 432x288 with 1 Axes>"
      ]
     },
     "metadata": {
      "needs_background": "light"
     },
     "output_type": "display_data"
    }
   ],
   "source": [
    "plt.hist(df_returns['AEX']);"
   ]
  },
  {
   "cell_type": "markdown",
   "metadata": {},
   "source": [
    "#### Estimate VaR and ES, based on Variance-Covariance method, Student-t distribution with 3, 4, 5, 6 degrees of freedom"
   ]
  },
  {
   "cell_type": "code",
   "execution_count": 28,
   "metadata": {},
   "outputs": [],
   "source": [
    "from scipy.stats import t"
   ]
  },
  {
   "cell_type": "code",
   "execution_count": 29,
   "metadata": {},
   "outputs": [],
   "source": [
    "degree_of_freedom = [3,4,5,6]"
   ]
  },
  {
   "cell_type": "code",
   "execution_count": 30,
   "metadata": {},
   "outputs": [
    {
     "name": "stdout",
     "output_type": "stream",
     "text": [
      "Student-t distribution with 3 degree of freedom: \n",
      "VaR 97.5% 1d: 2454923.442, ES 97.5% 1d: 3300737.117\n",
      "\n",
      "Student-t distribution with 4 degree of freedom: \n",
      "VaR 97.5% 1d: 2139695.19, ES 97.5% 1d: 2555047.384\n",
      "\n",
      "Student-t distribution with 5 degree of freedom: \n",
      "VaR 97.5% 1d: 1979858.426, ES 97.5% 1d: 2247133.72\n",
      "\n",
      "Student-t distribution with 6 degree of freedom: \n",
      "VaR 97.5% 1d: 1883838.33, ES 97.5% 1d: 2090347.913\n",
      "\n"
     ]
    }
   ],
   "source": [
    "# at 97.5% confidence level\n",
    "for df in degree_of_freedom:\n",
    "    \n",
    "    tppf = t.ppf(alphas[0], df)\n",
    "    \n",
    "    var_975_1d_t= t.ppf(confidence_levels[0], df) * pf_std_euro - pf_mean_euro\n",
    "    \n",
    "    es_975_1d_t = -1/alphas[0] * (1-df)**(-1) * (df-2+tppf**2) * t.pdf(tppf, df)*pf_std_euro - pf_mean_euro\n",
    "    \n",
    "    \n",
    "    print(f'Student-t distribution with {df} degree of freedom: \\nVaR 97.5% 1d: {np.round(var_975_1d_t,3)}, ES 97.5% 1d: {np.round(es_975_1d_t,3)}\\n')"
   ]
  },
  {
   "cell_type": "code",
   "execution_count": 31,
   "metadata": {},
   "outputs": [
    {
     "name": "stdout",
     "output_type": "stream",
     "text": [
      "VaR 97.5% 1d: 1505761.31, ES 97.5% 1d: 1799123.661\n"
     ]
    }
   ],
   "source": [
    "# compare with VaR and ES under standard normal distribution\n",
    "print(f'VaR 97.5% 1d: {np.round(var_975_1d,3)}, ES 97.5% 1d: {np.round(es_975_1d,3)}')"
   ]
  },
  {
   "cell_type": "code",
   "execution_count": 32,
   "metadata": {},
   "outputs": [
    {
     "name": "stdout",
     "output_type": "stream",
     "text": [
      "Student-t distribution with 3 degree of freedom: \n",
      "VaR 97.5% 1d: 3509503.671, ES 97.5% 1d: 4960907.708\n",
      "\n",
      "Student-t distribution with 4 degree of freedom: \n",
      "VaR 97.5% 1d: 2893214.485, ES 97.5% 1d: 3587992.354\n",
      "\n",
      "Student-t distribution with 5 degree of freedom: \n",
      "VaR 97.5% 1d: 2596607.791, ES 97.5% 1d: 3017389.948\n",
      "\n",
      "Student-t distribution with 6 degree of freedom: \n",
      "VaR 97.5% 1d: 2424039.005, ES 97.5% 1d: 2720529.681\n",
      "\n"
     ]
    }
   ],
   "source": [
    "# at 99% confidence level\n",
    "for df in degree_of_freedom:\n",
    "    \n",
    "    tppf = t.ppf(alphas[1], df)\n",
    "    \n",
    "    var_990_1d_t= t.ppf(confidence_levels[1], df) * pf_std_euro - pf_mean_euro\n",
    "    \n",
    "    es_990_1d_t = -1/alphas[1] * (1-df)**(-1) * (df-2+tppf**2) * t.pdf(tppf, df) * pf_std_euro - pf_mean_euro\n",
    "    \n",
    "    \n",
    "    print(f'Student-t distribution with {df} degree of freedom: \\nVaR 97.5% 1d: {np.round(var_990_1d_t,3)}, ES 97.5% 1d: {np.round(es_990_1d_t,3)}\\n')"
   ]
  },
  {
   "cell_type": "code",
   "execution_count": 33,
   "metadata": {},
   "outputs": [
    {
     "name": "stdout",
     "output_type": "stream",
     "text": [
      "VaR 99% 1d: 1790229.811, ES 99% 1d: 2053333.087\n"
     ]
    }
   ],
   "source": [
    "# compare with VaR and ES under standard normal distribution\n",
    "print(f'VaR 99% 1d: {np.round(var_990_1d,3)}, ES 99% 1d: {np.round(es_990_1d,3)}')"
   ]
  },
  {
   "cell_type": "markdown",
   "metadata": {},
   "source": [
    "#### Estimate VaR and ES, based on Historical Simulation method"
   ]
  },
  {
   "cell_type": "code",
   "execution_count": 34,
   "metadata": {},
   "outputs": [],
   "source": [
    "# calculate the historical losses, and order them in increasing order\n",
    "df_returns = df_returns[:] # select the simulation period\n",
    "pf_losses = np.sort(principle * df_returns.dot(weights))"
   ]
  },
  {
   "cell_type": "code",
   "execution_count": 35,
   "metadata": {},
   "outputs": [],
   "source": [
    "# at 97.5% confidence level\n",
    "var_975_1d_hsm = pf_losses[int(alphas[0]*len(pf_losses))]\n",
    "es_975_1d_hsm = pf_losses[0:int(alphas[0]*len(pf_losses))].mean()"
   ]
  },
  {
   "cell_type": "code",
   "execution_count": 36,
   "metadata": {},
   "outputs": [
    {
     "name": "stdout",
     "output_type": "stream",
     "text": [
      "VaR 97.5% 1d: -1605894.394, ES 97.5% 1d: -2332376.66\n"
     ]
    }
   ],
   "source": [
    "print(f'VaR 97.5% 1d: {np.round(var_975_1d_hsm,3)}, ES 97.5% 1d: {np.round(es_975_1d_hsm,3)}')"
   ]
  },
  {
   "cell_type": "code",
   "execution_count": 37,
   "metadata": {},
   "outputs": [],
   "source": [
    "# at 99% confidence level\n",
    "var_990_1d_hsm = pf_losses[int(alphas[1]*len(pf_losses))]\n",
    "es_990_1d_hsm = pf_losses[0:int(alphas[1]*len(pf_losses))].mean()"
   ]
  },
  {
   "cell_type": "code",
   "execution_count": 38,
   "metadata": {},
   "outputs": [
    {
     "name": "stdout",
     "output_type": "stream",
     "text": [
      "VaR 99% 1d: -2314570.75, ES 99% 1d: -3059666.776\n"
     ]
    }
   ],
   "source": [
    "print(f'VaR 99% 1d: {np.round(var_990_1d_hsm,3)}, ES 99% 1d: {np.round(es_990_1d_hsm,3)}')"
   ]
  },
  {
   "cell_type": "markdown",
   "metadata": {},
   "source": [
    "#### Estimate VaR and ES, based on Constant Conditional Correlation method"
   ]
  },
  {
   "cell_type": "code",
   "execution_count": 100,
   "metadata": {},
   "outputs": [],
   "source": [
    "# Fill empty cells\n",
    "df_returns = df_returns.ffill().iloc[1:,:]\n",
    "\n",
    "# Rescale data for optimizing algorithm\n",
    "df_returns = df_returns"
   ]
  },
  {
   "cell_type": "code",
   "execution_count": 101,
   "metadata": {},
   "outputs": [
    {
     "data": {
      "text/plain": [
       "<matplotlib.axes._subplots.AxesSubplot at 0x1295158d0>"
      ]
     },
     "execution_count": 101,
     "metadata": {},
     "output_type": "execute_result"
    },
    {
     "data": {
      "image/png": "[encoded data removed]",
      "text/plain": [
       "<Figure size 432x288 with 1 Axes>"
      ]
     },
     "metadata": {
      "needs_background": "light"
     },
     "output_type": "display_data"
    }
   ],
   "source": [
    "df_returns['euribor3m'].plot()"
   ]
  },
  {
   "cell_type": "code",
   "execution_count": 102,
   "metadata": {},
   "outputs": [],
   "source": [
    "# Divide train and test split\n",
    "split_date = dt.datetime(2012,1,1)"
   ]
  },
  {
   "cell_type": "code",
   "execution_count": 66,
   "metadata": {},
   "outputs": [
    {
     "name": "stdout",
     "output_type": "stream",
     "text": [
      "Iteration:     10,   Func. Count:     66,   Neg. LLF: 1942.8902871714138\n",
      "Optimization terminated successfully.    (Exit mode 0)\n",
      "            Current function value: 1942.8902787751572\n",
      "            Iterations: 11\n",
      "            Function evaluations: 72\n",
      "            Gradient evaluations: 11\n",
      "Iteration:     10,   Func. Count:     67,   Neg. LLF: 2268.847773135488\n",
      "Optimization terminated successfully.    (Exit mode 0)\n",
      "            Current function value: 2268.8416963207956\n",
      "            Iterations: 13\n",
      "            Function evaluations: 86\n",
      "            Gradient evaluations: 13\n",
      "Optimization terminated successfully.    (Exit mode 0)\n",
      "            Current function value: 2001.2019927045687\n",
      "            Iterations: 9\n",
      "            Function evaluations: 60\n",
      "            Gradient evaluations: 9\n",
      "Optimization terminated successfully.    (Exit mode 0)\n",
      "            Current function value: 1970.1577436042735\n",
      "            Iterations: 8\n",
      "            Function evaluations: 55\n",
      "            Gradient evaluations: 8\n",
      "Iteration:     10,   Func. Count:     65,   Neg. LLF: 2038.0543529895094\n",
      "Optimization terminated successfully.    (Exit mode 0)\n",
      "            Current function value: 2038.000135005423\n",
      "            Iterations: 15\n",
      "            Function evaluations: 95\n",
      "            Gradient evaluations: 15\n"
     ]
    },
    {
     "data": {
      "image/png": "[encoded data removed]",
      "text/plain": [
       "<Figure size 432x288 with 1 Axes>"
      ]
     },
     "metadata": {
      "needs_background": "light"
     },
     "output_type": "display_data"
    },
    {
     "data": {
      "image/png": "[encoded data removed]",
      "text/plain": [
       "<Figure size 432x288 with 1 Axes>"
      ]
     },
     "metadata": {
      "needs_background": "light"
     },
     "output_type": "display_data"
    },
    {
     "data": {
      "image/png": "[encoded data removed]",
      "text/plain": [
       "<Figure size 432x288 with 1 Axes>"
      ]
     },
     "metadata": {
      "needs_background": "light"
     },
     "output_type": "display_data"
    },
    {
     "data": {
      "image/png": "[encoded data removed]",
      "text/plain": [
       "<Figure size 432x288 with 1 Axes>"
      ]
     },
     "metadata": {
      "needs_background": "light"
     },
     "output_type": "display_data"
    },
    {
     "data": {
      "image/png": "[encoded data removed]",
      "text/plain": [
       "<Figure size 432x288 with 1 Axes>"
      ]
     },
     "metadata": {
      "needs_background": "light"
     },
     "output_type": "display_data"
    }
   ],
   "source": [
    "from arch import arch_model\n",
    "\n",
    "# Create empty dict to store parameter values\n",
    "params_dict = {}\n",
    "\n",
    "# Create dataframe to store volatility forecasts\n",
    "variance_forecast = pd.DataFrame(index=df_returns.loc[split_date:end].index)\n",
    "\n",
    "# Fit GARCH(1,1) for each instrument\n",
    "for instrument in df_returns.iloc[:,0:5].columns:\n",
    "\n",
    "    garch11 = arch_model(df_returns[instrument], p=1, q=1, dist='Normal', vol='Garch')\n",
    "    res = garch11.fit(update_freq=10, last_obs=split_date)\n",
    "    \n",
    "    forecasts = res.forecast(start=split_date, method='simulation')\n",
    "    forecasts.variance[split_date:].plot();\n",
    "    \n",
    "    variance_forecast[instrument] = forecasts.variance[split_date:]\n",
    "    params_dict[instrument] = res.params"
   ]
  },
  {
   "cell_type": "code",
   "execution_count": 67,
   "metadata": {},
   "outputs": [
    {
     "data": {
      "text/html": [
       "<div>\n",
       "<style scoped>\n",
       "    .dataframe tbody tr th:only-of-type {\n",
       "        vertical-align: middle;\n",
       "    }\n",
       "\n",
       "    .dataframe tbody tr th {\n",
       "        vertical-align: top;\n",
       "    }\n",
       "\n",
       "    .dataframe thead th {\n",
       "        text-align: right;\n",
       "    }\n",
       "</style>\n",
       "<table border=\"1\" class=\"dataframe\">\n",
       "  <thead>\n",
       "    <tr style=\"text-align: right;\">\n",
       "      <th></th>\n",
       "      <th>DBA</th>\n",
       "      <th>EWQ</th>\n",
       "      <th>AEX</th>\n",
       "      <th>GSPC</th>\n",
       "      <th>N225</th>\n",
       "    </tr>\n",
       "    <tr>\n",
       "      <th>Date</th>\n",
       "      <th></th>\n",
       "      <th></th>\n",
       "      <th></th>\n",
       "      <th></th>\n",
       "      <th></th>\n",
       "    </tr>\n",
       "  </thead>\n",
       "  <tbody>\n",
       "    <tr>\n",
       "      <td>2012-01-02</td>\n",
       "      <td>81.784777</td>\n",
       "      <td>411.709330</td>\n",
       "      <td>163.230381</td>\n",
       "      <td>127.813467</td>\n",
       "      <td>99.834168</td>\n",
       "    </tr>\n",
       "    <tr>\n",
       "      <td>2012-01-03</td>\n",
       "      <td>80.509533</td>\n",
       "      <td>371.805087</td>\n",
       "      <td>146.369583</td>\n",
       "      <td>115.947199</td>\n",
       "      <td>99.723532</td>\n",
       "    </tr>\n",
       "    <tr>\n",
       "      <td>2012-01-04</td>\n",
       "      <td>79.671388</td>\n",
       "      <td>371.822611</td>\n",
       "      <td>145.585438</td>\n",
       "      <td>102.200987</td>\n",
       "      <td>99.651091</td>\n",
       "    </tr>\n",
       "    <tr>\n",
       "      <td>2012-01-05</td>\n",
       "      <td>132.769966</td>\n",
       "      <td>387.051993</td>\n",
       "      <td>138.335147</td>\n",
       "      <td>90.945206</td>\n",
       "      <td>107.115380</td>\n",
       "    </tr>\n",
       "    <tr>\n",
       "      <td>2012-01-06</td>\n",
       "      <td>115.809590</td>\n",
       "      <td>384.350757</td>\n",
       "      <td>124.277485</td>\n",
       "      <td>82.442432</td>\n",
       "      <td>126.554820</td>\n",
       "    </tr>\n",
       "    <tr>\n",
       "      <td>...</td>\n",
       "      <td>...</td>\n",
       "      <td>...</td>\n",
       "      <td>...</td>\n",
       "      <td>...</td>\n",
       "      <td>...</td>\n",
       "    </tr>\n",
       "    <tr>\n",
       "      <td>2018-12-19</td>\n",
       "      <td>78.761271</td>\n",
       "      <td>235.141048</td>\n",
       "      <td>148.662037</td>\n",
       "      <td>274.381762</td>\n",
       "      <td>185.689485</td>\n",
       "    </tr>\n",
       "    <tr>\n",
       "      <td>2018-12-20</td>\n",
       "      <td>77.976133</td>\n",
       "      <td>220.847844</td>\n",
       "      <td>183.148521</td>\n",
       "      <td>275.382973</td>\n",
       "      <td>328.899060</td>\n",
       "    </tr>\n",
       "    <tr>\n",
       "      <td>2018-12-21</td>\n",
       "      <td>84.746791</td>\n",
       "      <td>226.996419</td>\n",
       "      <td>162.803902</td>\n",
       "      <td>302.405162</td>\n",
       "      <td>269.306352</td>\n",
       "    </tr>\n",
       "    <tr>\n",
       "      <td>2018-12-27</td>\n",
       "      <td>83.467394</td>\n",
       "      <td>220.437331</td>\n",
       "      <td>185.367902</td>\n",
       "      <td>368.670524</td>\n",
       "      <td>206.958498</td>\n",
       "    </tr>\n",
       "    <tr>\n",
       "      <td>2018-12-28</td>\n",
       "      <td>82.008976</td>\n",
       "      <td>207.136569</td>\n",
       "      <td>197.384898</td>\n",
       "      <td>317.979430</td>\n",
       "      <td>163.976341</td>\n",
       "    </tr>\n",
       "  </tbody>\n",
       "</table>\n",
       "<p>1776 rows × 5 columns</p>\n",
       "</div>"
      ],
      "text/plain": [
       "                   DBA         EWQ         AEX        GSPC        N225\n",
       "Date                                                                  \n",
       "2012-01-02   81.784777  411.709330  163.230381  127.813467   99.834168\n",
       "2012-01-03   80.509533  371.805087  146.369583  115.947199   99.723532\n",
       "2012-01-04   79.671388  371.822611  145.585438  102.200987   99.651091\n",
       "2012-01-05  132.769966  387.051993  138.335147   90.945206  107.115380\n",
       "2012-01-06  115.809590  384.350757  124.277485   82.442432  126.554820\n",
       "...                ...         ...         ...         ...         ...\n",
       "2018-12-19   78.761271  235.141048  148.662037  274.381762  185.689485\n",
       "2018-12-20   77.976133  220.847844  183.148521  275.382973  328.899060\n",
       "2018-12-21   84.746791  226.996419  162.803902  302.405162  269.306352\n",
       "2018-12-27   83.467394  220.437331  185.367902  368.670524  206.958498\n",
       "2018-12-28   82.008976  207.136569  197.384898  317.979430  163.976341\n",
       "\n",
       "[1776 rows x 5 columns]"
      ]
     },
     "execution_count": 67,
     "metadata": {},
     "output_type": "execute_result"
    }
   ],
   "source": [
    "# Forecasted volatilities by GARCH(1,1)\n",
    "variance_forecast"
   ]
  },
  {
   "cell_type": "code",
   "execution_count": 68,
   "metadata": {},
   "outputs": [],
   "source": [
    "# Estimate constant correlation matrix and mean variance per risk factor\n",
    "cons_corr = np.array(df_returns[start:split_date].iloc[:,0:5].corr())\n",
    "mean_variance = np.array(vola_forecast.mean())"
   ]
  },
  {
   "cell_type": "code",
   "execution_count": 69,
   "metadata": {},
   "outputs": [],
   "source": [
    "vola_forecast = np.sqrt(variance_forecast)"
   ]
  },
  {
   "cell_type": "code",
   "execution_count": 73,
   "metadata": {},
   "outputs": [
    {
     "data": {
      "text/plain": [
       "array([[29.360289  ],\n",
       "       [45.64720234],\n",
       "       [41.792157  ],\n",
       "       [44.61744053],\n",
       "       [20.52498991]])"
      ]
     },
     "execution_count": 73,
     "metadata": {},
     "output_type": "execute_result"
    }
   ],
   "source": [
    "cons_corr.dot(vola_forecast[0:1].T)"
   ]
  },
  {
   "cell_type": "code",
   "execution_count": 71,
   "metadata": {},
   "outputs": [
    {
     "data": {
      "text/html": [
       "<div>\n",
       "<style scoped>\n",
       "    .dataframe tbody tr th:only-of-type {\n",
       "        vertical-align: middle;\n",
       "    }\n",
       "\n",
       "    .dataframe tbody tr th {\n",
       "        vertical-align: top;\n",
       "    }\n",
       "\n",
       "    .dataframe thead th {\n",
       "        text-align: right;\n",
       "    }\n",
       "</style>\n",
       "<table border=\"1\" class=\"dataframe\">\n",
       "  <thead>\n",
       "    <tr style=\"text-align: right;\">\n",
       "      <th></th>\n",
       "      <th>DBA</th>\n",
       "      <th>EWQ</th>\n",
       "      <th>AEX</th>\n",
       "      <th>GSPC</th>\n",
       "      <th>N225</th>\n",
       "    </tr>\n",
       "    <tr>\n",
       "      <th>Date</th>\n",
       "      <th></th>\n",
       "      <th></th>\n",
       "      <th></th>\n",
       "      <th></th>\n",
       "      <th></th>\n",
       "    </tr>\n",
       "  </thead>\n",
       "  <tbody>\n",
       "    <tr>\n",
       "      <td>2012-01-02</td>\n",
       "      <td>9.043494</td>\n",
       "      <td>20.290622</td>\n",
       "      <td>12.776165</td>\n",
       "      <td>11.305462</td>\n",
       "      <td>9.991705</td>\n",
       "    </tr>\n",
       "  </tbody>\n",
       "</table>\n",
       "</div>"
      ],
      "text/plain": [
       "                 DBA        EWQ        AEX       GSPC      N225\n",
       "Date                                                           \n",
       "2012-01-02  9.043494  20.290622  12.776165  11.305462  9.991705"
      ]
     },
     "execution_count": 71,
     "metadata": {},
     "output_type": "execute_result"
    }
   ],
   "source": [
    "vola_forecast[0:1]"
   ]
  },
  {
   "cell_type": "code",
   "execution_count": 74,
   "metadata": {},
   "outputs": [
    {
     "data": {
      "text/plain": [
       "array([[1.        , 0.45703139, 0.32906913, 0.46840153, 0.15448889],\n",
       "       [0.45703139, 1.        , 0.73466076, 0.90560794, 0.16002849],\n",
       "       [0.32906913, 0.73466076, 1.        , 0.70747156, 0.31376443],\n",
       "       [0.46840153, 0.90560794, 0.70747156, 1.        , 0.1663251 ],\n",
       "       [0.15448889, 0.16002849, 0.31376443, 0.1663251 , 1.        ]])"
      ]
     },
     "execution_count": 74,
     "metadata": {},
     "output_type": "execute_result"
    }
   ],
   "source": [
    "cons_corr"
   ]
  },
  {
   "cell_type": "code",
   "execution_count": null,
   "metadata": {},
   "outputs": [],
   "source": []
  },
  {
   "cell_type": "code",
   "execution_count": null,
   "metadata": {},
   "outputs": [],
   "source": []
  },
  {
   "cell_type": "markdown",
   "metadata": {},
   "source": [
    "#### Estimate VaR and ES, based on Filtered Historical Simulation method with EWMA for each risk factor ####"
   ]
  },
  {
   "cell_type": "code",
   "execution_count": 98,
   "metadata": {},
   "outputs": [
    {
     "data": {
      "text/html": [
       "<div>\n",
       "<style scoped>\n",
       "    .dataframe tbody tr th:only-of-type {\n",
       "        vertical-align: middle;\n",
       "    }\n",
       "\n",
       "    .dataframe tbody tr th {\n",
       "        vertical-align: top;\n",
       "    }\n",
       "\n",
       "    .dataframe thead th {\n",
       "        text-align: right;\n",
       "    }\n",
       "</style>\n",
       "<table border=\"1\" class=\"dataframe\">\n",
       "  <thead>\n",
       "    <tr style=\"text-align: right;\">\n",
       "      <th></th>\n",
       "      <th>DBA</th>\n",
       "      <th>EWQ</th>\n",
       "      <th>AEX</th>\n",
       "      <th>GSPC</th>\n",
       "      <th>N225</th>\n",
       "      <th>euribor3m</th>\n",
       "    </tr>\n",
       "    <tr>\n",
       "      <th>Date</th>\n",
       "      <th></th>\n",
       "      <th></th>\n",
       "      <th></th>\n",
       "      <th></th>\n",
       "      <th></th>\n",
       "      <th></th>\n",
       "    </tr>\n",
       "  </thead>\n",
       "  <tbody>\n",
       "    <tr>\n",
       "      <td>2010-01-05</td>\n",
       "      <td>6.323666</td>\n",
       "      <td>-2.607765</td>\n",
       "      <td>-2.948721</td>\n",
       "      <td>3.098294</td>\n",
       "      <td>2.499023</td>\n",
       "      <td>0.151130</td>\n",
       "    </tr>\n",
       "    <tr>\n",
       "      <td>2010-01-06</td>\n",
       "      <td>5.625580</td>\n",
       "      <td>4.799222</td>\n",
       "      <td>-1.657511</td>\n",
       "      <td>0.691239</td>\n",
       "      <td>4.562670</td>\n",
       "      <td>0.103593</td>\n",
       "    </tr>\n",
       "    <tr>\n",
       "      <td>2010-01-07</td>\n",
       "      <td>-6.958194</td>\n",
       "      <td>-3.900874</td>\n",
       "      <td>-2.663257</td>\n",
       "      <td>3.773287</td>\n",
       "      <td>-4.123613</td>\n",
       "      <td>0.148251</td>\n",
       "    </tr>\n",
       "    <tr>\n",
       "      <td>2010-01-08</td>\n",
       "      <td>2.402555</td>\n",
       "      <td>12.777183</td>\n",
       "      <td>3.669253</td>\n",
       "      <td>2.948838</td>\n",
       "      <td>9.943640</td>\n",
       "      <td>-0.038447</td>\n",
       "    </tr>\n",
       "    <tr>\n",
       "      <td>2010-01-11</td>\n",
       "      <td>-4.090750</td>\n",
       "      <td>8.768760</td>\n",
       "      <td>-3.691624</td>\n",
       "      <td>1.828811</td>\n",
       "      <td>10.787493</td>\n",
       "      <td>0.139705</td>\n",
       "    </tr>\n",
       "    <tr>\n",
       "      <td>...</td>\n",
       "      <td>...</td>\n",
       "      <td>...</td>\n",
       "      <td>...</td>\n",
       "      <td>...</td>\n",
       "      <td>...</td>\n",
       "      <td>...</td>\n",
       "    </tr>\n",
       "    <tr>\n",
       "      <td>2018-12-19</td>\n",
       "      <td>-1.665010</td>\n",
       "      <td>-7.831829</td>\n",
       "      <td>2.240460</td>\n",
       "      <td>-14.687038</td>\n",
       "      <td>-6.709961</td>\n",
       "      <td>0.077027</td>\n",
       "    </tr>\n",
       "    <tr>\n",
       "      <td>2018-12-20</td>\n",
       "      <td>-2.841562</td>\n",
       "      <td>-4.395243</td>\n",
       "      <td>-19.049891</td>\n",
       "      <td>-15.843703</td>\n",
       "      <td>-27.457032</td>\n",
       "      <td>0.051482</td>\n",
       "    </tr>\n",
       "    <tr>\n",
       "      <td>2018-12-21</td>\n",
       "      <td>-7.925287</td>\n",
       "      <td>-12.921714</td>\n",
       "      <td>-3.389443</td>\n",
       "      <td>-20.620819</td>\n",
       "      <td>-12.086564</td>\n",
       "      <td>0.003089</td>\n",
       "    </tr>\n",
       "    <tr>\n",
       "      <td>2018-12-27</td>\n",
       "      <td>3.947352</td>\n",
       "      <td>8.154898</td>\n",
       "      <td>-17.382977</td>\n",
       "      <td>26.207251</td>\n",
       "      <td>-4.831903</td>\n",
       "      <td>0.000185</td>\n",
       "    </tr>\n",
       "    <tr>\n",
       "      <td>2018-12-28</td>\n",
       "      <td>4.146106</td>\n",
       "      <td>4.089403</td>\n",
       "      <td>14.894945</td>\n",
       "      <td>0.397476</td>\n",
       "      <td>-3.245492</td>\n",
       "      <td>0.046869</td>\n",
       "    </tr>\n",
       "  </tbody>\n",
       "</table>\n",
       "<p>2288 rows × 6 columns</p>\n",
       "</div>"
      ],
      "text/plain": [
       "                 DBA        EWQ        AEX       GSPC       N225  euribor3m\n",
       "Date                                                                       \n",
       "2010-01-05  6.323666  -2.607765  -2.948721   3.098294   2.499023   0.151130\n",
       "2010-01-06  5.625580   4.799222  -1.657511   0.691239   4.562670   0.103593\n",
       "2010-01-07 -6.958194  -3.900874  -2.663257   3.773287  -4.123613   0.148251\n",
       "2010-01-08  2.402555  12.777183   3.669253   2.948838   9.943640  -0.038447\n",
       "2010-01-11 -4.090750   8.768760  -3.691624   1.828811  10.787493   0.139705\n",
       "...              ...        ...        ...        ...        ...        ...\n",
       "2018-12-19 -1.665010  -7.831829   2.240460 -14.687038  -6.709961   0.077027\n",
       "2018-12-20 -2.841562  -4.395243 -19.049891 -15.843703 -27.457032   0.051482\n",
       "2018-12-21 -7.925287 -12.921714  -3.389443 -20.620819 -12.086564   0.003089\n",
       "2018-12-27  3.947352   8.154898 -17.382977  26.207251  -4.831903   0.000185\n",
       "2018-12-28  4.146106   4.089403  14.894945   0.397476  -3.245492   0.046869\n",
       "\n",
       "[2288 rows x 6 columns]"
      ]
     },
     "execution_count": 98,
     "metadata": {},
     "output_type": "execute_result"
    }
   ],
   "source": [
    "df_returns.ewm(alpha = 0.94).mean()"
   ]
  },
  {
   "cell_type": "code",
   "execution_count": 99,
   "metadata": {},
   "outputs": [
    {
     "data": {
      "text/html": [
       "<div>\n",
       "<style scoped>\n",
       "    .dataframe tbody tr th:only-of-type {\n",
       "        vertical-align: middle;\n",
       "    }\n",
       "\n",
       "    .dataframe tbody tr th {\n",
       "        vertical-align: top;\n",
       "    }\n",
       "\n",
       "    .dataframe thead th {\n",
       "        text-align: right;\n",
       "    }\n",
       "</style>\n",
       "<table border=\"1\" class=\"dataframe\">\n",
       "  <thead>\n",
       "    <tr style=\"text-align: right;\">\n",
       "      <th></th>\n",
       "      <th>DBA</th>\n",
       "      <th>EWQ</th>\n",
       "      <th>AEX</th>\n",
       "      <th>GSPC</th>\n",
       "      <th>N225</th>\n",
       "      <th>euribor3m</th>\n",
       "    </tr>\n",
       "    <tr>\n",
       "      <th>Date</th>\n",
       "      <th></th>\n",
       "      <th></th>\n",
       "      <th></th>\n",
       "      <th></th>\n",
       "      <th></th>\n",
       "      <th></th>\n",
       "    </tr>\n",
       "  </thead>\n",
       "  <tbody>\n",
       "    <tr>\n",
       "      <td>2010-01-05</td>\n",
       "      <td>6.323666</td>\n",
       "      <td>-2.607765</td>\n",
       "      <td>-2.948721</td>\n",
       "      <td>3.098294</td>\n",
       "      <td>2.499023</td>\n",
       "      <td>0.151130</td>\n",
       "    </tr>\n",
       "    <tr>\n",
       "      <td>2010-01-06</td>\n",
       "      <td>5.583695</td>\n",
       "      <td>5.243641</td>\n",
       "      <td>-1.580038</td>\n",
       "      <td>0.546815</td>\n",
       "      <td>4.686488</td>\n",
       "      <td>0.100740</td>\n",
       "    </tr>\n",
       "    <tr>\n",
       "      <td>2010-01-07</td>\n",
       "      <td>-7.758522</td>\n",
       "      <td>-4.454200</td>\n",
       "      <td>-2.727222</td>\n",
       "      <td>3.969305</td>\n",
       "      <td>-4.676061</td>\n",
       "      <td>0.151092</td>\n",
       "    </tr>\n",
       "    <tr>\n",
       "      <td>2010-01-08</td>\n",
       "      <td>2.999921</td>\n",
       "      <td>13.841510</td>\n",
       "      <td>4.073368</td>\n",
       "      <td>2.896225</td>\n",
       "      <td>10.841355</td>\n",
       "      <td>-0.050361</td>\n",
       "    </tr>\n",
       "    <tr>\n",
       "      <td>2010-01-11</td>\n",
       "      <td>-4.505211</td>\n",
       "      <td>8.512906</td>\n",
       "      <td>-4.161461</td>\n",
       "      <td>1.757321</td>\n",
       "      <td>10.841355</td>\n",
       "      <td>0.151076</td>\n",
       "    </tr>\n",
       "    <tr>\n",
       "      <td>...</td>\n",
       "      <td>...</td>\n",
       "      <td>...</td>\n",
       "      <td>...</td>\n",
       "      <td>...</td>\n",
       "      <td>...</td>\n",
       "      <td>...</td>\n",
       "    </tr>\n",
       "    <tr>\n",
       "      <td>2018-12-19</td>\n",
       "      <td>-1.747550</td>\n",
       "      <td>-8.308029</td>\n",
       "      <td>3.109687</td>\n",
       "      <td>-15.550367</td>\n",
       "      <td>-6.055141</td>\n",
       "      <td>0.099711</td>\n",
       "    </tr>\n",
       "    <tr>\n",
       "      <td>2018-12-20</td>\n",
       "      <td>-2.916661</td>\n",
       "      <td>-4.175886</td>\n",
       "      <td>-20.408849</td>\n",
       "      <td>-15.917533</td>\n",
       "      <td>-28.781313</td>\n",
       "      <td>0.049852</td>\n",
       "    </tr>\n",
       "    <tr>\n",
       "      <td>2018-12-21</td>\n",
       "      <td>-8.249780</td>\n",
       "      <td>-13.465957</td>\n",
       "      <td>-2.389840</td>\n",
       "      <td>-20.925741</td>\n",
       "      <td>-11.105470</td>\n",
       "      <td>0.000000</td>\n",
       "    </tr>\n",
       "    <tr>\n",
       "      <td>2018-12-27</td>\n",
       "      <td>4.705180</td>\n",
       "      <td>9.500213</td>\n",
       "      <td>-18.276182</td>\n",
       "      <td>29.196276</td>\n",
       "      <td>-4.368840</td>\n",
       "      <td>0.000000</td>\n",
       "    </tr>\n",
       "    <tr>\n",
       "      <td>2018-12-28</td>\n",
       "      <td>4.158793</td>\n",
       "      <td>3.829904</td>\n",
       "      <td>16.955238</td>\n",
       "      <td>-1.249957</td>\n",
       "      <td>-3.144232</td>\n",
       "      <td>0.049849</td>\n",
       "    </tr>\n",
       "  </tbody>\n",
       "</table>\n",
       "<p>2288 rows × 6 columns</p>\n",
       "</div>"
      ],
      "text/plain": [
       "                 DBA        EWQ        AEX       GSPC       N225  euribor3m\n",
       "Date                                                                       \n",
       "2010-01-05  6.323666  -2.607765  -2.948721   3.098294   2.499023   0.151130\n",
       "2010-01-06  5.583695   5.243641  -1.580038   0.546815   4.686488   0.100740\n",
       "2010-01-07 -7.758522  -4.454200  -2.727222   3.969305  -4.676061   0.151092\n",
       "2010-01-08  2.999921  13.841510   4.073368   2.896225  10.841355  -0.050361\n",
       "2010-01-11 -4.505211   8.512906  -4.161461   1.757321  10.841355   0.151076\n",
       "...              ...        ...        ...        ...        ...        ...\n",
       "2018-12-19 -1.747550  -8.308029   3.109687 -15.550367  -6.055141   0.099711\n",
       "2018-12-20 -2.916661  -4.175886 -20.408849 -15.917533 -28.781313   0.049852\n",
       "2018-12-21 -8.249780 -13.465957  -2.389840 -20.925741 -11.105470   0.000000\n",
       "2018-12-27  4.705180   9.500213 -18.276182  29.196276  -4.368840   0.000000\n",
       "2018-12-28  4.158793   3.829904  16.955238  -1.249957  -3.144232   0.049849\n",
       "\n",
       "[2288 rows x 6 columns]"
      ]
     },
     "execution_count": 99,
     "metadata": {},
     "output_type": "execute_result"
    }
   ],
   "source": [
    "df_returns"
   ]
  },
  {
   "cell_type": "code",
   "execution_count": null,
   "metadata": {},
   "outputs": [],
   "source": []
  },
  {
   "cell_type": "code",
   "execution_count": null,
   "metadata": {},
   "outputs": [],
   "source": []
  },
  {
   "cell_type": "code",
   "execution_count": null,
   "metadata": {},
   "outputs": [],
   "source": []
  },
  {
   "cell_type": "code",
   "execution_count": null,
   "metadata": {},
   "outputs": [],
   "source": []
  },
  {
   "cell_type": "code",
   "execution_count": null,
   "metadata": {},
   "outputs": [],
   "source": []
  }
 ],
 "metadata": {
  "kernelspec": {
   "display_name": "Python 3",
   "language": "python",
   "name": "python3"
  },
  "language_info": {
   "codemirror_mode": {
    "name": "ipython",
    "version": 3
   },
   "file_extension": ".py",
   "mimetype": "text/x-python",
   "name": "python",
   "nbconvert_exporter": "python",
   "pygments_lexer": "ipython3",
   "version": "3.7.4"
  }
 },
 "nbformat": 4,
 "nbformat_minor": 4
}
