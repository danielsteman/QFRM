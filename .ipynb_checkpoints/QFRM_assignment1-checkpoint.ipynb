{
 "cells": [
  {
   "cell_type": "code",
   "execution_count": 1,
   "metadata": {},
   "outputs": [],
   "source": [
    "# Data processing\n",
    "import numpy as np\n",
    "import pandas as pd\n",
    "\n",
    "# Download data\n",
    "import yfinance as yf\n",
    "\n",
    "from scipy.stats import norm\n",
    "import statsmodels.api as sm\n",
    "from matplotlib import pyplot as plt"
   ]
  },
  {
   "cell_type": "code",
   "execution_count": 2,
   "metadata": {},
   "outputs": [],
   "source": [
    "# Initial investment and currency per stock\n",
    "\n",
    "# in dollar values initially?\n",
    "\n",
    "principle = 100000000 #100mil\n",
    "\n",
    "# initial weights\n",
    "\n",
    "# for respective instruments, and 10% for cash\n",
    "weights = np.array([0.1,0.2,0.2,0.2,0.2, 0.1])\n",
    "\n",
    "investment = {\n",
    "    \"DBA\" : [10000000, 'USD'], # iPath Pure Beta Broad Commodity ETN (BCM)\n",
    "    \"EWQ\" : [20000000, 'USD'], # iShares MSCI France ETF, NYSE, USD\n",
    "    \"^AEX\"  : [20000000, 'EUR'], # AEX Index\n",
    "    \"^GSPC\" : [20000000, 'USD'], # S&P 500 Index\n",
    "    \"^N225\" : [20000000, 'JPY'] # Nikkei 225\n",
    "}\n",
    "\n",
    "start = \"2010-01-01\"\n",
    "end = \"2018-12-31\""
   ]
  },
  {
   "cell_type": "code",
   "execution_count": 3,
   "metadata": {},
   "outputs": [
    {
     "name": "stdout",
     "output_type": "stream",
     "text": [
      "[*********************100%***********************]  5 of 5 completed\n"
     ]
    }
   ],
   "source": [
    "# Download data and store in dataframe\n",
    "\n",
    "instruments_data = yf.download(' '.join(list(investment.keys())), start=start, end=end, groupby='ticker')\n",
    "instruments = instruments_data['Adj Close']"
   ]
  },
  {
   "cell_type": "code",
   "execution_count": 4,
   "metadata": {},
   "outputs": [],
   "source": [
    "# Create exchange rate ticker list based on initial investment data\n",
    "currencies = list(set(['EUR' + i[1] + '=X' for i in investment.values()]))\n",
    "\n",
    "# Remove EUR-EUR exchange rate\n",
    "for currency in currencies:\n",
    "    if currency[0:2] == currency[3:5]:\n",
    "        currencies.remove(currency)\n",
    "        \n",
    "currencies = \" \".join(currencies)"
   ]
  },
  {
   "cell_type": "code",
   "execution_count": 5,
   "metadata": {},
   "outputs": [
    {
     "name": "stdout",
     "output_type": "stream",
     "text": [
      "[*********************100%***********************]  2 of 2 completed\n"
     ]
    },
    {
     "data": {
      "text/html": [
       "<div>\n",
       "<style scoped>\n",
       "    .dataframe tbody tr th:only-of-type {\n",
       "        vertical-align: middle;\n",
       "    }\n",
       "\n",
       "    .dataframe tbody tr th {\n",
       "        vertical-align: top;\n",
       "    }\n",
       "\n",
       "    .dataframe thead th {\n",
       "        text-align: right;\n",
       "    }\n",
       "</style>\n",
       "<table border=\"1\" class=\"dataframe\">\n",
       "  <thead>\n",
       "    <tr style=\"text-align: right;\">\n",
       "      <th></th>\n",
       "      <th>EURJPY=X</th>\n",
       "      <th>EURUSD=X</th>\n",
       "    </tr>\n",
       "    <tr>\n",
       "      <th>Date</th>\n",
       "      <th></th>\n",
       "      <th></th>\n",
       "    </tr>\n",
       "  </thead>\n",
       "  <tbody>\n",
       "    <tr>\n",
       "      <td>2018-12-24</td>\n",
       "      <td>126.292000</td>\n",
       "      <td>1.137281</td>\n",
       "    </tr>\n",
       "    <tr>\n",
       "      <td>2018-12-25</td>\n",
       "      <td>125.769997</td>\n",
       "      <td>1.140394</td>\n",
       "    </tr>\n",
       "    <tr>\n",
       "      <td>2018-12-26</td>\n",
       "      <td>126.001999</td>\n",
       "      <td>1.141553</td>\n",
       "    </tr>\n",
       "    <tr>\n",
       "      <td>2018-12-27</td>\n",
       "      <td>126.404999</td>\n",
       "      <td>1.136131</td>\n",
       "    </tr>\n",
       "    <tr>\n",
       "      <td>2018-12-28</td>\n",
       "      <td>126.767998</td>\n",
       "      <td>1.143105</td>\n",
       "    </tr>\n",
       "  </tbody>\n",
       "</table>\n",
       "</div>"
      ],
      "text/plain": [
       "              EURJPY=X  EURUSD=X\n",
       "Date                            \n",
       "2018-12-24  126.292000  1.137281\n",
       "2018-12-25  125.769997  1.140394\n",
       "2018-12-26  126.001999  1.141553\n",
       "2018-12-27  126.404999  1.136131\n",
       "2018-12-28  126.767998  1.143105"
      ]
     },
     "execution_count": 5,
     "metadata": {},
     "output_type": "execute_result"
    }
   ],
   "source": [
    "# Download exchange rate data\n",
    "exchangerate_data = yf.download(currencies, start=start, end=end, groupby='ticker')\n",
    "exchangerate = exchangerate_data['Adj Close']\n",
    "exchangerate.tail()"
   ]
  },
  {
   "cell_type": "code",
   "execution_count": 6,
   "metadata": {},
   "outputs": [],
   "source": [
    "# invest in Euribor 3m future, exposure to interest rates\n",
    "\n",
    "euribor3m_future = pd.read_excel('data/euribor_FEU300-EUR.xlsx')\n",
    "euribor3m = euribor3m_future['Last']\n"
   ]
  },
  {
   "cell_type": "code",
   "execution_count": 7,
   "metadata": {},
   "outputs": [],
   "source": [
    "# Make index datetime\n",
    "euribor3m.index = pd.to_datetime(euribor3m_future.Date)"
   ]
  },
  {
   "cell_type": "code",
   "execution_count": 8,
   "metadata": {},
   "outputs": [],
   "source": [
    "euribor3m = euribor3m.iloc[::-1]\n",
    "euribor3m = euribor3m[start:end]"
   ]
  },
  {
   "cell_type": "code",
   "execution_count": 9,
   "metadata": {},
   "outputs": [
    {
     "data": {
      "text/html": [
       "<div>\n",
       "<style scoped>\n",
       "    .dataframe tbody tr th:only-of-type {\n",
       "        vertical-align: middle;\n",
       "    }\n",
       "\n",
       "    .dataframe tbody tr th {\n",
       "        vertical-align: top;\n",
       "    }\n",
       "\n",
       "    .dataframe thead th {\n",
       "        text-align: right;\n",
       "    }\n",
       "</style>\n",
       "<table border=\"1\" class=\"dataframe\">\n",
       "  <thead>\n",
       "    <tr style=\"text-align: right;\">\n",
       "      <th></th>\n",
       "      <th>DBA</th>\n",
       "      <th>EWQ</th>\n",
       "      <th>^AEX</th>\n",
       "      <th>^GSPC</th>\n",
       "      <th>^N225</th>\n",
       "    </tr>\n",
       "    <tr>\n",
       "      <th>Date</th>\n",
       "      <th></th>\n",
       "      <th></th>\n",
       "      <th></th>\n",
       "      <th></th>\n",
       "      <th></th>\n",
       "    </tr>\n",
       "  </thead>\n",
       "  <tbody>\n",
       "    <tr>\n",
       "      <td>2009-12-31</td>\n",
       "      <td>25.755527</td>\n",
       "      <td>19.757006</td>\n",
       "      <td>NaN</td>\n",
       "      <td>1115.099976</td>\n",
       "      <td>NaN</td>\n",
       "    </tr>\n",
       "    <tr>\n",
       "      <td>2010-01-04</td>\n",
       "      <td>25.999054</td>\n",
       "      <td>20.460157</td>\n",
       "      <td>343.029999</td>\n",
       "      <td>1132.989990</td>\n",
       "      <td>10654.790039</td>\n",
       "    </tr>\n",
       "    <tr>\n",
       "      <td>2010-01-05</td>\n",
       "      <td>26.164654</td>\n",
       "      <td>20.406656</td>\n",
       "      <td>342.019989</td>\n",
       "      <td>1136.520020</td>\n",
       "      <td>10681.830078</td>\n",
       "    </tr>\n",
       "    <tr>\n",
       "      <td>2010-01-06</td>\n",
       "      <td>26.310770</td>\n",
       "      <td>20.513659</td>\n",
       "      <td>341.480011</td>\n",
       "      <td>1137.140015</td>\n",
       "      <td>10731.450195</td>\n",
       "    </tr>\n",
       "    <tr>\n",
       "      <td>2010-01-07</td>\n",
       "      <td>26.106207</td>\n",
       "      <td>20.421942</td>\n",
       "      <td>340.549988</td>\n",
       "      <td>1141.689941</td>\n",
       "      <td>10681.660156</td>\n",
       "    </tr>\n",
       "    <tr>\n",
       "      <td>...</td>\n",
       "      <td>...</td>\n",
       "      <td>...</td>\n",
       "      <td>...</td>\n",
       "      <td>...</td>\n",
       "      <td>...</td>\n",
       "    </tr>\n",
       "    <tr>\n",
       "      <td>2018-12-24</td>\n",
       "      <td>16.687899</td>\n",
       "      <td>24.885502</td>\n",
       "      <td>478.339996</td>\n",
       "      <td>2351.100098</td>\n",
       "      <td>NaN</td>\n",
       "    </tr>\n",
       "    <tr>\n",
       "      <td>2018-12-25</td>\n",
       "      <td>NaN</td>\n",
       "      <td>NaN</td>\n",
       "      <td>NaN</td>\n",
       "      <td>NaN</td>\n",
       "      <td>19155.740234</td>\n",
       "    </tr>\n",
       "    <tr>\n",
       "      <td>2018-12-26</td>\n",
       "      <td>16.697742</td>\n",
       "      <td>25.567028</td>\n",
       "      <td>NaN</td>\n",
       "      <td>2467.699951</td>\n",
       "      <td>19327.060547</td>\n",
       "    </tr>\n",
       "    <tr>\n",
       "      <td>2018-12-27</td>\n",
       "      <td>16.638670</td>\n",
       "      <td>25.528084</td>\n",
       "      <td>476.029999</td>\n",
       "      <td>2488.830078</td>\n",
       "      <td>20077.619141</td>\n",
       "    </tr>\n",
       "    <tr>\n",
       "      <td>2018-12-28</td>\n",
       "      <td>16.707588</td>\n",
       "      <td>25.625444</td>\n",
       "      <td>484.170013</td>\n",
       "      <td>2485.739990</td>\n",
       "      <td>20014.769531</td>\n",
       "    </tr>\n",
       "  </tbody>\n",
       "</table>\n",
       "<p>2341 rows × 5 columns</p>\n",
       "</div>"
      ],
      "text/plain": [
       "                  DBA        EWQ        ^AEX        ^GSPC         ^N225\n",
       "Date                                                                   \n",
       "2009-12-31  25.755527  19.757006         NaN  1115.099976           NaN\n",
       "2010-01-04  25.999054  20.460157  343.029999  1132.989990  10654.790039\n",
       "2010-01-05  26.164654  20.406656  342.019989  1136.520020  10681.830078\n",
       "2010-01-06  26.310770  20.513659  341.480011  1137.140015  10731.450195\n",
       "2010-01-07  26.106207  20.421942  340.549988  1141.689941  10681.660156\n",
       "...               ...        ...         ...          ...           ...\n",
       "2018-12-24  16.687899  24.885502  478.339996  2351.100098           NaN\n",
       "2018-12-25        NaN        NaN         NaN          NaN  19155.740234\n",
       "2018-12-26  16.697742  25.567028         NaN  2467.699951  19327.060547\n",
       "2018-12-27  16.638670  25.528084  476.029999  2488.830078  20077.619141\n",
       "2018-12-28  16.707588  25.625444  484.170013  2485.739990  20014.769531\n",
       "\n",
       "[2341 rows x 5 columns]"
      ]
     },
     "execution_count": 9,
     "metadata": {},
     "output_type": "execute_result"
    }
   ],
   "source": [
    "# invest in stock (and commodity) indices (by investing in mutual funds)? ETFs?\n",
    "\n",
    "\n",
    "instruments"
   ]
  },
  {
   "cell_type": "markdown",
   "metadata": {},
   "source": [
    "### Step2: \n",
    "Implement and backtest VaR and ES for the two abovementioned confidence levels and 1-day horizon using the following methods:"
   ]
  },
  {
   "cell_type": "code",
   "execution_count": 10,
   "metadata": {},
   "outputs": [],
   "source": [
    "from functools import reduce"
   ]
  },
  {
   "cell_type": "code",
   "execution_count": 11,
   "metadata": {},
   "outputs": [],
   "source": [
    "# merge the instrument prices, exchange rates, and euribor into one dataframe\n",
    "dfs = [instruments, exchangerate, euribor3m]\n",
    "df_pf = reduce(lambda left,right: pd.merge(left,right,left_index=True, right_index=True), dfs)\n",
    "df_pf = df_pf.rename(columns={5: 'euribor3m', '^AEX':'AEX', '^GSPC':'GSPC','^N225':'N225', 'Last':'euribor3m'})\n",
    "\n",
    "# drop na\n",
    "df_pf = df_pf.dropna()"
   ]
  },
  {
   "cell_type": "code",
   "execution_count": 12,
   "metadata": {},
   "outputs": [],
   "source": [
    "instrument_names = list(df_pf.columns[:5])\n",
    "instrument_names.append('euribor3m')"
   ]
  },
  {
   "cell_type": "code",
   "execution_count": null,
   "metadata": {},
   "outputs": [],
   "source": []
  },
  {
   "cell_type": "code",
   "execution_count": 13,
   "metadata": {},
   "outputs": [
    {
     "data": {
      "text/html": [
       "<div>\n",
       "<style scoped>\n",
       "    .dataframe tbody tr th:only-of-type {\n",
       "        vertical-align: middle;\n",
       "    }\n",
       "\n",
       "    .dataframe tbody tr th {\n",
       "        vertical-align: top;\n",
       "    }\n",
       "\n",
       "    .dataframe thead th {\n",
       "        text-align: right;\n",
       "    }\n",
       "</style>\n",
       "<table border=\"1\" class=\"dataframe\">\n",
       "  <thead>\n",
       "    <tr style=\"text-align: right;\">\n",
       "      <th></th>\n",
       "      <th>DBA</th>\n",
       "      <th>EWQ</th>\n",
       "      <th>AEX</th>\n",
       "      <th>GSPC</th>\n",
       "      <th>N225</th>\n",
       "      <th>EURJPY=X</th>\n",
       "      <th>EURUSD=X</th>\n",
       "      <th>euribor3m</th>\n",
       "    </tr>\n",
       "    <tr>\n",
       "      <th>Date</th>\n",
       "      <th></th>\n",
       "      <th></th>\n",
       "      <th></th>\n",
       "      <th></th>\n",
       "      <th></th>\n",
       "      <th></th>\n",
       "      <th></th>\n",
       "      <th></th>\n",
       "    </tr>\n",
       "  </thead>\n",
       "  <tbody>\n",
       "    <tr>\n",
       "      <td>2010-01-04</td>\n",
       "      <td>25.999054</td>\n",
       "      <td>20.460157</td>\n",
       "      <td>343.029999</td>\n",
       "      <td>1132.989990</td>\n",
       "      <td>10654.790039</td>\n",
       "      <td>133.389999</td>\n",
       "      <td>1.442398</td>\n",
       "      <td>99.245</td>\n",
       "    </tr>\n",
       "    <tr>\n",
       "      <td>2010-01-05</td>\n",
       "      <td>26.164654</td>\n",
       "      <td>20.406656</td>\n",
       "      <td>342.019989</td>\n",
       "      <td>1136.520020</td>\n",
       "      <td>10681.830078</td>\n",
       "      <td>131.529999</td>\n",
       "      <td>1.436596</td>\n",
       "      <td>99.260</td>\n",
       "    </tr>\n",
       "    <tr>\n",
       "      <td>2010-01-06</td>\n",
       "      <td>26.310770</td>\n",
       "      <td>20.513659</td>\n",
       "      <td>341.480011</td>\n",
       "      <td>1137.140015</td>\n",
       "      <td>10731.450195</td>\n",
       "      <td>133.013000</td>\n",
       "      <td>1.440403</td>\n",
       "      <td>99.270</td>\n",
       "    </tr>\n",
       "    <tr>\n",
       "      <td>2010-01-07</td>\n",
       "      <td>26.106207</td>\n",
       "      <td>20.421942</td>\n",
       "      <td>340.549988</td>\n",
       "      <td>1141.689941</td>\n",
       "      <td>10681.660156</td>\n",
       "      <td>133.748001</td>\n",
       "      <td>1.431803</td>\n",
       "      <td>99.285</td>\n",
       "    </tr>\n",
       "    <tr>\n",
       "      <td>2010-01-08</td>\n",
       "      <td>26.184135</td>\n",
       "      <td>20.704733</td>\n",
       "      <td>341.940002</td>\n",
       "      <td>1144.979980</td>\n",
       "      <td>10798.320312</td>\n",
       "      <td>133.490005</td>\n",
       "      <td>1.441109</td>\n",
       "      <td>99.280</td>\n",
       "    </tr>\n",
       "    <tr>\n",
       "      <td>...</td>\n",
       "      <td>...</td>\n",
       "      <td>...</td>\n",
       "      <td>...</td>\n",
       "      <td>...</td>\n",
       "      <td>...</td>\n",
       "      <td>...</td>\n",
       "      <td>...</td>\n",
       "      <td>...</td>\n",
       "    </tr>\n",
       "    <tr>\n",
       "      <td>2018-12-19</td>\n",
       "      <td>16.744989</td>\n",
       "      <td>25.732544</td>\n",
       "      <td>495.989990</td>\n",
       "      <td>2506.959961</td>\n",
       "      <td>20987.919922</td>\n",
       "      <td>127.994003</td>\n",
       "      <td>1.137540</td>\n",
       "      <td>100.295</td>\n",
       "    </tr>\n",
       "    <tr>\n",
       "      <td>2018-12-20</td>\n",
       "      <td>16.696281</td>\n",
       "      <td>25.625444</td>\n",
       "      <td>485.970001</td>\n",
       "      <td>2467.419922</td>\n",
       "      <td>20392.580078</td>\n",
       "      <td>128.018005</td>\n",
       "      <td>1.138952</td>\n",
       "      <td>100.300</td>\n",
       "    </tr>\n",
       "    <tr>\n",
       "      <td>2018-12-21</td>\n",
       "      <td>16.559908</td>\n",
       "      <td>25.284681</td>\n",
       "      <td>484.809998</td>\n",
       "      <td>2416.620117</td>\n",
       "      <td>20166.189453</td>\n",
       "      <td>127.351997</td>\n",
       "      <td>1.145685</td>\n",
       "      <td>100.300</td>\n",
       "    </tr>\n",
       "    <tr>\n",
       "      <td>2018-12-27</td>\n",
       "      <td>16.638670</td>\n",
       "      <td>25.528084</td>\n",
       "      <td>476.029999</td>\n",
       "      <td>2488.830078</td>\n",
       "      <td>20077.619141</td>\n",
       "      <td>126.404999</td>\n",
       "      <td>1.136131</td>\n",
       "      <td>100.300</td>\n",
       "    </tr>\n",
       "    <tr>\n",
       "      <td>2018-12-28</td>\n",
       "      <td>16.707588</td>\n",
       "      <td>25.625444</td>\n",
       "      <td>484.170013</td>\n",
       "      <td>2485.739990</td>\n",
       "      <td>20014.769531</td>\n",
       "      <td>126.767998</td>\n",
       "      <td>1.143105</td>\n",
       "      <td>100.305</td>\n",
       "    </tr>\n",
       "  </tbody>\n",
       "</table>\n",
       "<p>2104 rows × 8 columns</p>\n",
       "</div>"
      ],
      "text/plain": [
       "                  DBA        EWQ         AEX         GSPC          N225  \\\n",
       "Date                                                                      \n",
       "2010-01-04  25.999054  20.460157  343.029999  1132.989990  10654.790039   \n",
       "2010-01-05  26.164654  20.406656  342.019989  1136.520020  10681.830078   \n",
       "2010-01-06  26.310770  20.513659  341.480011  1137.140015  10731.450195   \n",
       "2010-01-07  26.106207  20.421942  340.549988  1141.689941  10681.660156   \n",
       "2010-01-08  26.184135  20.704733  341.940002  1144.979980  10798.320312   \n",
       "...               ...        ...         ...          ...           ...   \n",
       "2018-12-19  16.744989  25.732544  495.989990  2506.959961  20987.919922   \n",
       "2018-12-20  16.696281  25.625444  485.970001  2467.419922  20392.580078   \n",
       "2018-12-21  16.559908  25.284681  484.809998  2416.620117  20166.189453   \n",
       "2018-12-27  16.638670  25.528084  476.029999  2488.830078  20077.619141   \n",
       "2018-12-28  16.707588  25.625444  484.170013  2485.739990  20014.769531   \n",
       "\n",
       "              EURJPY=X  EURUSD=X  euribor3m  \n",
       "Date                                         \n",
       "2010-01-04  133.389999  1.442398     99.245  \n",
       "2010-01-05  131.529999  1.436596     99.260  \n",
       "2010-01-06  133.013000  1.440403     99.270  \n",
       "2010-01-07  133.748001  1.431803     99.285  \n",
       "2010-01-08  133.490005  1.441109     99.280  \n",
       "...                ...       ...        ...  \n",
       "2018-12-19  127.994003  1.137540    100.295  \n",
       "2018-12-20  128.018005  1.138952    100.300  \n",
       "2018-12-21  127.351997  1.145685    100.300  \n",
       "2018-12-27  126.404999  1.136131    100.300  \n",
       "2018-12-28  126.767998  1.143105    100.305  \n",
       "\n",
       "[2104 rows x 8 columns]"
      ]
     },
     "execution_count": 13,
     "metadata": {},
     "output_type": "execute_result"
    }
   ],
   "source": [
    "# drop nas \n",
    "df_pf"
   ]
  },
  {
   "cell_type": "code",
   "execution_count": 14,
   "metadata": {},
   "outputs": [],
   "source": [
    "df_returns_all = np.log(df_pf[instrument_names])- np.log(df_pf[instrument_names].shift())\n",
    "\n",
    "df_returns_all['euribor3m'] = np.log(df_pf['euribor3m'])- np.log(df_pf['euribor3m'].shift()) # negative rates?\n",
    "\n",
    "# calculate the FX returns, and use them to adjust the foreign currency denominated indices\n",
    "df_returns_all['EURJPY_ret'] = np.log(df_pf['EURJPY=X'])- np.log(df_pf['EURJPY=X'].shift())\n",
    "df_returns_all['EURUSD_ret'] = np.log(df_pf['EURUSD=X'])- np.log(df_pf['EURUSD=X'].shift())"
   ]
  },
  {
   "cell_type": "code",
   "execution_count": 15,
   "metadata": {},
   "outputs": [],
   "source": [
    "df_returns_all = df_returns_all.dropna()"
   ]
  },
  {
   "cell_type": "code",
   "execution_count": 16,
   "metadata": {},
   "outputs": [],
   "source": [
    "# select the estimation period\n",
    "df_returns = df_returns_all[instrument_names][:]\n"
   ]
  },
  {
   "cell_type": "code",
   "execution_count": 17,
   "metadata": {},
   "outputs": [
    {
     "data": {
      "text/html": [
       "<div>\n",
       "<style scoped>\n",
       "    .dataframe tbody tr th:only-of-type {\n",
       "        vertical-align: middle;\n",
       "    }\n",
       "\n",
       "    .dataframe tbody tr th {\n",
       "        vertical-align: top;\n",
       "    }\n",
       "\n",
       "    .dataframe thead th {\n",
       "        text-align: right;\n",
       "    }\n",
       "</style>\n",
       "<table border=\"1\" class=\"dataframe\">\n",
       "  <thead>\n",
       "    <tr style=\"text-align: right;\">\n",
       "      <th></th>\n",
       "      <th>DBA</th>\n",
       "      <th>EWQ</th>\n",
       "      <th>AEX</th>\n",
       "      <th>GSPC</th>\n",
       "      <th>N225</th>\n",
       "      <th>euribor3m</th>\n",
       "    </tr>\n",
       "    <tr>\n",
       "      <th>Date</th>\n",
       "      <th></th>\n",
       "      <th></th>\n",
       "      <th></th>\n",
       "      <th></th>\n",
       "      <th></th>\n",
       "      <th></th>\n",
       "    </tr>\n",
       "  </thead>\n",
       "  <tbody>\n",
       "    <tr>\n",
       "      <td>2010-01-05</td>\n",
       "      <td>0.006349</td>\n",
       "      <td>-0.002618</td>\n",
       "      <td>-0.002949</td>\n",
       "      <td>0.003111</td>\n",
       "      <td>0.002535</td>\n",
       "      <td>0.000151</td>\n",
       "    </tr>\n",
       "    <tr>\n",
       "      <td>2010-01-06</td>\n",
       "      <td>0.005569</td>\n",
       "      <td>0.005230</td>\n",
       "      <td>-0.001580</td>\n",
       "      <td>0.000545</td>\n",
       "      <td>0.004635</td>\n",
       "      <td>0.000101</td>\n",
       "    </tr>\n",
       "    <tr>\n",
       "      <td>2010-01-07</td>\n",
       "      <td>-0.007805</td>\n",
       "      <td>-0.004481</td>\n",
       "      <td>-0.002727</td>\n",
       "      <td>0.003993</td>\n",
       "      <td>-0.004650</td>\n",
       "      <td>0.000151</td>\n",
       "    </tr>\n",
       "    <tr>\n",
       "      <td>2010-01-08</td>\n",
       "      <td>0.002981</td>\n",
       "      <td>0.013752</td>\n",
       "      <td>0.004073</td>\n",
       "      <td>0.002878</td>\n",
       "      <td>0.010862</td>\n",
       "      <td>-0.000050</td>\n",
       "    </tr>\n",
       "    <tr>\n",
       "      <td>2010-01-12</td>\n",
       "      <td>-0.022955</td>\n",
       "      <td>-0.010390</td>\n",
       "      <td>-0.015235</td>\n",
       "      <td>-0.007680</td>\n",
       "      <td>0.007457</td>\n",
       "      <td>0.000252</td>\n",
       "    </tr>\n",
       "    <tr>\n",
       "      <td>...</td>\n",
       "      <td>...</td>\n",
       "      <td>...</td>\n",
       "      <td>...</td>\n",
       "      <td>...</td>\n",
       "      <td>...</td>\n",
       "      <td>...</td>\n",
       "    </tr>\n",
       "    <tr>\n",
       "      <td>2018-12-19</td>\n",
       "      <td>-0.001744</td>\n",
       "      <td>-0.008289</td>\n",
       "      <td>0.003110</td>\n",
       "      <td>-0.015515</td>\n",
       "      <td>-0.006058</td>\n",
       "      <td>0.000100</td>\n",
       "    </tr>\n",
       "    <tr>\n",
       "      <td>2018-12-20</td>\n",
       "      <td>-0.002913</td>\n",
       "      <td>-0.004171</td>\n",
       "      <td>-0.020409</td>\n",
       "      <td>-0.015898</td>\n",
       "      <td>-0.028776</td>\n",
       "      <td>0.000050</td>\n",
       "    </tr>\n",
       "    <tr>\n",
       "      <td>2018-12-21</td>\n",
       "      <td>-0.008201</td>\n",
       "      <td>-0.013387</td>\n",
       "      <td>-0.002390</td>\n",
       "      <td>-0.020803</td>\n",
       "      <td>-0.011164</td>\n",
       "      <td>0.000000</td>\n",
       "    </tr>\n",
       "    <tr>\n",
       "      <td>2018-12-27</td>\n",
       "      <td>0.004745</td>\n",
       "      <td>0.009580</td>\n",
       "      <td>-0.018276</td>\n",
       "      <td>0.029443</td>\n",
       "      <td>-0.004402</td>\n",
       "      <td>0.000000</td>\n",
       "    </tr>\n",
       "    <tr>\n",
       "      <td>2018-12-28</td>\n",
       "      <td>0.004133</td>\n",
       "      <td>0.003807</td>\n",
       "      <td>0.016955</td>\n",
       "      <td>-0.001242</td>\n",
       "      <td>-0.003135</td>\n",
       "      <td>0.000050</td>\n",
       "    </tr>\n",
       "  </tbody>\n",
       "</table>\n",
       "<p>2103 rows × 6 columns</p>\n",
       "</div>"
      ],
      "text/plain": [
       "                 DBA       EWQ       AEX      GSPC      N225  euribor3m\n",
       "Date                                                                   \n",
       "2010-01-05  0.006349 -0.002618 -0.002949  0.003111  0.002535   0.000151\n",
       "2010-01-06  0.005569  0.005230 -0.001580  0.000545  0.004635   0.000101\n",
       "2010-01-07 -0.007805 -0.004481 -0.002727  0.003993 -0.004650   0.000151\n",
       "2010-01-08  0.002981  0.013752  0.004073  0.002878  0.010862  -0.000050\n",
       "2010-01-12 -0.022955 -0.010390 -0.015235 -0.007680  0.007457   0.000252\n",
       "...              ...       ...       ...       ...       ...        ...\n",
       "2018-12-19 -0.001744 -0.008289  0.003110 -0.015515 -0.006058   0.000100\n",
       "2018-12-20 -0.002913 -0.004171 -0.020409 -0.015898 -0.028776   0.000050\n",
       "2018-12-21 -0.008201 -0.013387 -0.002390 -0.020803 -0.011164   0.000000\n",
       "2018-12-27  0.004745  0.009580 -0.018276  0.029443 -0.004402   0.000000\n",
       "2018-12-28  0.004133  0.003807  0.016955 -0.001242 -0.003135   0.000050\n",
       "\n",
       "[2103 rows x 6 columns]"
      ]
     },
     "execution_count": 17,
     "metadata": {},
     "output_type": "execute_result"
    }
   ],
   "source": [
    "df_returns"
   ]
  },
  {
   "cell_type": "code",
   "execution_count": 18,
   "metadata": {},
   "outputs": [],
   "source": [
    "# adjust for exchange rates\n",
    "\n",
    "df_returns['DBA'] = df_returns['DBA'] * (1+df_returns_all['EURUSD_ret'])\n",
    "df_returns['EWQ'] = df_returns['EWQ'] * (1+df_returns_all['EURUSD_ret'])\n",
    "df_returns['GSPC'] = df_returns['GSPC'] * (1+df_returns_all['EURUSD_ret'])\n",
    "df_returns['N225'] = df_returns['N225'] * (1+df_returns_all['EURJPY_ret'])"
   ]
  },
  {
   "cell_type": "markdown",
   "metadata": {},
   "source": [
    "#### Estimate VaR and ES, based on Variance-Covariance method, multivariate normal distribution"
   ]
  },
  {
   "cell_type": "code",
   "execution_count": 19,
   "metadata": {},
   "outputs": [
    {
     "data": {
      "text/html": [
       "<div>\n",
       "<style scoped>\n",
       "    .dataframe tbody tr th:only-of-type {\n",
       "        vertical-align: middle;\n",
       "    }\n",
       "\n",
       "    .dataframe tbody tr th {\n",
       "        vertical-align: top;\n",
       "    }\n",
       "\n",
       "    .dataframe thead th {\n",
       "        text-align: right;\n",
       "    }\n",
       "</style>\n",
       "<table border=\"1\" class=\"dataframe\">\n",
       "  <thead>\n",
       "    <tr style=\"text-align: right;\">\n",
       "      <th></th>\n",
       "      <th>DBA</th>\n",
       "      <th>EWQ</th>\n",
       "      <th>AEX</th>\n",
       "      <th>GSPC</th>\n",
       "      <th>N225</th>\n",
       "      <th>euribor3m</th>\n",
       "    </tr>\n",
       "  </thead>\n",
       "  <tbody>\n",
       "    <tr>\n",
       "      <td>DBA</td>\n",
       "      <td>7.037870e-05</td>\n",
       "      <td>4.463317e-05</td>\n",
       "      <td>2.293904e-05</td>\n",
       "      <td>2.505115e-05</td>\n",
       "      <td>1.261623e-05</td>\n",
       "      <td>-1.097477e-07</td>\n",
       "    </tr>\n",
       "    <tr>\n",
       "      <td>EWQ</td>\n",
       "      <td>4.463317e-05</td>\n",
       "      <td>2.381203e-04</td>\n",
       "      <td>1.191893e-04</td>\n",
       "      <td>1.228964e-04</td>\n",
       "      <td>3.994114e-05</td>\n",
       "      <td>-4.402432e-07</td>\n",
       "    </tr>\n",
       "    <tr>\n",
       "      <td>AEX</td>\n",
       "      <td>2.293904e-05</td>\n",
       "      <td>1.191893e-04</td>\n",
       "      <td>1.241866e-04</td>\n",
       "      <td>6.790572e-05</td>\n",
       "      <td>5.262897e-05</td>\n",
       "      <td>-1.033994e-07</td>\n",
       "    </tr>\n",
       "    <tr>\n",
       "      <td>GSPC</td>\n",
       "      <td>2.505115e-05</td>\n",
       "      <td>1.228964e-04</td>\n",
       "      <td>6.790572e-05</td>\n",
       "      <td>9.488057e-05</td>\n",
       "      <td>2.581617e-05</td>\n",
       "      <td>-1.475658e-07</td>\n",
       "    </tr>\n",
       "    <tr>\n",
       "      <td>N225</td>\n",
       "      <td>1.261623e-05</td>\n",
       "      <td>3.994114e-05</td>\n",
       "      <td>5.262897e-05</td>\n",
       "      <td>2.581617e-05</td>\n",
       "      <td>1.894754e-04</td>\n",
       "      <td>-1.893614e-07</td>\n",
       "    </tr>\n",
       "    <tr>\n",
       "      <td>euribor3m</td>\n",
       "      <td>-1.097477e-07</td>\n",
       "      <td>-4.402432e-07</td>\n",
       "      <td>-1.033994e-07</td>\n",
       "      <td>-1.475658e-07</td>\n",
       "      <td>-1.893614e-07</td>\n",
       "      <td>6.101460e-08</td>\n",
       "    </tr>\n",
       "  </tbody>\n",
       "</table>\n",
       "</div>"
      ],
      "text/plain": [
       "                    DBA           EWQ           AEX          GSPC  \\\n",
       "DBA        7.037870e-05  4.463317e-05  2.293904e-05  2.505115e-05   \n",
       "EWQ        4.463317e-05  2.381203e-04  1.191893e-04  1.228964e-04   \n",
       "AEX        2.293904e-05  1.191893e-04  1.241866e-04  6.790572e-05   \n",
       "GSPC       2.505115e-05  1.228964e-04  6.790572e-05  9.488057e-05   \n",
       "N225       1.261623e-05  3.994114e-05  5.262897e-05  2.581617e-05   \n",
       "euribor3m -1.097477e-07 -4.402432e-07 -1.033994e-07 -1.475658e-07   \n",
       "\n",
       "                   N225     euribor3m  \n",
       "DBA        1.261623e-05 -1.097477e-07  \n",
       "EWQ        3.994114e-05 -4.402432e-07  \n",
       "AEX        5.262897e-05 -1.033994e-07  \n",
       "GSPC       2.581617e-05 -1.475658e-07  \n",
       "N225       1.894754e-04 -1.893614e-07  \n",
       "euribor3m -1.893614e-07  6.101460e-08  "
      ]
     },
     "execution_count": 19,
     "metadata": {},
     "output_type": "execute_result"
    }
   ],
   "source": [
    "# calculate the variance-covariance matrix\n",
    "cov_matrix = df_returns.cov()\n",
    "cov_matrix"
   ]
  },
  {
   "cell_type": "code",
   "execution_count": null,
   "metadata": {},
   "outputs": [],
   "source": []
  },
  {
   "cell_type": "code",
   "execution_count": null,
   "metadata": {},
   "outputs": [],
   "source": []
  },
  {
   "cell_type": "code",
   "execution_count": 20,
   "metadata": {},
   "outputs": [],
   "source": [
    "# calculate the mean return\n",
    "avg_returns = df_returns.mean()"
   ]
  },
  {
   "cell_type": "code",
   "execution_count": 21,
   "metadata": {},
   "outputs": [
    {
     "data": {
      "text/plain": [
       "0.00017901208656445874"
      ]
     },
     "execution_count": 21,
     "metadata": {},
     "output_type": "execute_result"
    }
   ],
   "source": [
    "# calcuclate the portfolio mean\n",
    "pf_mean_pct = sum(avg_returns*weights)\n",
    "pf_mean_pct"
   ]
  },
  {
   "cell_type": "code",
   "execution_count": 22,
   "metadata": {},
   "outputs": [],
   "source": [
    "# calculate the portfolio standard deviation in percentage terms\n",
    "\n",
    "pf_std_pct = np.sqrt(weights.T.dot(cov_matrix).dot(weights))"
   ]
  },
  {
   "cell_type": "code",
   "execution_count": null,
   "metadata": {},
   "outputs": [],
   "source": []
  },
  {
   "cell_type": "code",
   "execution_count": 23,
   "metadata": {},
   "outputs": [],
   "source": [
    "# convert the pf return and std from percentage to euro\n",
    "pf_mean_euro = pf_mean_pct * principle\n",
    "pf_std_euro = pf_std_pct * principle"
   ]
  },
  {
   "cell_type": "code",
   "execution_count": null,
   "metadata": {},
   "outputs": [],
   "source": []
  },
  {
   "cell_type": "code",
   "execution_count": 24,
   "metadata": {},
   "outputs": [
    {
     "data": {
      "text/plain": [
       "[0.025, 0.01]"
      ]
     },
     "execution_count": 24,
     "metadata": {},
     "output_type": "execute_result"
    }
   ],
   "source": [
    "confidence_levels = [0.975, 0.99]\n",
    "alphas = [0.025,0.01]\n",
    "alphas"
   ]
  },
  {
   "cell_type": "code",
   "execution_count": 25,
   "metadata": {},
   "outputs": [],
   "source": [
    "# calculate the VaR\n",
    "var_975_1d = norm.ppf(confidence_levels[0]) * pf_std_euro - pf_mean_euro\n",
    "es_975_1d = alphas[0]**-1 * norm.pdf(norm.ppf(alphas[0]))*pf_std_euro - pf_mean_euro"
   ]
  },
  {
   "cell_type": "code",
   "execution_count": null,
   "metadata": {},
   "outputs": [],
   "source": []
  },
  {
   "cell_type": "code",
   "execution_count": 26,
   "metadata": {},
   "outputs": [],
   "source": [
    "var_990_1d = norm.ppf(confidence_levels[1]) * pf_std_euro - pf_mean_euro\n",
    "es_990_1d = alphas[1]**-1 * norm.pdf(norm.ppf(alphas[1]))*pf_std_euro - pf_mean_euro"
   ]
  },
  {
   "cell_type": "code",
   "execution_count": 27,
   "metadata": {},
   "outputs": [
    {
     "name": "stdout",
     "output_type": "stream",
     "text": [
      "VaR 99% 1d: 1857852.2540966303, ES 99% 1d: 2131082.9817899666\n"
     ]
    }
   ],
   "source": [
    "print(f'VaR 99% 1d: {var_990_1d}, ES 99% 1d: {es_990_1d}')"
   ]
  },
  {
   "cell_type": "code",
   "execution_count": 28,
   "metadata": {},
   "outputs": [
    {
     "data": {
      "text/plain": [
       "(array([5.000e+00, 1.400e+01, 6.600e+01, 3.450e+02, 1.137e+03, 4.500e+02,\n",
       "        7.500e+01, 1.000e+01, 0.000e+00, 1.000e+00]),\n",
       " array([-0.05873132, -0.04578596, -0.0328406 , -0.01989524, -0.00694988,\n",
       "         0.00599549,  0.01894085,  0.03188621,  0.04483157,  0.05777693,\n",
       "         0.07072229]),\n",
       " <a list of 10 Patch objects>)"
      ]
     },
     "execution_count": 28,
     "metadata": {},
     "output_type": "execute_result"
    },
    {
     "data": {
      "image/png": "[encoded data removed]",
      "text/plain": [
       "<Figure size 432x288 with 1 Axes>"
      ]
     },
     "metadata": {
      "needs_background": "light"
     },
     "output_type": "display_data"
    }
   ],
   "source": [
    "plt.hist(df_returns['AEX'])"
   ]
  },
  {
   "cell_type": "code",
   "execution_count": 29,
   "metadata": {},
   "outputs": [],
   "source": [
    "from statsmodels.graphics.gofplots import qqplot\n",
    "from scipy import stats"
   ]
  },
  {
   "cell_type": "code",
   "execution_count": 30,
   "metadata": {},
   "outputs": [
    {
     "data": {
      "image/png": "[encoded data removed]",
      "text/plain": [
       "<Figure size 432x288 with 1 Axes>"
      ]
     },
     "metadata": {
      "needs_background": "light"
     },
     "output_type": "display_data"
    }
   ],
   "source": [
    "fig1 = qqplot(df_returns['DBA'], line='q', dist = stats.norm, fit = True) \n",
    "plt.show()"
   ]
  },
  {
   "cell_type": "code",
   "execution_count": null,
   "metadata": {},
   "outputs": [],
   "source": []
  },
  {
   "cell_type": "markdown",
   "metadata": {},
   "source": [
    "#### Estimate VaR and ES, based on Variance-Covariance method, Student-t distribution with 3, 4, 5, 6 degrees of freedom"
   ]
  },
  {
   "cell_type": "code",
   "execution_count": 31,
   "metadata": {},
   "outputs": [],
   "source": [
    "from scipy.stats import t"
   ]
  },
  {
   "cell_type": "code",
   "execution_count": 32,
   "metadata": {},
   "outputs": [],
   "source": [
    "degree_of_freedom = [3,4,5,6]"
   ]
  },
  {
   "cell_type": "code",
   "execution_count": 33,
   "metadata": {},
   "outputs": [],
   "source": [
    "# adjust the std of the portfolio v/(v-2)"
   ]
  },
  {
   "cell_type": "code",
   "execution_count": 34,
   "metadata": {},
   "outputs": [
    {
     "name": "stdout",
     "output_type": "stream",
     "text": [
      "Student-t distribution with 3 degree of freedom: \n",
      "VaR 97.5% 1d: 1463598.452, ES 97.5% 1d: 1970726.181\n",
      "\n",
      "Student-t distribution with 4 degree of freedom: \n",
      "VaR 97.5% 1d: 1565077.932, ES 97.5% 1d: 1870081.411\n",
      "\n",
      "Student-t distribution with 5 degree of freedom: \n",
      "VaR 97.5% 1d: 1587590.838, ES 97.5% 1d: 1802590.474\n",
      "\n",
      "Student-t distribution with 6 degree of freedom: \n",
      "VaR 97.5% 1d: 1593018.123, ES 97.5% 1d: 1768122.846\n",
      "\n"
     ]
    }
   ],
   "source": [
    "# at 97.5% confidence level\n",
    "for df in degree_of_freedom:\n",
    "    \n",
    "    pf_std_pct_t = np.sqrt(weights.T.dot(cov_matrix).dot(weights))/(np.sqrt(df/(df-2)))\n",
    "    pf_std_euro_t = pf_std_pct_t * principle\n",
    "    \n",
    "    tppf = t.ppf(alphas[0], df)\n",
    "    var_975_1d_t= t.ppf(confidence_levels[0], df) * pf_std_euro_t - pf_mean_euro\n",
    "    \n",
    "    es_975_1d_t = -1/alphas[0] * (1-df)**(-1) * (df-2+tppf**2) * t.pdf(tppf, df)*pf_std_euro_t - pf_mean_euro\n",
    "    \n",
    "    \n",
    "    print(f'Student-t distribution with {df} degree of freedom: \\nVaR 97.5% 1d: {np.round(var_975_1d_t,3)}, ES 97.5% 1d: {np.round(es_975_1d_t,3)}\\n')"
   ]
  },
  {
   "cell_type": "code",
   "execution_count": null,
   "metadata": {},
   "outputs": [],
   "source": []
  },
  {
   "cell_type": "code",
   "execution_count": 35,
   "metadata": {},
   "outputs": [
    {
     "name": "stdout",
     "output_type": "stream",
     "text": [
      "Standard Normal Distribution:\n",
      "VaR 97.5% 1d: 1562433.905, ES 97.5% 1d: 1867088.449\n"
     ]
    }
   ],
   "source": [
    "# compare with VaR and ES under standard normal distribution\n",
    "print(f'Standard Normal Distribution:\\nVaR 97.5% 1d: {np.round(var_975_1d,3)}, ES 97.5% 1d: {np.round(es_975_1d,3)}')"
   ]
  },
  {
   "cell_type": "code",
   "execution_count": 36,
   "metadata": {},
   "outputs": [
    {
     "name": "stdout",
     "output_type": "stream",
     "text": [
      "Student-t distribution with 3 degree of freedom: \n",
      "VaR 97.5% 1d: 2095897.139, ES 97.5% 1d: 2966120.99\n",
      "\n",
      "Student-t distribution with 4 degree of freedom: \n",
      "VaR 97.5% 1d: 2118405.951, ES 97.5% 1d: 2628598.675\n",
      "\n",
      "Student-t distribution with 5 degree of freedom: \n",
      "VaR 97.5% 1d: 2083711.848, ES 97.5% 1d: 2422194.351\n",
      "\n",
      "Student-t distribution with 6 degree of freedom: \n",
      "VaR 97.5% 1d: 2051068.005, ES 97.5% 1d: 2302469.984\n",
      "\n"
     ]
    }
   ],
   "source": [
    "# at 99% confidence level\n",
    "for df in degree_of_freedom:\n",
    "    \n",
    "    \n",
    "    pf_std_pct_t = np.sqrt(weights.T.dot(cov_matrix).dot(weights))/(np.sqrt(df/(df-2)))\n",
    "    pf_std_euro_t = pf_std_pct_t * principle\n",
    "    \n",
    "    \n",
    "    tppf = t.ppf(alphas[1], df)\n",
    "    \n",
    "    var_990_1d_t= t.ppf(confidence_levels[1], df) * pf_std_euro_t - pf_mean_euro\n",
    "    \n",
    "    es_990_1d_t = -1/alphas[1] * (1-df)**(-1) * (df-2+tppf**2) * t.pdf(tppf, df)*pf_std_euro_t - pf_mean_euro\n",
    "    \n",
    "    \n",
    "    print(f'Student-t distribution with {df} degree of freedom: \\nVaR 97.5% 1d: {np.round(var_990_1d_t,3)}, ES 97.5% 1d: {np.round(es_990_1d_t,3)}\\n')"
   ]
  },
  {
   "cell_type": "code",
   "execution_count": null,
   "metadata": {},
   "outputs": [],
   "source": []
  },
  {
   "cell_type": "code",
   "execution_count": 37,
   "metadata": {},
   "outputs": [
    {
     "name": "stdout",
     "output_type": "stream",
     "text": [
      "Standard Normal Distribution:\n",
      "VaR 99% 1d: 1857852.254, ES 99% 1d: 2131082.982\n"
     ]
    }
   ],
   "source": [
    "# compare with VaR and ES under standard normal distribution\n",
    "print(f'Standard Normal Distribution:\\nVaR 99% 1d: {np.round(var_990_1d,3)}, ES 99% 1d: {np.round(es_990_1d,3)}')"
   ]
  },
  {
   "cell_type": "code",
   "execution_count": null,
   "metadata": {},
   "outputs": [],
   "source": []
  },
  {
   "cell_type": "code",
   "execution_count": 38,
   "metadata": {},
   "outputs": [
    {
     "data": {
      "text/html": [
       "<div>\n",
       "<style scoped>\n",
       "    .dataframe tbody tr th:only-of-type {\n",
       "        vertical-align: middle;\n",
       "    }\n",
       "\n",
       "    .dataframe tbody tr th {\n",
       "        vertical-align: top;\n",
       "    }\n",
       "\n",
       "    .dataframe thead th {\n",
       "        text-align: right;\n",
       "    }\n",
       "</style>\n",
       "<table border=\"1\" class=\"dataframe\">\n",
       "  <thead>\n",
       "    <tr style=\"text-align: right;\">\n",
       "      <th></th>\n",
       "      <th>DBA</th>\n",
       "      <th>EWQ</th>\n",
       "      <th>AEX</th>\n",
       "      <th>GSPC</th>\n",
       "      <th>N225</th>\n",
       "      <th>euribor3m</th>\n",
       "    </tr>\n",
       "    <tr>\n",
       "      <th>Date</th>\n",
       "      <th></th>\n",
       "      <th></th>\n",
       "      <th></th>\n",
       "      <th></th>\n",
       "      <th></th>\n",
       "      <th></th>\n",
       "    </tr>\n",
       "  </thead>\n",
       "  <tbody>\n",
       "    <tr>\n",
       "      <td>2010-01-05</td>\n",
       "      <td>0.006324</td>\n",
       "      <td>-0.002608</td>\n",
       "      <td>-0.002949</td>\n",
       "      <td>0.003098</td>\n",
       "      <td>0.002499</td>\n",
       "      <td>0.000151</td>\n",
       "    </tr>\n",
       "    <tr>\n",
       "      <td>2010-01-06</td>\n",
       "      <td>0.005584</td>\n",
       "      <td>0.005244</td>\n",
       "      <td>-0.001580</td>\n",
       "      <td>0.000547</td>\n",
       "      <td>0.004686</td>\n",
       "      <td>0.000101</td>\n",
       "    </tr>\n",
       "    <tr>\n",
       "      <td>2010-01-07</td>\n",
       "      <td>-0.007759</td>\n",
       "      <td>-0.004454</td>\n",
       "      <td>-0.002727</td>\n",
       "      <td>0.003969</td>\n",
       "      <td>-0.004676</td>\n",
       "      <td>0.000151</td>\n",
       "    </tr>\n",
       "    <tr>\n",
       "      <td>2010-01-08</td>\n",
       "      <td>0.003000</td>\n",
       "      <td>0.013842</td>\n",
       "      <td>0.004073</td>\n",
       "      <td>0.002896</td>\n",
       "      <td>0.010841</td>\n",
       "      <td>-0.000050</td>\n",
       "    </tr>\n",
       "    <tr>\n",
       "      <td>2010-01-12</td>\n",
       "      <td>-0.023059</td>\n",
       "      <td>-0.010437</td>\n",
       "      <td>-0.015235</td>\n",
       "      <td>-0.007715</td>\n",
       "      <td>0.007364</td>\n",
       "      <td>0.000252</td>\n",
       "    </tr>\n",
       "    <tr>\n",
       "      <td>...</td>\n",
       "      <td>...</td>\n",
       "      <td>...</td>\n",
       "      <td>...</td>\n",
       "      <td>...</td>\n",
       "      <td>...</td>\n",
       "      <td>...</td>\n",
       "    </tr>\n",
       "    <tr>\n",
       "      <td>2018-12-19</td>\n",
       "      <td>-0.001748</td>\n",
       "      <td>-0.008308</td>\n",
       "      <td>0.003110</td>\n",
       "      <td>-0.015550</td>\n",
       "      <td>-0.006055</td>\n",
       "      <td>0.000100</td>\n",
       "    </tr>\n",
       "    <tr>\n",
       "      <td>2018-12-20</td>\n",
       "      <td>-0.002917</td>\n",
       "      <td>-0.004176</td>\n",
       "      <td>-0.020409</td>\n",
       "      <td>-0.015918</td>\n",
       "      <td>-0.028781</td>\n",
       "      <td>0.000050</td>\n",
       "    </tr>\n",
       "    <tr>\n",
       "      <td>2018-12-21</td>\n",
       "      <td>-0.008250</td>\n",
       "      <td>-0.013466</td>\n",
       "      <td>-0.002390</td>\n",
       "      <td>-0.020926</td>\n",
       "      <td>-0.011105</td>\n",
       "      <td>0.000000</td>\n",
       "    </tr>\n",
       "    <tr>\n",
       "      <td>2018-12-27</td>\n",
       "      <td>0.004705</td>\n",
       "      <td>0.009500</td>\n",
       "      <td>-0.018276</td>\n",
       "      <td>0.029196</td>\n",
       "      <td>-0.004369</td>\n",
       "      <td>0.000000</td>\n",
       "    </tr>\n",
       "    <tr>\n",
       "      <td>2018-12-28</td>\n",
       "      <td>0.004159</td>\n",
       "      <td>0.003830</td>\n",
       "      <td>0.016955</td>\n",
       "      <td>-0.001250</td>\n",
       "      <td>-0.003144</td>\n",
       "      <td>0.000050</td>\n",
       "    </tr>\n",
       "  </tbody>\n",
       "</table>\n",
       "<p>2103 rows × 6 columns</p>\n",
       "</div>"
      ],
      "text/plain": [
       "                 DBA       EWQ       AEX      GSPC      N225  euribor3m\n",
       "Date                                                                   \n",
       "2010-01-05  0.006324 -0.002608 -0.002949  0.003098  0.002499   0.000151\n",
       "2010-01-06  0.005584  0.005244 -0.001580  0.000547  0.004686   0.000101\n",
       "2010-01-07 -0.007759 -0.004454 -0.002727  0.003969 -0.004676   0.000151\n",
       "2010-01-08  0.003000  0.013842  0.004073  0.002896  0.010841  -0.000050\n",
       "2010-01-12 -0.023059 -0.010437 -0.015235 -0.007715  0.007364   0.000252\n",
       "...              ...       ...       ...       ...       ...        ...\n",
       "2018-12-19 -0.001748 -0.008308  0.003110 -0.015550 -0.006055   0.000100\n",
       "2018-12-20 -0.002917 -0.004176 -0.020409 -0.015918 -0.028781   0.000050\n",
       "2018-12-21 -0.008250 -0.013466 -0.002390 -0.020926 -0.011105   0.000000\n",
       "2018-12-27  0.004705  0.009500 -0.018276  0.029196 -0.004369   0.000000\n",
       "2018-12-28  0.004159  0.003830  0.016955 -0.001250 -0.003144   0.000050\n",
       "\n",
       "[2103 rows x 6 columns]"
      ]
     },
     "execution_count": 38,
     "metadata": {},
     "output_type": "execute_result"
    }
   ],
   "source": [
    "df_returns"
   ]
  },
  {
   "cell_type": "markdown",
   "metadata": {},
   "source": [
    "#### Estimate VaR and ES, based on Historical Simulation method"
   ]
  },
  {
   "cell_type": "code",
   "execution_count": 39,
   "metadata": {},
   "outputs": [],
   "source": [
    "# calculate the historical losses, and order them in increasing order\n",
    "df_returns = df_returns[:] # select the simulation period\n",
    "pf_losses = np.sort(-principle * df_returns.dot(weights))\n",
    "pf_losses = pf_losses[~pd.isnull(pf_losses)]"
   ]
  },
  {
   "cell_type": "code",
   "execution_count": null,
   "metadata": {},
   "outputs": [],
   "source": []
  },
  {
   "cell_type": "code",
   "execution_count": 40,
   "metadata": {},
   "outputs": [],
   "source": [
    "# at 97.5% confidence level\n",
    "var_975_1d_hsm = pf_losses[int(confidence_levels[0]*len(pf_losses))]\n",
    "es_975_1d_hsm = pf_losses[int(confidence_levels[0]*len(pf_losses)):].mean()"
   ]
  },
  {
   "cell_type": "code",
   "execution_count": 41,
   "metadata": {},
   "outputs": [
    {
     "name": "stdout",
     "output_type": "stream",
     "text": [
      "VaR 97.5% 1d: 1736186.539, ES 97.5% 1d: 2522131.518\n"
     ]
    }
   ],
   "source": [
    "print(f'VaR 97.5% 1d: {np.round(var_975_1d_hsm,3)}, ES 97.5% 1d: {np.round(es_975_1d_hsm,3)}')"
   ]
  },
  {
   "cell_type": "code",
   "execution_count": null,
   "metadata": {},
   "outputs": [],
   "source": []
  },
  {
   "cell_type": "code",
   "execution_count": 42,
   "metadata": {},
   "outputs": [],
   "source": [
    "# at 99% confidence level\n",
    "var_990_1d_hsm = pf_losses[int(confidence_levels[1]*len(pf_losses))]\n",
    "es_990_1d_hsm = pf_losses[int(confidence_levels[1]*len(pf_losses)):].mean()"
   ]
  },
  {
   "cell_type": "code",
   "execution_count": 43,
   "metadata": {},
   "outputs": [
    {
     "name": "stdout",
     "output_type": "stream",
     "text": [
      "VaR 99% 1d: 2426025.106, ES 99% 1d: 3234767.516\n"
     ]
    }
   ],
   "source": [
    "print(f'VaR 99% 1d: {np.round(var_990_1d_hsm,3)}, ES 99% 1d: {np.round(es_990_1d_hsm,3)}')"
   ]
  },
  {
   "cell_type": "markdown",
   "metadata": {},
   "source": [
    "#### Estimate VaR and ES, based on Constant Conditional Correlation method"
   ]
  },
  {
   "cell_type": "code",
   "execution_count": 44,
   "metadata": {},
   "outputs": [],
   "source": [
    "constant_correlation = df_returns[:500].corr()"
   ]
  },
  {
   "cell_type": "code",
   "execution_count": 45,
   "metadata": {},
   "outputs": [
    {
     "data": {
      "text/html": [
       "<div>\n",
       "<style scoped>\n",
       "    .dataframe tbody tr th:only-of-type {\n",
       "        vertical-align: middle;\n",
       "    }\n",
       "\n",
       "    .dataframe tbody tr th {\n",
       "        vertical-align: top;\n",
       "    }\n",
       "\n",
       "    .dataframe thead th {\n",
       "        text-align: right;\n",
       "    }\n",
       "</style>\n",
       "<table border=\"1\" class=\"dataframe\">\n",
       "  <thead>\n",
       "    <tr style=\"text-align: right;\">\n",
       "      <th></th>\n",
       "      <th>DBA</th>\n",
       "      <th>EWQ</th>\n",
       "      <th>AEX</th>\n",
       "      <th>GSPC</th>\n",
       "      <th>N225</th>\n",
       "      <th>euribor3m</th>\n",
       "    </tr>\n",
       "  </thead>\n",
       "  <tbody>\n",
       "    <tr>\n",
       "      <td>DBA</td>\n",
       "      <td>1.286577e-04</td>\n",
       "      <td>0.000125</td>\n",
       "      <td>5.701834e-05</td>\n",
       "      <td>7.104733e-05</td>\n",
       "      <td>3.357016e-05</td>\n",
       "      <td>-4.499279e-07</td>\n",
       "    </tr>\n",
       "    <tr>\n",
       "      <td>EWQ</td>\n",
       "      <td>1.246328e-04</td>\n",
       "      <td>0.000534</td>\n",
       "      <td>2.427593e-04</td>\n",
       "      <td>2.724668e-04</td>\n",
       "      <td>6.770149e-05</td>\n",
       "      <td>-1.624178e-06</td>\n",
       "    </tr>\n",
       "    <tr>\n",
       "      <td>AEX</td>\n",
       "      <td>5.701834e-05</td>\n",
       "      <td>0.000243</td>\n",
       "      <td>1.890434e-04</td>\n",
       "      <td>1.313630e-04</td>\n",
       "      <td>6.980401e-05</td>\n",
       "      <td>-8.358739e-07</td>\n",
       "    </tr>\n",
       "    <tr>\n",
       "      <td>GSPC</td>\n",
       "      <td>7.104733e-05</td>\n",
       "      <td>0.000272</td>\n",
       "      <td>1.313630e-04</td>\n",
       "      <td>1.737309e-04</td>\n",
       "      <td>3.627591e-05</td>\n",
       "      <td>-6.489996e-07</td>\n",
       "    </tr>\n",
       "    <tr>\n",
       "      <td>N225</td>\n",
       "      <td>3.357016e-05</td>\n",
       "      <td>0.000068</td>\n",
       "      <td>6.980401e-05</td>\n",
       "      <td>3.627591e-05</td>\n",
       "      <td>2.010472e-04</td>\n",
       "      <td>-7.259743e-07</td>\n",
       "    </tr>\n",
       "    <tr>\n",
       "      <td>euribor3m</td>\n",
       "      <td>-4.499279e-07</td>\n",
       "      <td>-0.000002</td>\n",
       "      <td>-8.358739e-07</td>\n",
       "      <td>-6.489996e-07</td>\n",
       "      <td>-7.259743e-07</td>\n",
       "      <td>1.626906e-07</td>\n",
       "    </tr>\n",
       "  </tbody>\n",
       "</table>\n",
       "</div>"
      ],
      "text/plain": [
       "                    DBA       EWQ           AEX          GSPC          N225  \\\n",
       "DBA        1.286577e-04  0.000125  5.701834e-05  7.104733e-05  3.357016e-05   \n",
       "EWQ        1.246328e-04  0.000534  2.427593e-04  2.724668e-04  6.770149e-05   \n",
       "AEX        5.701834e-05  0.000243  1.890434e-04  1.313630e-04  6.980401e-05   \n",
       "GSPC       7.104733e-05  0.000272  1.313630e-04  1.737309e-04  3.627591e-05   \n",
       "N225       3.357016e-05  0.000068  6.980401e-05  3.627591e-05  2.010472e-04   \n",
       "euribor3m -4.499279e-07 -0.000002 -8.358739e-07 -6.489996e-07 -7.259743e-07   \n",
       "\n",
       "              euribor3m  \n",
       "DBA       -4.499279e-07  \n",
       "EWQ       -1.624178e-06  \n",
       "AEX       -8.358739e-07  \n",
       "GSPC      -6.489996e-07  \n",
       "N225      -7.259743e-07  \n",
       "euribor3m  1.626906e-07  "
      ]
     },
     "execution_count": 45,
     "metadata": {},
     "output_type": "execute_result"
    }
   ],
   "source": [
    "df_returns[:500].cov()"
   ]
  },
  {
   "cell_type": "code",
   "execution_count": null,
   "metadata": {},
   "outputs": [],
   "source": []
  },
  {
   "cell_type": "code",
   "execution_count": null,
   "metadata": {},
   "outputs": [],
   "source": []
  },
  {
   "cell_type": "markdown",
   "metadata": {},
   "source": [
    "#### Estimate VaR and ES, based on Filtered Historical Simulation method with EWMA for each risk factor"
   ]
  },
  {
   "cell_type": "code",
   "execution_count": 46,
   "metadata": {},
   "outputs": [],
   "source": [
    "start_estimation = 500\n",
    "start_test = 1500\n",
    "lmdb = 0.94\n",
    "\n",
    "# split the dataset\n",
    "initiation_set = df_returns[:start_estimation]\n",
    "\n",
    "estimation_set = df_returns[start_estimation:start_test]\n",
    "\n",
    "test_set = df_returns[start_test:]\n",
    "\n"
   ]
  },
  {
   "cell_type": "code",
   "execution_count": 47,
   "metadata": {},
   "outputs": [],
   "source": [
    "sigma0 = initiation_set.std()\n",
    "sigma1 = np.sqrt(lmdb*sigma0**2 + (1-lmdb)*initiation_set.tail(1)**2)"
   ]
  },
  {
   "cell_type": "code",
   "execution_count": 48,
   "metadata": {},
   "outputs": [
    {
     "data": {
      "text/html": [
       "<div>\n",
       "<style scoped>\n",
       "    .dataframe tbody tr th:only-of-type {\n",
       "        vertical-align: middle;\n",
       "    }\n",
       "\n",
       "    .dataframe tbody tr th {\n",
       "        vertical-align: top;\n",
       "    }\n",
       "\n",
       "    .dataframe thead th {\n",
       "        text-align: right;\n",
       "    }\n",
       "</style>\n",
       "<table border=\"1\" class=\"dataframe\">\n",
       "  <thead>\n",
       "    <tr style=\"text-align: right;\">\n",
       "      <th></th>\n",
       "      <th>DBA</th>\n",
       "      <th>EWQ</th>\n",
       "      <th>AEX</th>\n",
       "      <th>GSPC</th>\n",
       "      <th>N225</th>\n",
       "      <th>euribor3m</th>\n",
       "    </tr>\n",
       "    <tr>\n",
       "      <th>Date</th>\n",
       "      <th></th>\n",
       "      <th></th>\n",
       "      <th></th>\n",
       "      <th></th>\n",
       "      <th></th>\n",
       "      <th></th>\n",
       "    </tr>\n",
       "  </thead>\n",
       "  <tbody>\n",
       "    <tr>\n",
       "      <td>2012-02-21</td>\n",
       "      <td>0.011114</td>\n",
       "      <td>0.022451</td>\n",
       "      <td>0.013468</td>\n",
       "      <td>0.01278</td>\n",
       "      <td>0.013904</td>\n",
       "      <td>0.000394</td>\n",
       "    </tr>\n",
       "  </tbody>\n",
       "</table>\n",
       "</div>"
      ],
      "text/plain": [
       "                 DBA       EWQ       AEX     GSPC      N225  euribor3m\n",
       "Date                                                                  \n",
       "2012-02-21  0.011114  0.022451  0.013468  0.01278  0.013904   0.000394"
      ]
     },
     "execution_count": 48,
     "metadata": {},
     "output_type": "execute_result"
    }
   ],
   "source": [
    "sigma1"
   ]
  },
  {
   "cell_type": "code",
   "execution_count": 49,
   "metadata": {},
   "outputs": [
    {
     "data": {
      "text/plain": [
       "DBA          0.011343\n",
       "EWQ          0.023107\n",
       "AEX          0.013749\n",
       "GSPC         0.013181\n",
       "N225         0.014179\n",
       "euribor3m    0.000403\n",
       "dtype: float64"
      ]
     },
     "execution_count": 49,
     "metadata": {},
     "output_type": "execute_result"
    }
   ],
   "source": [
    "sigma0"
   ]
  },
  {
   "cell_type": "code",
   "execution_count": 50,
   "metadata": {},
   "outputs": [
    {
     "data": {
      "text/html": [
       "<div>\n",
       "<style scoped>\n",
       "    .dataframe tbody tr th:only-of-type {\n",
       "        vertical-align: middle;\n",
       "    }\n",
       "\n",
       "    .dataframe tbody tr th {\n",
       "        vertical-align: top;\n",
       "    }\n",
       "\n",
       "    .dataframe thead th {\n",
       "        text-align: right;\n",
       "    }\n",
       "</style>\n",
       "<table border=\"1\" class=\"dataframe\">\n",
       "  <thead>\n",
       "    <tr style=\"text-align: right;\">\n",
       "      <th></th>\n",
       "      <th>DBA</th>\n",
       "      <th>EWQ</th>\n",
       "      <th>AEX</th>\n",
       "      <th>GSPC</th>\n",
       "      <th>N225</th>\n",
       "      <th>euribor3m</th>\n",
       "    </tr>\n",
       "    <tr>\n",
       "      <th>Date</th>\n",
       "      <th></th>\n",
       "      <th></th>\n",
       "      <th></th>\n",
       "      <th></th>\n",
       "      <th></th>\n",
       "      <th></th>\n",
       "    </tr>\n",
       "  </thead>\n",
       "  <tbody>\n",
       "    <tr>\n",
       "      <td>2010-01-05</td>\n",
       "      <td>NaN</td>\n",
       "      <td>NaN</td>\n",
       "      <td>NaN</td>\n",
       "      <td>NaN</td>\n",
       "      <td>NaN</td>\n",
       "      <td>NaN</td>\n",
       "    </tr>\n",
       "    <tr>\n",
       "      <td>2010-01-06</td>\n",
       "      <td>0.000523</td>\n",
       "      <td>0.005552</td>\n",
       "      <td>0.000968</td>\n",
       "      <td>0.001804</td>\n",
       "      <td>0.001547</td>\n",
       "      <td>0.000036</td>\n",
       "    </tr>\n",
       "    <tr>\n",
       "      <td>2010-01-07</td>\n",
       "      <td>0.009449</td>\n",
       "      <td>0.006664</td>\n",
       "      <td>0.000789</td>\n",
       "      <td>0.002353</td>\n",
       "      <td>0.006532</td>\n",
       "      <td>0.000035</td>\n",
       "    </tr>\n",
       "    <tr>\n",
       "      <td>2010-01-08</td>\n",
       "      <td>0.007399</td>\n",
       "      <td>0.012629</td>\n",
       "      <td>0.004759</td>\n",
       "      <td>0.000845</td>\n",
       "      <td>0.010683</td>\n",
       "      <td>0.000140</td>\n",
       "    </tr>\n",
       "    <tr>\n",
       "      <td>2010-01-12</td>\n",
       "      <td>0.018063</td>\n",
       "      <td>0.016675</td>\n",
       "      <td>0.013394</td>\n",
       "      <td>0.007530</td>\n",
       "      <td>0.003188</td>\n",
       "      <td>0.000208</td>\n",
       "    </tr>\n",
       "    <tr>\n",
       "      <td>...</td>\n",
       "      <td>...</td>\n",
       "      <td>...</td>\n",
       "      <td>...</td>\n",
       "      <td>...</td>\n",
       "      <td>...</td>\n",
       "      <td>...</td>\n",
       "    </tr>\n",
       "    <tr>\n",
       "      <td>2018-12-19</td>\n",
       "      <td>0.001452</td>\n",
       "      <td>0.005789</td>\n",
       "      <td>0.010235</td>\n",
       "      <td>0.010777</td>\n",
       "      <td>0.008737</td>\n",
       "      <td>0.000273</td>\n",
       "    </tr>\n",
       "    <tr>\n",
       "      <td>2018-12-20</td>\n",
       "      <td>0.000952</td>\n",
       "      <td>0.002944</td>\n",
       "      <td>0.016182</td>\n",
       "      <td>0.002779</td>\n",
       "      <td>0.015725</td>\n",
       "      <td>0.000070</td>\n",
       "    </tr>\n",
       "    <tr>\n",
       "      <td>2018-12-21</td>\n",
       "      <td>0.003824</td>\n",
       "      <td>0.006443</td>\n",
       "      <td>0.012409</td>\n",
       "      <td>0.003651</td>\n",
       "      <td>0.012167</td>\n",
       "      <td>0.000040</td>\n",
       "    </tr>\n",
       "    <tr>\n",
       "      <td>2018-12-27</td>\n",
       "      <td>0.008964</td>\n",
       "      <td>0.015905</td>\n",
       "      <td>0.010938</td>\n",
       "      <td>0.035174</td>\n",
       "      <td>0.006209</td>\n",
       "      <td>0.000010</td>\n",
       "    </tr>\n",
       "    <tr>\n",
       "      <td>2018-12-28</td>\n",
       "      <td>0.002201</td>\n",
       "      <td>0.004949</td>\n",
       "      <td>0.024385</td>\n",
       "      <td>0.021209</td>\n",
       "      <td>0.001932</td>\n",
       "      <td>0.000035</td>\n",
       "    </tr>\n",
       "  </tbody>\n",
       "</table>\n",
       "<p>2103 rows × 6 columns</p>\n",
       "</div>"
      ],
      "text/plain": [
       "                 DBA       EWQ       AEX      GSPC      N225  euribor3m\n",
       "Date                                                                   \n",
       "2010-01-05       NaN       NaN       NaN       NaN       NaN        NaN\n",
       "2010-01-06  0.000523  0.005552  0.000968  0.001804  0.001547   0.000036\n",
       "2010-01-07  0.009449  0.006664  0.000789  0.002353  0.006532   0.000035\n",
       "2010-01-08  0.007399  0.012629  0.004759  0.000845  0.010683   0.000140\n",
       "2010-01-12  0.018063  0.016675  0.013394  0.007530  0.003188   0.000208\n",
       "...              ...       ...       ...       ...       ...        ...\n",
       "2018-12-19  0.001452  0.005789  0.010235  0.010777  0.008737   0.000273\n",
       "2018-12-20  0.000952  0.002944  0.016182  0.002779  0.015725   0.000070\n",
       "2018-12-21  0.003824  0.006443  0.012409  0.003651  0.012167   0.000040\n",
       "2018-12-27  0.008964  0.015905  0.010938  0.035174  0.006209   0.000010\n",
       "2018-12-28  0.002201  0.004949  0.024385  0.021209  0.001932   0.000035\n",
       "\n",
       "[2103 rows x 6 columns]"
      ]
     },
     "execution_count": 50,
     "metadata": {},
     "output_type": "execute_result"
    }
   ],
   "source": [
    "df_returns.ewm(alpha = 0.94).std()"
   ]
  },
  {
   "cell_type": "code",
   "execution_count": null,
   "metadata": {},
   "outputs": [],
   "source": [
    "EWMA = np.full([T,3], np.nan)\n",
    "lmbda = 0.94\n",
    "S = np.cov(y, rowvar = False)\n",
    "EWMA[0,] = S.flatten()[[0,3,1]]\n",
    "for i in range(1,T):\n",
    "    S = lmbda * S + (1-lmbda) * np.transpose(np.asmatrix(y[i-1]))* np.asmatrix(y[i-1])\n",
    "    EWMA[i,] = [S[0,0], S[1,1], S[0,1]]\n",
    "EWMArho = np.divide(EWMA[:,2], np.sqrt(np.multiply(EWMA[:,0],EWMA[:,1])))\n",
    "print(EWMArho)"
   ]
  },
  {
   "cell_type": "code",
   "execution_count": null,
   "metadata": {},
   "outputs": [],
   "source": []
  },
  {
   "cell_type": "code",
   "execution_count": 51,
   "metadata": {},
   "outputs": [],
   "source": [
    "# use the first 500 obervations to estimate the volatility"
   ]
  },
  {
   "cell_type": "code",
   "execution_count": 52,
   "metadata": {},
   "outputs": [],
   "source": [
    "# generate 1000 return scenarios for t+1\n"
   ]
  },
  {
   "cell_type": "code",
   "execution_count": 53,
   "metadata": {},
   "outputs": [],
   "source": [
    "# rank all the simulated R_t+1, calculate the VaR and ES\n"
   ]
  },
  {
   "cell_type": "code",
   "execution_count": null,
   "metadata": {},
   "outputs": [],
   "source": [
    "# shift the estimation window by 1 for R_t+2"
   ]
  },
  {
   "cell_type": "code",
   "execution_count": null,
   "metadata": {},
   "outputs": [],
   "source": [
    "np.cov()"
   ]
  }
 ],
 "metadata": {
  "kernelspec": {
   "display_name": "Python 3",
   "language": "python",
   "name": "python3"
  },
  "language_info": {
   "codemirror_mode": {
    "name": "ipython",
    "version": 3
   },
   "file_extension": ".py",
   "mimetype": "text/x-python",
   "name": "python",
   "nbconvert_exporter": "python",
   "pygments_lexer": "ipython3",
   "version": "3.7.4"
  }
 },
 "nbformat": 4,
 "nbformat_minor": 4
}
