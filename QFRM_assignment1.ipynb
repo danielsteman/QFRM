{
 "cells": [
  {
   "cell_type": "code",
   "execution_count": 1,
   "metadata": {},
   "outputs": [],
   "source": [
    "# Data processing\n",
    "import numpy as np\n",
    "import pandas as pd\n",
    "\n",
    "# Download data\n",
    "import yfinance as yf"
   ]
  },
  {
   "cell_type": "code",
   "execution_count": 2,
   "metadata": {},
   "outputs": [],
   "source": [
    "# Initial investment and currency per stock\n",
    "\n",
    "investment = {\n",
    "    \"^VIX\" : [1000000, 'USD'],\n",
    "    \"^DJI\" : [2500000, 'USD'],\n",
    "    \"^AEX\"  : [500000, 'EUR'],\n",
    "    \"^GSPC\" : [2300000, 'USD'],\n",
    "    \"^N225\" : [1750000, 'JPY']\n",
    "}\n",
    "\n",
    "start = \"2010-01-01\"\n",
    "end = \"2018-12-31\""
   ]
  },
  {
   "cell_type": "code",
   "execution_count": 3,
   "metadata": {},
   "outputs": [
    {
     "name": "stdout",
     "output_type": "stream",
     "text": [
      "[*********************100%***********************]  5 of 5 completed\n"
     ]
    }
   ],
   "source": [
    "# Download data and store in dataframe\n",
    "\n",
    "stockprice_data = yf.download(' '.join(list(investment.keys())), start=start, end=end, groupby='ticker')\n",
    "stockprice = stockprice_data['Adj Close']"
   ]
  },
  {
   "cell_type": "code",
   "execution_count": 4,
   "metadata": {},
   "outputs": [
    {
     "data": {
      "text/html": [
       "<div>\n",
       "<style scoped>\n",
       "    .dataframe tbody tr th:only-of-type {\n",
       "        vertical-align: middle;\n",
       "    }\n",
       "\n",
       "    .dataframe tbody tr th {\n",
       "        vertical-align: top;\n",
       "    }\n",
       "\n",
       "    .dataframe thead th {\n",
       "        text-align: right;\n",
       "    }\n",
       "</style>\n",
       "<table border=\"1\" class=\"dataframe\">\n",
       "  <thead>\n",
       "    <tr style=\"text-align: right;\">\n",
       "      <th></th>\n",
       "      <th>^AEX</th>\n",
       "      <th>^DJI</th>\n",
       "      <th>^GSPC</th>\n",
       "      <th>^N225</th>\n",
       "      <th>^VIX</th>\n",
       "    </tr>\n",
       "    <tr>\n",
       "      <th>Date</th>\n",
       "      <th></th>\n",
       "      <th></th>\n",
       "      <th></th>\n",
       "      <th></th>\n",
       "      <th></th>\n",
       "    </tr>\n",
       "  </thead>\n",
       "  <tbody>\n",
       "    <tr>\n",
       "      <th>2018-12-24</th>\n",
       "      <td>478.339996</td>\n",
       "      <td>21792.199219</td>\n",
       "      <td>2351.100098</td>\n",
       "      <td>NaN</td>\n",
       "      <td>36.070000</td>\n",
       "    </tr>\n",
       "    <tr>\n",
       "      <th>2018-12-25</th>\n",
       "      <td>NaN</td>\n",
       "      <td>NaN</td>\n",
       "      <td>NaN</td>\n",
       "      <td>19155.740234</td>\n",
       "      <td>NaN</td>\n",
       "    </tr>\n",
       "    <tr>\n",
       "      <th>2018-12-26</th>\n",
       "      <td>NaN</td>\n",
       "      <td>22878.449219</td>\n",
       "      <td>2467.699951</td>\n",
       "      <td>19327.060547</td>\n",
       "      <td>30.410000</td>\n",
       "    </tr>\n",
       "    <tr>\n",
       "      <th>2018-12-27</th>\n",
       "      <td>476.029999</td>\n",
       "      <td>23138.820312</td>\n",
       "      <td>2488.830078</td>\n",
       "      <td>20077.619141</td>\n",
       "      <td>29.959999</td>\n",
       "    </tr>\n",
       "    <tr>\n",
       "      <th>2018-12-28</th>\n",
       "      <td>484.170013</td>\n",
       "      <td>23062.400391</td>\n",
       "      <td>2485.739990</td>\n",
       "      <td>20014.769531</td>\n",
       "      <td>28.340000</td>\n",
       "    </tr>\n",
       "  </tbody>\n",
       "</table>\n",
       "</div>"
      ],
      "text/plain": [
       "                  ^AEX          ^DJI        ^GSPC         ^N225       ^VIX\n",
       "Date                                                                      \n",
       "2018-12-24  478.339996  21792.199219  2351.100098           NaN  36.070000\n",
       "2018-12-25         NaN           NaN          NaN  19155.740234        NaN\n",
       "2018-12-26         NaN  22878.449219  2467.699951  19327.060547  30.410000\n",
       "2018-12-27  476.029999  23138.820312  2488.830078  20077.619141  29.959999\n",
       "2018-12-28  484.170013  23062.400391  2485.739990  20014.769531  28.340000"
      ]
     },
     "execution_count": 4,
     "metadata": {},
     "output_type": "execute_result"
    }
   ],
   "source": [
    "stockprice.tail()"
   ]
  },
  {
   "cell_type": "code",
   "execution_count": 5,
   "metadata": {},
   "outputs": [],
   "source": [
    "# Create exchange rate ticker list based on initial investment data\n",
    "currencies = list(set(['EUR' + i[1] + '=X' for i in investment.values()]))\n",
    "\n",
    "# Remove EUR-EUR exchange rate\n",
    "for currency in currencies:\n",
    "    if currency[0:2] == currency[3:5]:\n",
    "        currencies.remove(currency)\n",
    "        \n",
    "currencies = \" \".join(currencies)"
   ]
  },
  {
   "cell_type": "code",
   "execution_count": 6,
   "metadata": {},
   "outputs": [
    {
     "name": "stdout",
     "output_type": "stream",
     "text": [
      "[*********************100%***********************]  2 of 2 completed\n"
     ]
    },
    {
     "data": {
      "text/html": [
       "<div>\n",
       "<style scoped>\n",
       "    .dataframe tbody tr th:only-of-type {\n",
       "        vertical-align: middle;\n",
       "    }\n",
       "\n",
       "    .dataframe tbody tr th {\n",
       "        vertical-align: top;\n",
       "    }\n",
       "\n",
       "    .dataframe thead th {\n",
       "        text-align: right;\n",
       "    }\n",
       "</style>\n",
       "<table border=\"1\" class=\"dataframe\">\n",
       "  <thead>\n",
       "    <tr style=\"text-align: right;\">\n",
       "      <th></th>\n",
       "      <th>EURJPY=X</th>\n",
       "      <th>EURUSD=X</th>\n",
       "    </tr>\n",
       "    <tr>\n",
       "      <th>Date</th>\n",
       "      <th></th>\n",
       "      <th></th>\n",
       "    </tr>\n",
       "  </thead>\n",
       "  <tbody>\n",
       "    <tr>\n",
       "      <th>2018-12-24</th>\n",
       "      <td>126.292000</td>\n",
       "      <td>1.137281</td>\n",
       "    </tr>\n",
       "    <tr>\n",
       "      <th>2018-12-25</th>\n",
       "      <td>125.769997</td>\n",
       "      <td>1.140394</td>\n",
       "    </tr>\n",
       "    <tr>\n",
       "      <th>2018-12-26</th>\n",
       "      <td>126.001999</td>\n",
       "      <td>1.141553</td>\n",
       "    </tr>\n",
       "    <tr>\n",
       "      <th>2018-12-27</th>\n",
       "      <td>126.404999</td>\n",
       "      <td>1.136131</td>\n",
       "    </tr>\n",
       "    <tr>\n",
       "      <th>2018-12-28</th>\n",
       "      <td>126.767998</td>\n",
       "      <td>1.143105</td>\n",
       "    </tr>\n",
       "  </tbody>\n",
       "</table>\n",
       "</div>"
      ],
      "text/plain": [
       "              EURJPY=X  EURUSD=X\n",
       "Date                            \n",
       "2018-12-24  126.292000  1.137281\n",
       "2018-12-25  125.769997  1.140394\n",
       "2018-12-26  126.001999  1.141553\n",
       "2018-12-27  126.404999  1.136131\n",
       "2018-12-28  126.767998  1.143105"
      ]
     },
     "execution_count": 6,
     "metadata": {},
     "output_type": "execute_result"
    }
   ],
   "source": [
    "# Download exchange rate data\n",
    "exchangerate_data = yf.download(currencies, start=start, end=end, groupby='ticker')\n",
    "exchangerate = exchangerate_data['Adj Close']\n",
    "exchangerate.tail()"
   ]
  },
  {
   "cell_type": "code",
   "execution_count": 13,
   "metadata": {},
   "outputs": [],
   "source": [
    "# Scrape EURIBOR rates\n",
    "\n",
    "import csv\n",
    "import requests\n",
    "import io\n",
    "\n",
    "year_range = int(end[0:4]) - int(start[0:4]) + 1\n",
    "years = range(int(start[0:4]), int(start[0:4]) + year_range)\n",
    "\n",
    "urls = ['https://www.emmi-benchmarks.eu/assets/components/rateisblue/file_processing/publication/processed/hist_EURIBOR_{}.csv'\n",
    "        .format(i) for i in range(int(start[0:4]), int(start[0:4]) + year_range)]\n",
    "\n",
    "for url in urls:\n",
    "    s = requests.get(url).content\n",
    "    if url == urls[0]:\n",
    "        euribor = pd.read_csv(io.StringIO(s.decode('utf-8'))).transpose()\n",
    "    else:\n",
    "        euribor = euribor.append(pd.read_csv(io.StringIO(s.decode('utf-8'))).transpose())\n",
    "        \n",
    "euribor3m = euribor[5]"
   ]
  },
  {
   "cell_type": "code",
   "execution_count": 11,
   "metadata": {},
   "outputs": [],
   "source": [
    "euribor3m"
   ]
  },
  {
   "cell_type": "code",
   "execution_count": null,
   "metadata": {},
   "outputs": [],
   "source": []
  }
 ],
 "metadata": {
  "kernelspec": {
   "display_name": "Python 3",
   "language": "python",
   "name": "python3"
  },
  "language_info": {
   "codemirror_mode": {
    "name": "ipython",
    "version": 3
   },
   "file_extension": ".py",
   "mimetype": "text/x-python",
   "name": "python",
   "nbconvert_exporter": "python",
   "pygments_lexer": "ipython3",
   "version": "3.7.2"
  }
 },
 "nbformat": 4,
 "nbformat_minor": 4
}
