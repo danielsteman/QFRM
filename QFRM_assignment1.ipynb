{
 "cells": [
  {
   "cell_type": "code",
   "execution_count": 1,
   "metadata": {},
   "outputs": [],
   "source": [
    "# Data processing\n",
    "import numpy as np\n",
    "import pandas as pd\n",
    "import datetime as dt\n",
    "\n",
    "# Download data\n",
    "import yfinance as yf\n",
    "\n",
    "from scipy.stats import norm\n",
    "import statsmodels.api as sm\n",
    "from matplotlib import pyplot as plt"
   ]
  },
  {
   "cell_type": "code",
   "execution_count": 2,
   "metadata": {},
   "outputs": [],
   "source": [
    "# Initial investment and currency per stock\n",
    "\n",
    "# in dollar values initially?\n",
    "\n",
    "principle = 100000000 #100mil\n",
    "\n",
    "# initial weights\n",
    "\n",
    "# for respective instruments, and 10% for cash\n",
    "weights = np.array([0.1,0.2,0.2,0.2,0.2, 0.1])\n",
    "\n",
    "investment = {\n",
    "    \"DBA\" : [10000000, 'USD'], # iPath Pure Beta Broad Commodity ETN (BCM)\n",
    "    \"EWQ\" : [20000000, 'USD'], # iShares MSCI France ETF, NYSE, USD\n",
    "    \"^AEX\"  : [20000000, 'EUR'], # AEX Index\n",
    "    \"^GSPC\" : [20000000, 'USD'], # S&P 500 Index\n",
    "    \"^N225\" : [20000000, 'JPY'] # Nikkei 225\n",
    "}\n",
    "\n",
    "start = \"2010-01-01\"\n",
    "end = \"2018-12-31\""
   ]
  },
  {
   "cell_type": "code",
   "execution_count": 3,
   "metadata": {},
   "outputs": [
    {
     "name": "stdout",
     "output_type": "stream",
     "text": [
      "[*********************100%***********************]  5 of 5 completed\n"
     ]
    }
   ],
   "source": [
    "# Download data and store in dataframe\n",
    "\n",
    "instruments_data = yf.download(' '.join(list(investment.keys())), start=start, end=end, groupby='ticker')\n",
    "instruments = instruments_data['Adj Close']"
   ]
  },
  {
   "cell_type": "code",
   "execution_count": 4,
   "metadata": {},
   "outputs": [],
   "source": [
    "# Create exchange rate ticker list based on initial investment data\n",
    "currencies = list(set(['EUR' + i[1] + '=X' for i in investment.values()]))\n",
    "\n",
    "# Remove EUR-EUR exchange rate\n",
    "for currency in currencies:\n",
    "    if currency[0:2] == currency[3:5]:\n",
    "        currencies.remove(currency)\n",
    "        \n",
    "currencies = \" \".join(currencies)"
   ]
  },
  {
   "cell_type": "code",
   "execution_count": 5,
   "metadata": {},
   "outputs": [
    {
     "name": "stdout",
     "output_type": "stream",
     "text": [
      "[*********************100%***********************]  2 of 2 completed\n"
     ]
    },
    {
     "data": {
      "text/html": [
       "<div>\n",
       "<style scoped>\n",
       "    .dataframe tbody tr th:only-of-type {\n",
       "        vertical-align: middle;\n",
       "    }\n",
       "\n",
       "    .dataframe tbody tr th {\n",
       "        vertical-align: top;\n",
       "    }\n",
       "\n",
       "    .dataframe thead th {\n",
       "        text-align: right;\n",
       "    }\n",
       "</style>\n",
       "<table border=\"1\" class=\"dataframe\">\n",
       "  <thead>\n",
       "    <tr style=\"text-align: right;\">\n",
       "      <th></th>\n",
       "      <th>EURJPY=X</th>\n",
       "      <th>EURUSD=X</th>\n",
       "    </tr>\n",
       "    <tr>\n",
       "      <th>Date</th>\n",
       "      <th></th>\n",
       "      <th></th>\n",
       "    </tr>\n",
       "  </thead>\n",
       "  <tbody>\n",
       "    <tr>\n",
       "      <th>2018-12-24</th>\n",
       "      <td>126.292000</td>\n",
       "      <td>1.137281</td>\n",
       "    </tr>\n",
       "    <tr>\n",
       "      <th>2018-12-25</th>\n",
       "      <td>125.769997</td>\n",
       "      <td>1.140394</td>\n",
       "    </tr>\n",
       "    <tr>\n",
       "      <th>2018-12-26</th>\n",
       "      <td>126.001999</td>\n",
       "      <td>1.141553</td>\n",
       "    </tr>\n",
       "    <tr>\n",
       "      <th>2018-12-27</th>\n",
       "      <td>126.404999</td>\n",
       "      <td>1.136131</td>\n",
       "    </tr>\n",
       "    <tr>\n",
       "      <th>2018-12-28</th>\n",
       "      <td>126.767998</td>\n",
       "      <td>1.143105</td>\n",
       "    </tr>\n",
       "  </tbody>\n",
       "</table>\n",
       "</div>"
      ],
      "text/plain": [
       "              EURJPY=X  EURUSD=X\n",
       "Date                            \n",
       "2018-12-24  126.292000  1.137281\n",
       "2018-12-25  125.769997  1.140394\n",
       "2018-12-26  126.001999  1.141553\n",
       "2018-12-27  126.404999  1.136131\n",
       "2018-12-28  126.767998  1.143105"
      ]
     },
     "execution_count": 5,
     "metadata": {},
     "output_type": "execute_result"
    }
   ],
   "source": [
    "# Download exchange rate data\n",
    "exchangerate_data = yf.download(currencies, start=start, end=end, groupby='ticker')\n",
    "exchangerate = exchangerate_data['Adj Close']\n",
    "exchangerate.tail()"
   ]
  },
  {
   "cell_type": "code",
   "execution_count": 6,
   "metadata": {},
   "outputs": [],
   "source": [
    "# invest in Euribor 3m future, exposure to interest rates\n",
    "\n",
    "euribor3m_future = pd.read_excel('data/euribor_FEU300-EUR.xlsx')\n",
    "euribor3m = euribor3m_future['Last']\n"
   ]
  },
  {
   "cell_type": "code",
   "execution_count": 7,
   "metadata": {},
   "outputs": [],
   "source": [
    "# Make index datetime\n",
    "euribor3m.index = pd.to_datetime(euribor3m_future.Date)"
   ]
  },
  {
   "cell_type": "code",
   "execution_count": 8,
   "metadata": {},
   "outputs": [],
   "source": [
    "euribor3m = euribor3m.iloc[::-1]\n",
    "euribor3m = euribor3m[start:end]"
   ]
  },
  {
   "cell_type": "code",
   "execution_count": 9,
   "metadata": {},
   "outputs": [
    {
     "data": {
      "text/html": [
       "<div>\n",
       "<style scoped>\n",
       "    .dataframe tbody tr th:only-of-type {\n",
       "        vertical-align: middle;\n",
       "    }\n",
       "\n",
       "    .dataframe tbody tr th {\n",
       "        vertical-align: top;\n",
       "    }\n",
       "\n",
       "    .dataframe thead th {\n",
       "        text-align: right;\n",
       "    }\n",
       "</style>\n",
       "<table border=\"1\" class=\"dataframe\">\n",
       "  <thead>\n",
       "    <tr style=\"text-align: right;\">\n",
       "      <th></th>\n",
       "      <th>DBA</th>\n",
       "      <th>EWQ</th>\n",
       "      <th>^AEX</th>\n",
       "      <th>^GSPC</th>\n",
       "      <th>^N225</th>\n",
       "    </tr>\n",
       "    <tr>\n",
       "      <th>Date</th>\n",
       "      <th></th>\n",
       "      <th></th>\n",
       "      <th></th>\n",
       "      <th></th>\n",
       "      <th></th>\n",
       "    </tr>\n",
       "  </thead>\n",
       "  <tbody>\n",
       "    <tr>\n",
       "      <th>2009-12-31</th>\n",
       "      <td>25.755527</td>\n",
       "      <td>19.757006</td>\n",
       "      <td>NaN</td>\n",
       "      <td>1115.099976</td>\n",
       "      <td>NaN</td>\n",
       "    </tr>\n",
       "    <tr>\n",
       "      <th>2010-01-04</th>\n",
       "      <td>25.999054</td>\n",
       "      <td>20.460157</td>\n",
       "      <td>343.029999</td>\n",
       "      <td>1132.989990</td>\n",
       "      <td>10654.790039</td>\n",
       "    </tr>\n",
       "    <tr>\n",
       "      <th>2010-01-05</th>\n",
       "      <td>26.164654</td>\n",
       "      <td>20.406656</td>\n",
       "      <td>342.019989</td>\n",
       "      <td>1136.520020</td>\n",
       "      <td>10681.830078</td>\n",
       "    </tr>\n",
       "    <tr>\n",
       "      <th>2010-01-06</th>\n",
       "      <td>26.310770</td>\n",
       "      <td>20.513659</td>\n",
       "      <td>341.480011</td>\n",
       "      <td>1137.140015</td>\n",
       "      <td>10731.450195</td>\n",
       "    </tr>\n",
       "    <tr>\n",
       "      <th>2010-01-07</th>\n",
       "      <td>26.106207</td>\n",
       "      <td>20.421942</td>\n",
       "      <td>340.549988</td>\n",
       "      <td>1141.689941</td>\n",
       "      <td>10681.660156</td>\n",
       "    </tr>\n",
       "    <tr>\n",
       "      <th>...</th>\n",
       "      <td>...</td>\n",
       "      <td>...</td>\n",
       "      <td>...</td>\n",
       "      <td>...</td>\n",
       "      <td>...</td>\n",
       "    </tr>\n",
       "    <tr>\n",
       "      <th>2018-12-24</th>\n",
       "      <td>16.687899</td>\n",
       "      <td>24.885502</td>\n",
       "      <td>478.339996</td>\n",
       "      <td>2351.100098</td>\n",
       "      <td>NaN</td>\n",
       "    </tr>\n",
       "    <tr>\n",
       "      <th>2018-12-25</th>\n",
       "      <td>NaN</td>\n",
       "      <td>NaN</td>\n",
       "      <td>NaN</td>\n",
       "      <td>NaN</td>\n",
       "      <td>19155.740234</td>\n",
       "    </tr>\n",
       "    <tr>\n",
       "      <th>2018-12-26</th>\n",
       "      <td>16.697742</td>\n",
       "      <td>25.567028</td>\n",
       "      <td>NaN</td>\n",
       "      <td>2467.699951</td>\n",
       "      <td>19327.060547</td>\n",
       "    </tr>\n",
       "    <tr>\n",
       "      <th>2018-12-27</th>\n",
       "      <td>16.638670</td>\n",
       "      <td>25.528084</td>\n",
       "      <td>476.029999</td>\n",
       "      <td>2488.830078</td>\n",
       "      <td>20077.619141</td>\n",
       "    </tr>\n",
       "    <tr>\n",
       "      <th>2018-12-28</th>\n",
       "      <td>16.707588</td>\n",
       "      <td>25.625444</td>\n",
       "      <td>484.170013</td>\n",
       "      <td>2485.739990</td>\n",
       "      <td>20014.769531</td>\n",
       "    </tr>\n",
       "  </tbody>\n",
       "</table>\n",
       "<p>2341 rows × 5 columns</p>\n",
       "</div>"
      ],
      "text/plain": [
       "                  DBA        EWQ        ^AEX        ^GSPC         ^N225\n",
       "Date                                                                   \n",
       "2009-12-31  25.755527  19.757006         NaN  1115.099976           NaN\n",
       "2010-01-04  25.999054  20.460157  343.029999  1132.989990  10654.790039\n",
       "2010-01-05  26.164654  20.406656  342.019989  1136.520020  10681.830078\n",
       "2010-01-06  26.310770  20.513659  341.480011  1137.140015  10731.450195\n",
       "2010-01-07  26.106207  20.421942  340.549988  1141.689941  10681.660156\n",
       "...               ...        ...         ...          ...           ...\n",
       "2018-12-24  16.687899  24.885502  478.339996  2351.100098           NaN\n",
       "2018-12-25        NaN        NaN         NaN          NaN  19155.740234\n",
       "2018-12-26  16.697742  25.567028         NaN  2467.699951  19327.060547\n",
       "2018-12-27  16.638670  25.528084  476.029999  2488.830078  20077.619141\n",
       "2018-12-28  16.707588  25.625444  484.170013  2485.739990  20014.769531\n",
       "\n",
       "[2341 rows x 5 columns]"
      ]
     },
     "execution_count": 9,
     "metadata": {},
     "output_type": "execute_result"
    }
   ],
   "source": [
    "# invest in stock (and commodity) indices (by investing in mutual funds)? ETFs?\n",
    "\n",
    "\n",
    "instruments"
   ]
  },
  {
   "cell_type": "markdown",
   "metadata": {},
   "source": [
    "### Step2: \n",
    "Implement and backtest VaR and ES for the two abovementioned confidence levels and 1-day horizon using the following methods:"
   ]
  },
  {
   "cell_type": "code",
   "execution_count": 10,
   "metadata": {},
   "outputs": [],
   "source": [
    "from functools import reduce"
   ]
  },
  {
   "cell_type": "code",
   "execution_count": 11,
   "metadata": {},
   "outputs": [],
   "source": [
    "# merge the instrument prices, exchange rates, and euribor into one dataframe\n",
    "dfs = [instruments, exchangerate, euribor3m]\n",
    "df_pf = reduce(lambda left,right: pd.merge(left,right,left_index=True, right_index=True), dfs)\n",
    "df_pf = df_pf.rename(columns={5: 'euribor3m', '^AEX':'AEX', '^GSPC':'GSPC','^N225':'N225', 'Last':'euribor3m'})"
   ]
  },
  {
   "cell_type": "code",
   "execution_count": 12,
   "metadata": {},
   "outputs": [],
   "source": [
    "instrument_names = list(df_pf.columns[:5])\n",
    "instrument_names.append('euribor3m')"
   ]
  },
  {
   "cell_type": "code",
   "execution_count": 13,
   "metadata": {},
   "outputs": [
    {
     "data": {
      "text/plain": [
       "['DBA', 'EWQ', 'AEX', 'GSPC', 'N225', 'euribor3m']"
      ]
     },
     "execution_count": 13,
     "metadata": {},
     "output_type": "execute_result"
    }
   ],
   "source": [
    "instrument_names"
   ]
  },
  {
   "cell_type": "code",
   "execution_count": 14,
   "metadata": {},
   "outputs": [],
   "source": [
    "df_returns_all = np.log(df_pf[instrument_names])- np.log(df_pf[instrument_names].shift())\n",
    "\n",
    "df_returns_all['euribor3m'] = np.log(df_pf['euribor3m'])- np.log(df_pf['euribor3m'].shift()) # negative rates?\n",
    "\n",
    "# calculate the FX returns, and use them to adjust the foreign currency denominated indices\n",
    "df_returns_all['EURJPY_ret'] = np.log(df_pf['EURJPY=X'])- np.log(df_pf['EURJPY=X'].shift())\n",
    "df_returns_all['EURUSD_ret'] = np.log(df_pf['EURUSD=X'])- np.log(df_pf['EURUSD=X'].shift())"
   ]
  },
  {
   "cell_type": "code",
   "execution_count": 15,
   "metadata": {},
   "outputs": [
    {
     "data": {
      "text/html": [
       "<div>\n",
       "<style scoped>\n",
       "    .dataframe tbody tr th:only-of-type {\n",
       "        vertical-align: middle;\n",
       "    }\n",
       "\n",
       "    .dataframe tbody tr th {\n",
       "        vertical-align: top;\n",
       "    }\n",
       "\n",
       "    .dataframe thead th {\n",
       "        text-align: right;\n",
       "    }\n",
       "</style>\n",
       "<table border=\"1\" class=\"dataframe\">\n",
       "  <thead>\n",
       "    <tr style=\"text-align: right;\">\n",
       "      <th></th>\n",
       "      <th>DBA</th>\n",
       "      <th>EWQ</th>\n",
       "      <th>AEX</th>\n",
       "      <th>GSPC</th>\n",
       "      <th>N225</th>\n",
       "      <th>euribor3m</th>\n",
       "      <th>EURJPY_ret</th>\n",
       "      <th>EURUSD_ret</th>\n",
       "    </tr>\n",
       "    <tr>\n",
       "      <th>Date</th>\n",
       "      <th></th>\n",
       "      <th></th>\n",
       "      <th></th>\n",
       "      <th></th>\n",
       "      <th></th>\n",
       "      <th></th>\n",
       "      <th></th>\n",
       "      <th></th>\n",
       "    </tr>\n",
       "  </thead>\n",
       "  <tbody>\n",
       "    <tr>\n",
       "      <th>2010-01-04</th>\n",
       "      <td>NaN</td>\n",
       "      <td>NaN</td>\n",
       "      <td>NaN</td>\n",
       "      <td>NaN</td>\n",
       "      <td>NaN</td>\n",
       "      <td>NaN</td>\n",
       "      <td>NaN</td>\n",
       "      <td>NaN</td>\n",
       "    </tr>\n",
       "    <tr>\n",
       "      <th>2010-01-05</th>\n",
       "      <td>0.006349</td>\n",
       "      <td>-0.002618</td>\n",
       "      <td>-0.002949</td>\n",
       "      <td>0.003111</td>\n",
       "      <td>0.002535</td>\n",
       "      <td>0.000151</td>\n",
       "      <td>-0.014042</td>\n",
       "      <td>-0.004031</td>\n",
       "    </tr>\n",
       "    <tr>\n",
       "      <th>2010-01-06</th>\n",
       "      <td>0.005569</td>\n",
       "      <td>0.005230</td>\n",
       "      <td>-0.001580</td>\n",
       "      <td>0.000545</td>\n",
       "      <td>0.004635</td>\n",
       "      <td>0.000101</td>\n",
       "      <td>0.011212</td>\n",
       "      <td>0.002647</td>\n",
       "    </tr>\n",
       "    <tr>\n",
       "      <th>2010-01-07</th>\n",
       "      <td>-0.007805</td>\n",
       "      <td>-0.004481</td>\n",
       "      <td>-0.002727</td>\n",
       "      <td>0.003993</td>\n",
       "      <td>-0.004650</td>\n",
       "      <td>0.000151</td>\n",
       "      <td>0.005511</td>\n",
       "      <td>-0.005989</td>\n",
       "    </tr>\n",
       "    <tr>\n",
       "      <th>2010-01-08</th>\n",
       "      <td>0.002981</td>\n",
       "      <td>0.013752</td>\n",
       "      <td>0.004073</td>\n",
       "      <td>0.002878</td>\n",
       "      <td>0.010862</td>\n",
       "      <td>-0.000050</td>\n",
       "      <td>-0.001931</td>\n",
       "      <td>0.006478</td>\n",
       "    </tr>\n",
       "  </tbody>\n",
       "</table>\n",
       "</div>"
      ],
      "text/plain": [
       "                 DBA       EWQ       AEX      GSPC      N225  euribor3m  \\\n",
       "Date                                                                      \n",
       "2010-01-04       NaN       NaN       NaN       NaN       NaN        NaN   \n",
       "2010-01-05  0.006349 -0.002618 -0.002949  0.003111  0.002535   0.000151   \n",
       "2010-01-06  0.005569  0.005230 -0.001580  0.000545  0.004635   0.000101   \n",
       "2010-01-07 -0.007805 -0.004481 -0.002727  0.003993 -0.004650   0.000151   \n",
       "2010-01-08  0.002981  0.013752  0.004073  0.002878  0.010862  -0.000050   \n",
       "\n",
       "            EURJPY_ret  EURUSD_ret  \n",
       "Date                                \n",
       "2010-01-04         NaN         NaN  \n",
       "2010-01-05   -0.014042   -0.004031  \n",
       "2010-01-06    0.011212    0.002647  \n",
       "2010-01-07    0.005511   -0.005989  \n",
       "2010-01-08   -0.001931    0.006478  "
      ]
     },
     "execution_count": 15,
     "metadata": {},
     "output_type": "execute_result"
    }
   ],
   "source": [
    "df_returns_all.head()"
   ]
  },
  {
   "cell_type": "code",
   "execution_count": 16,
   "metadata": {},
   "outputs": [],
   "source": [
    "# select the estimation period\n",
    "df_returns = df_returns_all[instrument_names][:]"
   ]
  },
  {
   "cell_type": "code",
   "execution_count": 17,
   "metadata": {},
   "outputs": [],
   "source": [
    "# adjust for exchange rates\n",
    "df_returns['DBA'] = df_returns['DBA'] * (1+df_returns_all['EURUSD_ret'])\n",
    "df_returns['EWQ'] = df_returns['EWQ'] * (1+df_returns_all['EURUSD_ret'])\n",
    "df_returns['GSPC'] = df_returns['GSPC'] * (1+df_returns_all['EURUSD_ret'])\n",
    "df_returns['N225'] = df_returns['N225'] * (1+df_returns_all['EURJPY_ret'])"
   ]
  },
  {
   "cell_type": "markdown",
   "metadata": {},
   "source": [
    "#### Estimate VaR and ES, based on Variance-Covariance method, multivariate normal distribution"
   ]
  },
  {
   "cell_type": "code",
   "execution_count": 18,
   "metadata": {},
   "outputs": [
    {
     "data": {
      "text/html": [
       "<div>\n",
       "<style scoped>\n",
       "    .dataframe tbody tr th:only-of-type {\n",
       "        vertical-align: middle;\n",
       "    }\n",
       "\n",
       "    .dataframe tbody tr th {\n",
       "        vertical-align: top;\n",
       "    }\n",
       "\n",
       "    .dataframe thead th {\n",
       "        text-align: right;\n",
       "    }\n",
       "</style>\n",
       "<table border=\"1\" class=\"dataframe\">\n",
       "  <thead>\n",
       "    <tr style=\"text-align: right;\">\n",
       "      <th></th>\n",
       "      <th>DBA</th>\n",
       "      <th>EWQ</th>\n",
       "      <th>AEX</th>\n",
       "      <th>GSPC</th>\n",
       "      <th>N225</th>\n",
       "      <th>euribor3m</th>\n",
       "    </tr>\n",
       "  </thead>\n",
       "  <tbody>\n",
       "    <tr>\n",
       "      <th>DBA</th>\n",
       "      <td>6.680151e-05</td>\n",
       "      <td>4.054976e-05</td>\n",
       "      <td>2.084994e-05</td>\n",
       "      <td>2.341740e-05</td>\n",
       "      <td>1.201325e-05</td>\n",
       "      <td>-6.176495e-08</td>\n",
       "    </tr>\n",
       "    <tr>\n",
       "      <th>EWQ</th>\n",
       "      <td>4.054976e-05</td>\n",
       "      <td>2.212690e-04</td>\n",
       "      <td>1.102516e-04</td>\n",
       "      <td>1.165002e-04</td>\n",
       "      <td>3.237039e-05</td>\n",
       "      <td>-3.270876e-07</td>\n",
       "    </tr>\n",
       "    <tr>\n",
       "      <th>AEX</th>\n",
       "      <td>2.084994e-05</td>\n",
       "      <td>1.102516e-04</td>\n",
       "      <td>1.154280e-04</td>\n",
       "      <td>6.463286e-05</td>\n",
       "      <td>4.734517e-05</td>\n",
       "      <td>-9.876114e-08</td>\n",
       "    </tr>\n",
       "    <tr>\n",
       "      <th>GSPC</th>\n",
       "      <td>2.341740e-05</td>\n",
       "      <td>1.165002e-04</td>\n",
       "      <td>6.463286e-05</td>\n",
       "      <td>9.079651e-05</td>\n",
       "      <td>2.248005e-05</td>\n",
       "      <td>-1.309112e-07</td>\n",
       "    </tr>\n",
       "    <tr>\n",
       "      <th>N225</th>\n",
       "      <td>1.201325e-05</td>\n",
       "      <td>3.237039e-05</td>\n",
       "      <td>4.734517e-05</td>\n",
       "      <td>2.248005e-05</td>\n",
       "      <td>1.796203e-04</td>\n",
       "      <td>-1.540590e-07</td>\n",
       "    </tr>\n",
       "    <tr>\n",
       "      <th>euribor3m</th>\n",
       "      <td>-6.176495e-08</td>\n",
       "      <td>-3.270876e-07</td>\n",
       "      <td>-9.876114e-08</td>\n",
       "      <td>-1.309112e-07</td>\n",
       "      <td>-1.540590e-07</td>\n",
       "      <td>5.689059e-08</td>\n",
       "    </tr>\n",
       "  </tbody>\n",
       "</table>\n",
       "</div>"
      ],
      "text/plain": [
       "                    DBA           EWQ           AEX          GSPC  \\\n",
       "DBA        6.680151e-05  4.054976e-05  2.084994e-05  2.341740e-05   \n",
       "EWQ        4.054976e-05  2.212690e-04  1.102516e-04  1.165002e-04   \n",
       "AEX        2.084994e-05  1.102516e-04  1.154280e-04  6.463286e-05   \n",
       "GSPC       2.341740e-05  1.165002e-04  6.463286e-05  9.079651e-05   \n",
       "N225       1.201325e-05  3.237039e-05  4.734517e-05  2.248005e-05   \n",
       "euribor3m -6.176495e-08 -3.270876e-07 -9.876114e-08 -1.309112e-07   \n",
       "\n",
       "                   N225     euribor3m  \n",
       "DBA        1.201325e-05 -6.176495e-08  \n",
       "EWQ        3.237039e-05 -3.270876e-07  \n",
       "AEX        4.734517e-05 -9.876114e-08  \n",
       "GSPC       2.248005e-05 -1.309112e-07  \n",
       "N225       1.796203e-04 -1.540590e-07  \n",
       "euribor3m -1.540590e-07  5.689059e-08  "
      ]
     },
     "execution_count": 18,
     "metadata": {},
     "output_type": "execute_result"
    }
   ],
   "source": [
    "# calculate the variance-covariance matrix\n",
    "cov_matrix = df_returns.cov()\n",
    "cov_matrix"
   ]
  },
  {
   "cell_type": "code",
   "execution_count": 19,
   "metadata": {},
   "outputs": [],
   "source": [
    "# calculate the mean return\n",
    "avg_returns = df_returns.mean()"
   ]
  },
  {
   "cell_type": "code",
   "execution_count": 21,
   "metadata": {},
   "outputs": [
    {
     "data": {
      "text/plain": [
       "0.00015997788952196355"
      ]
     },
     "execution_count": 21,
     "metadata": {},
     "output_type": "execute_result"
    }
   ],
   "source": [
    "# calculate the portfolio mean\n",
    "pf_mean_pct = sum(avg_returns*weights)\n",
    "pf_mean_pct"
   ]
  },
  {
   "cell_type": "code",
   "execution_count": 22,
   "metadata": {},
   "outputs": [
    {
     "data": {
      "text/plain": [
       "0.00776421970328646"
      ]
     },
     "execution_count": 22,
     "metadata": {},
     "output_type": "execute_result"
    }
   ],
   "source": [
    "# calculate the portfolio standard deviation in percentage terms\n",
    "pf_std_pct = np.sqrt(weights.T.dot(cov_matrix).dot(weights))\n",
    "pf_std_pct"
   ]
  },
  {
   "cell_type": "code",
   "execution_count": 56,
   "metadata": {},
   "outputs": [
    {
     "name": "stdout",
     "output_type": "stream",
     "text": [
      "1125984210834.7756\n",
      "776421.970328646\n"
     ]
    }
   ],
   "source": [
    "# convert the pf return and std from percentage to euro\n",
    "pf_mean_euro = pf_mean_pct * principle\n",
    "pf_std_euro = pf_std_pct * principle\n",
    "\n",
    "print (pf_mean_euro)\n",
    "print (pf_std_euro)"
   ]
  },
  {
   "cell_type": "code",
   "execution_count": 24,
   "metadata": {},
   "outputs": [
    {
     "data": {
      "text/plain": [
       "[0.025, 0.01]"
      ]
     },
     "execution_count": 24,
     "metadata": {},
     "output_type": "execute_result"
    }
   ],
   "source": [
    "confidence_levels = [0.975, 0.99]\n",
    "alphas = [0.025,0.01]\n",
    "alphas"
   ]
  },
  {
   "cell_type": "code",
   "execution_count": 25,
   "metadata": {},
   "outputs": [],
   "source": [
    "# calculate the VaR\n",
    "var_975_1d = norm.ppf(confidence_levels[0]) * pf_std_euro - pf_mean_euro\n",
    "es_975_1d = alphas[0]**-1 * norm.pdf(norm.ppf(alphas[0]))*pf_std_euro - pf_mean_euro"
   ]
  },
  {
   "cell_type": "code",
   "execution_count": 26,
   "metadata": {},
   "outputs": [],
   "source": [
    "var_990_1d = norm.ppf(confidence_levels[1]) * pf_std_euro - pf_mean_euro\n",
    "es_990_1d = alphas[1]**-1 * norm.pdf(norm.ppf(alphas[1]))*pf_std_euro - pf_mean_euro"
   ]
  },
  {
   "cell_type": "code",
   "execution_count": 27,
   "metadata": {},
   "outputs": [
    {
     "name": "stdout",
     "output_type": "stream",
     "text": [
      "VaR 99% 1d: 1790229.8110804502, ES 99% 1d: 2053333.087356622\n"
     ]
    }
   ],
   "source": [
    "print(f'VaR 99% 1d: {var_990_1d}, ES 99% 1d: {es_990_1d}')"
   ]
  },
  {
   "cell_type": "code",
   "execution_count": 28,
   "metadata": {},
   "outputs": [
    {
     "name": "stderr",
     "output_type": "stream",
     "text": [
      "/Library/Frameworks/Python.framework/Versions/3.7/lib/python3.7/site-packages/numpy/lib/histograms.py:754: RuntimeWarning: invalid value encountered in greater_equal\n",
      "  keep = (tmp_a >= first_edge)\n",
      "/Library/Frameworks/Python.framework/Versions/3.7/lib/python3.7/site-packages/numpy/lib/histograms.py:755: RuntimeWarning: invalid value encountered in less_equal\n",
      "  keep &= (tmp_a <= last_edge)\n"
     ]
    },
    {
     "data": {
      "image/png": "[encoded data removed]",
      "text/plain": [
       "<Figure size 432x288 with 1 Axes>"
      ]
     },
     "metadata": {
      "needs_background": "light"
     },
     "output_type": "display_data"
    }
   ],
   "source": [
    "plt.hist(df_returns['AEX']);"
   ]
  },
  {
   "cell_type": "markdown",
   "metadata": {},
   "source": [
    "#### Estimate VaR and ES, based on Variance-Covariance method, Student-t distribution with 3, 4, 5, 6 degrees of freedom"
   ]
  },
  {
   "cell_type": "code",
   "execution_count": 29,
   "metadata": {},
   "outputs": [],
   "source": [
    "from scipy.stats import t"
   ]
  },
  {
   "cell_type": "code",
   "execution_count": 30,
   "metadata": {},
   "outputs": [],
   "source": [
    "degree_of_freedom = [3,4,5,6]"
   ]
  },
  {
   "cell_type": "code",
   "execution_count": 31,
   "metadata": {},
   "outputs": [
    {
     "name": "stdout",
     "output_type": "stream",
     "text": [
      "Student-t distribution with 3 degree of freedom: \n",
      "VaR 97.5% 1d: 2454923.442, ES 97.5% 1d: 3300737.117\n",
      "\n",
      "Student-t distribution with 4 degree of freedom: \n",
      "VaR 97.5% 1d: 2139695.19, ES 97.5% 1d: 2555047.384\n",
      "\n",
      "Student-t distribution with 5 degree of freedom: \n",
      "VaR 97.5% 1d: 1979858.426, ES 97.5% 1d: 2247133.72\n",
      "\n",
      "Student-t distribution with 6 degree of freedom: \n",
      "VaR 97.5% 1d: 1883838.33, ES 97.5% 1d: 2090347.913\n",
      "\n"
     ]
    }
   ],
   "source": [
    "# at 97.5% confidence level\n",
    "for df in degree_of_freedom:\n",
    "    \n",
    "    tppf = t.ppf(alphas[0], df)\n",
    "    \n",
    "    var_975_1d_t= t.ppf(confidence_levels[0], df) * pf_std_euro - pf_mean_euro\n",
    "    \n",
    "    es_975_1d_t = -1/alphas[0] * (1-df)**(-1) * (df-2+tppf**2) * t.pdf(tppf, df)*pf_std_euro - pf_mean_euro\n",
    "    \n",
    "    \n",
    "    print(f'Student-t distribution with {df} degree of freedom: \\nVaR 97.5% 1d: {np.round(var_975_1d_t,3)}, ES 97.5% 1d: {np.round(es_975_1d_t,3)}\\n')"
   ]
  },
  {
   "cell_type": "code",
   "execution_count": 32,
   "metadata": {},
   "outputs": [
    {
     "name": "stdout",
     "output_type": "stream",
     "text": [
      "VaR 97.5% 1d: 1505761.31, ES 97.5% 1d: 1799123.661\n"
     ]
    }
   ],
   "source": [
    "# compare with VaR and ES under standard normal distribution\n",
    "print(f'VaR 97.5% 1d: {np.round(var_975_1d,3)}, ES 97.5% 1d: {np.round(es_975_1d,3)}')"
   ]
  },
  {
   "cell_type": "code",
   "execution_count": 33,
   "metadata": {},
   "outputs": [
    {
     "name": "stdout",
     "output_type": "stream",
     "text": [
      "Student-t distribution with 3 degree of freedom: \n",
      "VaR 97.5% 1d: 3509503.671, ES 97.5% 1d: 4960907.708\n",
      "\n",
      "Student-t distribution with 4 degree of freedom: \n",
      "VaR 97.5% 1d: 2893214.485, ES 97.5% 1d: 3587992.354\n",
      "\n",
      "Student-t distribution with 5 degree of freedom: \n",
      "VaR 97.5% 1d: 2596607.791, ES 97.5% 1d: 3017389.948\n",
      "\n",
      "Student-t distribution with 6 degree of freedom: \n",
      "VaR 97.5% 1d: 2424039.005, ES 97.5% 1d: 2720529.681\n",
      "\n"
     ]
    }
   ],
   "source": [
    "# at 99% confidence level\n",
    "for df in degree_of_freedom:\n",
    "    \n",
    "    tppf = t.ppf(alphas[1], df)\n",
    "    \n",
    "    var_990_1d_t= t.ppf(confidence_levels[1], df) * pf_std_euro - pf_mean_euro\n",
    "    \n",
    "    es_990_1d_t = -1/alphas[1] * (1-df)**(-1) * (df-2+tppf**2) * t.pdf(tppf, df) * pf_std_euro - pf_mean_euro\n",
    "    \n",
    "    \n",
    "    print(f'Student-t distribution with {df} degree of freedom: \\nVaR 97.5% 1d: {np.round(var_990_1d_t,3)}, ES 97.5% 1d: {np.round(es_990_1d_t,3)}\\n')"
   ]
  },
  {
   "cell_type": "code",
   "execution_count": 34,
   "metadata": {},
   "outputs": [
    {
     "name": "stdout",
     "output_type": "stream",
     "text": [
      "VaR 99% 1d: 1790229.811, ES 99% 1d: 2053333.087\n"
     ]
    }
   ],
   "source": [
    "# compare with VaR and ES under standard normal distribution\n",
    "print(f'VaR 99% 1d: {np.round(var_990_1d,3)}, ES 99% 1d: {np.round(es_990_1d,3)}')"
   ]
  },
  {
   "cell_type": "markdown",
   "metadata": {},
   "source": [
    "#### Estimate VaR and ES, based on Historical Simulation method"
   ]
  },
  {
   "cell_type": "code",
   "execution_count": 35,
   "metadata": {},
   "outputs": [],
   "source": [
    "# calculate the historical losses, and order them in increasing order\n",
    "df_returns = df_returns[:] # select the simulation period\n",
    "pf_losses = np.sort(principle * df_returns.dot(weights))"
   ]
  },
  {
   "cell_type": "code",
   "execution_count": 36,
   "metadata": {},
   "outputs": [],
   "source": [
    "# at 97.5% confidence level\n",
    "var_975_1d_hsm = pf_losses[int(alphas[0]*len(pf_losses))]\n",
    "es_975_1d_hsm = pf_losses[0:int(alphas[0]*len(pf_losses))].mean()"
   ]
  },
  {
   "cell_type": "code",
   "execution_count": 37,
   "metadata": {},
   "outputs": [
    {
     "name": "stdout",
     "output_type": "stream",
     "text": [
      "VaR 97.5% 1d: -1605894.394, ES 97.5% 1d: -2332376.66\n"
     ]
    }
   ],
   "source": [
    "print(f'VaR 97.5% 1d: {np.round(var_975_1d_hsm,3)}, ES 97.5% 1d: {np.round(es_975_1d_hsm,3)}')"
   ]
  },
  {
   "cell_type": "code",
   "execution_count": 38,
   "metadata": {},
   "outputs": [],
   "source": [
    "# at 99% confidence level\n",
    "var_990_1d_hsm = pf_losses[int(alphas[1]*len(pf_losses))]\n",
    "es_990_1d_hsm = pf_losses[0:int(alphas[1]*len(pf_losses))].mean()"
   ]
  },
  {
   "cell_type": "code",
   "execution_count": 39,
   "metadata": {},
   "outputs": [
    {
     "name": "stdout",
     "output_type": "stream",
     "text": [
      "VaR 99% 1d: -2314570.75, ES 99% 1d: -3059666.776\n"
     ]
    }
   ],
   "source": [
    "print(f'VaR 99% 1d: {np.round(var_990_1d_hsm,3)}, ES 99% 1d: {np.round(es_990_1d_hsm,3)}')"
   ]
  },
  {
   "cell_type": "markdown",
   "metadata": {},
   "source": [
    "#### Estimate VaR and ES, based on Constant Conditional Correlation method"
   ]
  },
  {
   "cell_type": "code",
   "execution_count": 40,
   "metadata": {},
   "outputs": [],
   "source": [
    "# Fill empty cells\n",
    "df_returns = df_returns.ffill().iloc[1:,:]\n",
    "\n",
    "# Rescale data to monetary values\n",
    "returns = df_returns*principle"
   ]
  },
  {
   "cell_type": "code",
   "execution_count": 41,
   "metadata": {},
   "outputs": [
    {
     "data": {
      "text/html": [
       "<div>\n",
       "<style scoped>\n",
       "    .dataframe tbody tr th:only-of-type {\n",
       "        vertical-align: middle;\n",
       "    }\n",
       "\n",
       "    .dataframe tbody tr th {\n",
       "        vertical-align: top;\n",
       "    }\n",
       "\n",
       "    .dataframe thead th {\n",
       "        text-align: right;\n",
       "    }\n",
       "</style>\n",
       "<table border=\"1\" class=\"dataframe\">\n",
       "  <thead>\n",
       "    <tr style=\"text-align: right;\">\n",
       "      <th></th>\n",
       "      <th>DBA</th>\n",
       "      <th>EWQ</th>\n",
       "      <th>AEX</th>\n",
       "      <th>GSPC</th>\n",
       "      <th>N225</th>\n",
       "      <th>euribor3m</th>\n",
       "    </tr>\n",
       "    <tr>\n",
       "      <th>Date</th>\n",
       "      <th></th>\n",
       "      <th></th>\n",
       "      <th></th>\n",
       "      <th></th>\n",
       "      <th></th>\n",
       "      <th></th>\n",
       "    </tr>\n",
       "  </thead>\n",
       "  <tbody>\n",
       "    <tr>\n",
       "      <th>2010-01-05</th>\n",
       "      <td>632366.564782</td>\n",
       "      <td>-2.607765e+05</td>\n",
       "      <td>-2.948721e+05</td>\n",
       "      <td>3.098294e+05</td>\n",
       "      <td>2.499023e+05</td>\n",
       "      <td>15112.969475</td>\n",
       "    </tr>\n",
       "    <tr>\n",
       "      <th>2010-01-06</th>\n",
       "      <td>558369.483869</td>\n",
       "      <td>5.243641e+05</td>\n",
       "      <td>-1.580038e+05</td>\n",
       "      <td>5.468154e+04</td>\n",
       "      <td>4.686488e+05</td>\n",
       "      <td>10074.044234</td>\n",
       "    </tr>\n",
       "    <tr>\n",
       "      <th>2010-01-07</th>\n",
       "      <td>-775852.227522</td>\n",
       "      <td>-4.454200e+05</td>\n",
       "      <td>-2.727222e+05</td>\n",
       "      <td>3.969305e+05</td>\n",
       "      <td>-4.676061e+05</td>\n",
       "      <td>15109.163737</td>\n",
       "    </tr>\n",
       "    <tr>\n",
       "      <th>2010-01-08</th>\n",
       "      <td>299992.106109</td>\n",
       "      <td>1.384151e+06</td>\n",
       "      <td>4.073368e+05</td>\n",
       "      <td>2.896225e+05</td>\n",
       "      <td>1.084136e+06</td>\n",
       "      <td>-5036.134264</td>\n",
       "    </tr>\n",
       "    <tr>\n",
       "      <th>2010-01-11</th>\n",
       "      <td>-450521.134510</td>\n",
       "      <td>8.512906e+05</td>\n",
       "      <td>-4.161461e+05</td>\n",
       "      <td>1.757321e+05</td>\n",
       "      <td>1.084136e+06</td>\n",
       "      <td>15107.641978</td>\n",
       "    </tr>\n",
       "    <tr>\n",
       "      <th>...</th>\n",
       "      <td>...</td>\n",
       "      <td>...</td>\n",
       "      <td>...</td>\n",
       "      <td>...</td>\n",
       "      <td>...</td>\n",
       "      <td>...</td>\n",
       "    </tr>\n",
       "    <tr>\n",
       "      <th>2018-12-19</th>\n",
       "      <td>-174755.015541</td>\n",
       "      <td>-8.308029e+05</td>\n",
       "      <td>3.109687e+05</td>\n",
       "      <td>-1.555037e+06</td>\n",
       "      <td>-6.055141e+05</td>\n",
       "      <td>9971.083865</td>\n",
       "    </tr>\n",
       "    <tr>\n",
       "      <th>2018-12-20</th>\n",
       "      <td>-291666.102118</td>\n",
       "      <td>-4.175886e+05</td>\n",
       "      <td>-2.040885e+06</td>\n",
       "      <td>-1.591753e+06</td>\n",
       "      <td>-2.878131e+06</td>\n",
       "      <td>4985.169123</td>\n",
       "    </tr>\n",
       "    <tr>\n",
       "      <th>2018-12-21</th>\n",
       "      <td>-824977.975240</td>\n",
       "      <td>-1.346596e+06</td>\n",
       "      <td>-2.389840e+05</td>\n",
       "      <td>-2.092574e+06</td>\n",
       "      <td>-1.110547e+06</td>\n",
       "      <td>0.000000</td>\n",
       "    </tr>\n",
       "    <tr>\n",
       "      <th>2018-12-27</th>\n",
       "      <td>470517.982140</td>\n",
       "      <td>9.500213e+05</td>\n",
       "      <td>-1.827618e+06</td>\n",
       "      <td>2.919628e+06</td>\n",
       "      <td>-4.368840e+05</td>\n",
       "      <td>0.000000</td>\n",
       "    </tr>\n",
       "    <tr>\n",
       "      <th>2018-12-28</th>\n",
       "      <td>415879.259661</td>\n",
       "      <td>3.829904e+05</td>\n",
       "      <td>1.695524e+06</td>\n",
       "      <td>-1.249957e+05</td>\n",
       "      <td>-3.144232e+05</td>\n",
       "      <td>4984.920616</td>\n",
       "    </tr>\n",
       "  </tbody>\n",
       "</table>\n",
       "<p>2288 rows × 6 columns</p>\n",
       "</div>"
      ],
      "text/plain": [
       "                      DBA           EWQ           AEX          GSPC  \\\n",
       "Date                                                                  \n",
       "2010-01-05  632366.564782 -2.607765e+05 -2.948721e+05  3.098294e+05   \n",
       "2010-01-06  558369.483869  5.243641e+05 -1.580038e+05  5.468154e+04   \n",
       "2010-01-07 -775852.227522 -4.454200e+05 -2.727222e+05  3.969305e+05   \n",
       "2010-01-08  299992.106109  1.384151e+06  4.073368e+05  2.896225e+05   \n",
       "2010-01-11 -450521.134510  8.512906e+05 -4.161461e+05  1.757321e+05   \n",
       "...                   ...           ...           ...           ...   \n",
       "2018-12-19 -174755.015541 -8.308029e+05  3.109687e+05 -1.555037e+06   \n",
       "2018-12-20 -291666.102118 -4.175886e+05 -2.040885e+06 -1.591753e+06   \n",
       "2018-12-21 -824977.975240 -1.346596e+06 -2.389840e+05 -2.092574e+06   \n",
       "2018-12-27  470517.982140  9.500213e+05 -1.827618e+06  2.919628e+06   \n",
       "2018-12-28  415879.259661  3.829904e+05  1.695524e+06 -1.249957e+05   \n",
       "\n",
       "                    N225     euribor3m  \n",
       "Date                                    \n",
       "2010-01-05  2.499023e+05  15112.969475  \n",
       "2010-01-06  4.686488e+05  10074.044234  \n",
       "2010-01-07 -4.676061e+05  15109.163737  \n",
       "2010-01-08  1.084136e+06  -5036.134264  \n",
       "2010-01-11  1.084136e+06  15107.641978  \n",
       "...                  ...           ...  \n",
       "2018-12-19 -6.055141e+05   9971.083865  \n",
       "2018-12-20 -2.878131e+06   4985.169123  \n",
       "2018-12-21 -1.110547e+06      0.000000  \n",
       "2018-12-27 -4.368840e+05      0.000000  \n",
       "2018-12-28 -3.144232e+05   4984.920616  \n",
       "\n",
       "[2288 rows x 6 columns]"
      ]
     },
     "execution_count": 41,
     "metadata": {},
     "output_type": "execute_result"
    }
   ],
   "source": [
    "returns"
   ]
  },
  {
   "cell_type": "code",
   "execution_count": 42,
   "metadata": {},
   "outputs": [],
   "source": [
    "# Divide train and test split\n",
    "split_date = dt.datetime(2012,1,1)"
   ]
  },
  {
   "cell_type": "code",
   "execution_count": 43,
   "metadata": {},
   "outputs": [
    {
     "name": "stdout",
     "output_type": "stream",
     "text": [
      "Optimization terminated successfully.    (Exit mode 0)\n",
      "            Current function value: 7838.396086456631\n",
      "            Iterations: 5\n",
      "            Function evaluations: 35\n",
      "            Gradient evaluations: 5\n"
     ]
    },
    {
     "name": "stderr",
     "output_type": "stream",
     "text": [
      "/Library/Frameworks/Python.framework/Versions/3.7/lib/python3.7/site-packages/arch/univariate/base.py:293: DataScaleWarning: y is poorly scaled, which may affect convergence of the optimizer when\n",
      "estimating the model parameters. The scale of y is 1.208e+12. Parameter\n",
      "estimation work better when this value is between 1 and 1000. The recommended\n",
      "rescaling is 1e-05 * y.\n",
      "\n",
      "This warning can be disabled by either rescaling y before initializing the\n",
      "model or by setting rescale=False.\n",
      "\n",
      "  data_scale_warning.format(orig_scale, rescale), DataScaleWarning\n",
      "/Library/Frameworks/Python.framework/Versions/3.7/lib/python3.7/site-packages/arch/univariate/base.py:293: DataScaleWarning: y is poorly scaled, which may affect convergence of the optimizer when\n",
      "estimating the model parameters. The scale of y is 4.978e+12. Parameter\n",
      "estimation work better when this value is between 1 and 1000. The recommended\n",
      "rescaling is 1e-05 * y.\n",
      "\n",
      "This warning can be disabled by either rescaling y before initializing the\n",
      "model or by setting rescale=False.\n",
      "\n",
      "  data_scale_warning.format(orig_scale, rescale), DataScaleWarning\n"
     ]
    },
    {
     "name": "stdout",
     "output_type": "stream",
     "text": [
      "Optimization terminated successfully.    (Exit mode 0)\n",
      "            Current function value: 8164.620986523053\n",
      "            Iterations: 6\n",
      "            Function evaluations: 40\n",
      "            Gradient evaluations: 6\n"
     ]
    },
    {
     "name": "stderr",
     "output_type": "stream",
     "text": [
      "/Library/Frameworks/Python.framework/Versions/3.7/lib/python3.7/site-packages/arch/univariate/base.py:293: DataScaleWarning: y is poorly scaled, which may affect convergence of the optimizer when\n",
      "estimating the model parameters. The scale of y is 1.815e+12. Parameter\n",
      "estimation work better when this value is between 1 and 1000. The recommended\n",
      "rescaling is 1e-05 * y.\n",
      "\n",
      "This warning can be disabled by either rescaling y before initializing the\n",
      "model or by setting rescale=False.\n",
      "\n",
      "  data_scale_warning.format(orig_scale, rescale), DataScaleWarning\n"
     ]
    },
    {
     "name": "stdout",
     "output_type": "stream",
     "text": [
      "Optimization terminated successfully.    (Exit mode 0)\n",
      "            Current function value: 7896.194011868129\n",
      "            Iterations: 6\n",
      "            Function evaluations: 41\n",
      "            Gradient evaluations: 6\n"
     ]
    },
    {
     "name": "stderr",
     "output_type": "stream",
     "text": [
      "/Library/Frameworks/Python.framework/Versions/3.7/lib/python3.7/site-packages/arch/univariate/base.py:293: DataScaleWarning: y is poorly scaled, which may affect convergence of the optimizer when\n",
      "estimating the model parameters. The scale of y is 1.743e+12. Parameter\n",
      "estimation work better when this value is between 1 and 1000. The recommended\n",
      "rescaling is 1e-05 * y.\n",
      "\n",
      "This warning can be disabled by either rescaling y before initializing the\n",
      "model or by setting rescale=False.\n",
      "\n",
      "  data_scale_warning.format(orig_scale, rescale), DataScaleWarning\n"
     ]
    },
    {
     "name": "stdout",
     "output_type": "stream",
     "text": [
      "Optimization terminated successfully.    (Exit mode 0)\n",
      "            Current function value: 7866.450217496082\n",
      "            Iterations: 6\n",
      "            Function evaluations: 41\n",
      "            Gradient evaluations: 6\n"
     ]
    },
    {
     "name": "stderr",
     "output_type": "stream",
     "text": [
      "/Library/Frameworks/Python.framework/Versions/3.7/lib/python3.7/site-packages/arch/univariate/base.py:293: DataScaleWarning: y is poorly scaled, which may affect convergence of the optimizer when\n",
      "estimating the model parameters. The scale of y is 2.019e+12. Parameter\n",
      "estimation work better when this value is between 1 and 1000. The recommended\n",
      "rescaling is 1e-05 * y.\n",
      "\n",
      "This warning can be disabled by either rescaling y before initializing the\n",
      "model or by setting rescale=False.\n",
      "\n",
      "  data_scale_warning.format(orig_scale, rescale), DataScaleWarning\n"
     ]
    },
    {
     "name": "stdout",
     "output_type": "stream",
     "text": [
      "Optimization terminated successfully.    (Exit mode 0)\n",
      "            Current function value: 7934.612493915942\n",
      "            Iterations: 5\n",
      "            Function evaluations: 34\n",
      "            Gradient evaluations: 5\n"
     ]
    },
    {
     "name": "stderr",
     "output_type": "stream",
     "text": [
      "/Library/Frameworks/Python.framework/Versions/3.7/lib/python3.7/site-packages/arch/univariate/base.py:293: DataScaleWarning: y is poorly scaled, which may affect convergence of the optimizer when\n",
      "estimating the model parameters. The scale of y is 1.576e+09. Parameter\n",
      "estimation work better when this value is between 1 and 1000. The recommended\n",
      "rescaling is 0.001 * y.\n",
      "\n",
      "This warning can be disabled by either rescaling y before initializing the\n",
      "model or by setting rescale=False.\n",
      "\n",
      "  data_scale_warning.format(orig_scale, rescale), DataScaleWarning\n"
     ]
    },
    {
     "name": "stdout",
     "output_type": "stream",
     "text": [
      "Optimization terminated successfully.    (Exit mode 0)\n",
      "            Current function value: 6124.9511064411345\n",
      "            Iterations: 8\n",
      "            Function evaluations: 55\n",
      "            Gradient evaluations: 8\n"
     ]
    },
    {
     "data": {
      "image/png": "[encoded data removed]",
      "text/plain": [
       "<Figure size 432x288 with 1 Axes>"
      ]
     },
     "metadata": {
      "needs_background": "light"
     },
     "output_type": "display_data"
    },
    {
     "data": {
      "image/png": "[encoded data removed]",
      "text/plain": [
       "<Figure size 432x288 with 1 Axes>"
      ]
     },
     "metadata": {
      "needs_background": "light"
     },
     "output_type": "display_data"
    },
    {
     "data": {
      "image/png": "[encoded data removed]",
      "text/plain": [
       "<Figure size 432x288 with 1 Axes>"
      ]
     },
     "metadata": {
      "needs_background": "light"
     },
     "output_type": "display_data"
    },
    {
     "data": {
      "image/png": "[encoded data removed]",
      "text/plain": [
       "<Figure size 432x288 with 1 Axes>"
      ]
     },
     "metadata": {
      "needs_background": "light"
     },
     "output_type": "display_data"
    },
    {
     "data": {
      "image/png": "[encoded data removed]",
      "text/plain": [
       "<Figure size 432x288 with 1 Axes>"
      ]
     },
     "metadata": {
      "needs_background": "light"
     },
     "output_type": "display_data"
    },
    {
     "data": {
      "image/png": "[encoded data removed]",
      "text/plain": [
       "<Figure size 432x288 with 1 Axes>"
      ]
     },
     "metadata": {
      "needs_background": "light"
     },
     "output_type": "display_data"
    }
   ],
   "source": [
    "from arch import arch_model\n",
    "\n",
    "# Create empty dict to store parameter values\n",
    "params_dict = {}\n",
    "\n",
    "# Create dataframe to store volatility forecasts\n",
    "variance_forecast = pd.DataFrame(index=returns.loc[split_date:end].index)\n",
    "\n",
    "# Fit GARCH(1,1) for each instrument\n",
    "for instrument in returns.columns:\n",
    "\n",
    "    garch11 = arch_model(returns[instrument], p=1, q=1, dist='Normal', vol='Garch')\n",
    "    res = garch11.fit(update_freq=10, last_obs=split_date)\n",
    "    \n",
    "    forecasts = res.forecast(start=split_date, method='simulation')\n",
    "    forecasts.variance[split_date:].plot();\n",
    "    \n",
    "    variance_forecast[instrument] = forecasts.variance[split_date:]\n",
    "    params_dict[instrument] = res.params"
   ]
  },
  {
   "cell_type": "code",
   "execution_count": 44,
   "metadata": {},
   "outputs": [
    {
     "data": {
      "text/html": [
       "<div>\n",
       "<style scoped>\n",
       "    .dataframe tbody tr th:only-of-type {\n",
       "        vertical-align: middle;\n",
       "    }\n",
       "\n",
       "    .dataframe tbody tr th {\n",
       "        vertical-align: top;\n",
       "    }\n",
       "\n",
       "    .dataframe thead th {\n",
       "        text-align: right;\n",
       "    }\n",
       "</style>\n",
       "<table border=\"1\" class=\"dataframe\">\n",
       "  <thead>\n",
       "    <tr style=\"text-align: right;\">\n",
       "      <th></th>\n",
       "      <th>DBA</th>\n",
       "      <th>EWQ</th>\n",
       "      <th>AEX</th>\n",
       "      <th>GSPC</th>\n",
       "      <th>N225</th>\n",
       "      <th>euribor3m</th>\n",
       "    </tr>\n",
       "    <tr>\n",
       "      <th>Date</th>\n",
       "      <th></th>\n",
       "      <th></th>\n",
       "      <th></th>\n",
       "      <th></th>\n",
       "      <th></th>\n",
       "      <th></th>\n",
       "    </tr>\n",
       "  </thead>\n",
       "  <tbody>\n",
       "    <tr>\n",
       "      <th>2012-01-02</th>\n",
       "      <td>7.530999e+11</td>\n",
       "      <td>4.617377e+12</td>\n",
       "      <td>1.704722e+12</td>\n",
       "      <td>1.278602e+12</td>\n",
       "      <td>1.002512e+12</td>\n",
       "      <td>1.894334e+09</td>\n",
       "    </tr>\n",
       "    <tr>\n",
       "      <th>2012-01-03</th>\n",
       "      <td>7.338599e+11</td>\n",
       "      <td>4.212994e+12</td>\n",
       "      <td>1.537373e+12</td>\n",
       "      <td>1.150984e+12</td>\n",
       "      <td>1.013675e+12</td>\n",
       "      <td>1.889329e+09</td>\n",
       "    </tr>\n",
       "    <tr>\n",
       "      <th>2012-01-04</th>\n",
       "      <td>7.185168e+11</td>\n",
       "      <td>4.117874e+12</td>\n",
       "      <td>1.509900e+12</td>\n",
       "      <td>1.015540e+12</td>\n",
       "      <td>1.021569e+12</td>\n",
       "      <td>1.885749e+09</td>\n",
       "    </tr>\n",
       "    <tr>\n",
       "      <th>2012-01-05</th>\n",
       "      <td>1.190927e+12</td>\n",
       "      <td>4.161182e+12</td>\n",
       "      <td>1.425547e+12</td>\n",
       "      <td>9.102351e+11</td>\n",
       "      <td>1.035666e+12</td>\n",
       "      <td>1.883476e+09</td>\n",
       "    </tr>\n",
       "    <tr>\n",
       "      <th>2012-01-06</th>\n",
       "      <td>1.071600e+12</td>\n",
       "      <td>4.066542e+12</td>\n",
       "      <td>1.282711e+12</td>\n",
       "      <td>8.199715e+11</td>\n",
       "      <td>1.162685e+12</td>\n",
       "      <td>1.878908e+09</td>\n",
       "    </tr>\n",
       "  </tbody>\n",
       "</table>\n",
       "</div>"
      ],
      "text/plain": [
       "                     DBA           EWQ           AEX          GSPC  \\\n",
       "Date                                                                 \n",
       "2012-01-02  7.530999e+11  4.617377e+12  1.704722e+12  1.278602e+12   \n",
       "2012-01-03  7.338599e+11  4.212994e+12  1.537373e+12  1.150984e+12   \n",
       "2012-01-04  7.185168e+11  4.117874e+12  1.509900e+12  1.015540e+12   \n",
       "2012-01-05  1.190927e+12  4.161182e+12  1.425547e+12  9.102351e+11   \n",
       "2012-01-06  1.071600e+12  4.066542e+12  1.282711e+12  8.199715e+11   \n",
       "\n",
       "                    N225     euribor3m  \n",
       "Date                                    \n",
       "2012-01-02  1.002512e+12  1.894334e+09  \n",
       "2012-01-03  1.013675e+12  1.889329e+09  \n",
       "2012-01-04  1.021569e+12  1.885749e+09  \n",
       "2012-01-05  1.035666e+12  1.883476e+09  \n",
       "2012-01-06  1.162685e+12  1.878908e+09  "
      ]
     },
     "execution_count": 44,
     "metadata": {},
     "output_type": "execute_result"
    }
   ],
   "source": [
    "# Forecasted volatilities by GARCH(1,1)\n",
    "variance_forecast.head()"
   ]
  },
  {
   "cell_type": "code",
   "execution_count": 45,
   "metadata": {},
   "outputs": [],
   "source": [
    "# Estimate constant correlation matrix and mean variance per risk factor\n",
    "cons_corr = np.array(returns[start:split_date].corr())\n",
    "mean_volatility = np.array(np.sqrt(variance_forecast.mean()))"
   ]
  },
  {
   "cell_type": "code",
   "execution_count": 46,
   "metadata": {},
   "outputs": [
    {
     "data": {
      "text/html": [
       "<div>\n",
       "<style scoped>\n",
       "    .dataframe tbody tr th:only-of-type {\n",
       "        vertical-align: middle;\n",
       "    }\n",
       "\n",
       "    .dataframe tbody tr th {\n",
       "        vertical-align: top;\n",
       "    }\n",
       "\n",
       "    .dataframe thead th {\n",
       "        text-align: right;\n",
       "    }\n",
       "</style>\n",
       "<table border=\"1\" class=\"dataframe\">\n",
       "  <thead>\n",
       "    <tr style=\"text-align: right;\">\n",
       "      <th></th>\n",
       "      <th>DBA</th>\n",
       "      <th>EWQ</th>\n",
       "      <th>AEX</th>\n",
       "      <th>GSPC</th>\n",
       "      <th>N225</th>\n",
       "      <th>euribor3m</th>\n",
       "    </tr>\n",
       "  </thead>\n",
       "  <tbody>\n",
       "    <tr>\n",
       "      <th>DBA</th>\n",
       "      <td>1.000000</td>\n",
       "      <td>0.457031</td>\n",
       "      <td>0.329069</td>\n",
       "      <td>0.468402</td>\n",
       "      <td>0.154489</td>\n",
       "      <td>-0.043996</td>\n",
       "    </tr>\n",
       "    <tr>\n",
       "      <th>EWQ</th>\n",
       "      <td>0.457031</td>\n",
       "      <td>1.000000</td>\n",
       "      <td>0.734661</td>\n",
       "      <td>0.905608</td>\n",
       "      <td>0.160028</td>\n",
       "      <td>-0.180698</td>\n",
       "    </tr>\n",
       "    <tr>\n",
       "      <th>AEX</th>\n",
       "      <td>0.329069</td>\n",
       "      <td>0.734661</td>\n",
       "      <td>1.000000</td>\n",
       "      <td>0.707472</td>\n",
       "      <td>0.313764</td>\n",
       "      <td>-0.162930</td>\n",
       "    </tr>\n",
       "    <tr>\n",
       "      <th>GSPC</th>\n",
       "      <td>0.468402</td>\n",
       "      <td>0.905608</td>\n",
       "      <td>0.707472</td>\n",
       "      <td>1.000000</td>\n",
       "      <td>0.166325</td>\n",
       "      <td>-0.162660</td>\n",
       "    </tr>\n",
       "    <tr>\n",
       "      <th>N225</th>\n",
       "      <td>0.154489</td>\n",
       "      <td>0.160028</td>\n",
       "      <td>0.313764</td>\n",
       "      <td>0.166325</td>\n",
       "      <td>1.000000</td>\n",
       "      <td>-0.087265</td>\n",
       "    </tr>\n",
       "    <tr>\n",
       "      <th>euribor3m</th>\n",
       "      <td>-0.043996</td>\n",
       "      <td>-0.180698</td>\n",
       "      <td>-0.162930</td>\n",
       "      <td>-0.162660</td>\n",
       "      <td>-0.087265</td>\n",
       "      <td>1.000000</td>\n",
       "    </tr>\n",
       "  </tbody>\n",
       "</table>\n",
       "</div>"
      ],
      "text/plain": [
       "                DBA       EWQ       AEX      GSPC      N225  euribor3m\n",
       "DBA        1.000000  0.457031  0.329069  0.468402  0.154489  -0.043996\n",
       "EWQ        0.457031  1.000000  0.734661  0.905608  0.160028  -0.180698\n",
       "AEX        0.329069  0.734661  1.000000  0.707472  0.313764  -0.162930\n",
       "GSPC       0.468402  0.905608  0.707472  1.000000  0.166325  -0.162660\n",
       "N225       0.154489  0.160028  0.313764  0.166325  1.000000  -0.087265\n",
       "euribor3m -0.043996 -0.180698 -0.162930 -0.162660 -0.087265   1.000000"
      ]
     },
     "execution_count": 46,
     "metadata": {},
     "output_type": "execute_result"
    }
   ],
   "source": [
    "returns[start:split_date].corr()"
   ]
  },
  {
   "cell_type": "code",
   "execution_count": 47,
   "metadata": {},
   "outputs": [
    {
     "data": {
      "text/plain": [
       "DBA          9.217407e+05\n",
       "EWQ          1.441141e+06\n",
       "AEX          1.061172e+06\n",
       "GSPC         9.101350e+05\n",
       "N225         1.353449e+06\n",
       "euribor3m    4.087624e+04\n",
       "dtype: float64"
      ]
     },
     "execution_count": 47,
     "metadata": {},
     "output_type": "execute_result"
    }
   ],
   "source": [
    "np.sqrt(variance_forecast.mean())"
   ]
  },
  {
   "cell_type": "code",
   "execution_count": 48,
   "metadata": {},
   "outputs": [
    {
     "data": {
      "text/plain": [
       "array([[ 1.        ,  0.45703139,  0.32906913,  0.46840153,  0.15448889,\n",
       "        -0.04399644],\n",
       "       [ 0.45703139,  1.        ,  0.73466076,  0.90560794,  0.16002849,\n",
       "        -0.18069816],\n",
       "       [ 0.32906913,  0.73466076,  1.        ,  0.70747156,  0.31376443,\n",
       "        -0.16292951],\n",
       "       [ 0.46840153,  0.90560794,  0.70747156,  1.        ,  0.1663251 ,\n",
       "        -0.16265984],\n",
       "       [ 0.15448889,  0.16002849,  0.31376443,  0.1663251 ,  1.        ,\n",
       "        -0.08726503],\n",
       "       [-0.04399644, -0.18069816, -0.16292951, -0.16265984, -0.08726503,\n",
       "         1.        ]])"
      ]
     },
     "execution_count": 48,
     "metadata": {},
     "output_type": "execute_result"
    }
   ],
   "source": [
    "cons_corr"
   ]
  },
  {
   "cell_type": "code",
   "execution_count": 49,
   "metadata": {},
   "outputs": [
    {
     "data": {
      "text/plain": [
       "array([ 921740.6759015 , 1441141.45683462, 1061171.59528738,\n",
       "        910134.98033826, 1353449.3344655 ,   40876.24285757])"
      ]
     },
     "execution_count": 49,
     "metadata": {},
     "output_type": "execute_result"
    }
   ],
   "source": [
    "mean_volatility"
   ]
  },
  {
   "cell_type": "code",
   "execution_count": 50,
   "metadata": {},
   "outputs": [],
   "source": [
    "# Calculate the covariance table with the constant correlations and time-varying volatilities\n",
    "ccc_covar = np.zeros([len(mean_volatility),len(mean_volatility)])\n",
    "\n",
    "for i in range(len(cons_corr)):\n",
    "    for j in range(len(mean_volatility)):\n",
    "        ccc_covar[i,j] = mean_volatility[i] * mean_volatility[j] * cons_corr[i,j]"
   ]
  },
  {
   "cell_type": "code",
   "execution_count": 51,
   "metadata": {},
   "outputs": [
    {
     "data": {
      "text/plain": [
       "array([[ 8.49605874e+11,  6.07101621e+11,  3.21870749e+11,\n",
       "         3.92945990e+11,  1.92729423e+11, -1.65766672e+09],\n",
       "       [ 6.07101621e+11,  2.07688870e+12,  1.12351551e+12,\n",
       "         1.18782548e+12,  3.12137483e+11, -1.06446483e+10],\n",
       "       [ 3.21870749e+11,  1.12351551e+12,  1.12608515e+12,\n",
       "         6.83282676e+11,  4.50641649e+11, -7.06734583e+09],\n",
       "       [ 3.92945990e+11,  1.18782548e+12,  6.83282676e+11,\n",
       "         8.28345682e+11,  2.04882849e+11, -6.05141766e+09],\n",
       "       [ 1.92729423e+11,  3.12137483e+11,  4.50641649e+11,\n",
       "         2.04882849e+11,  1.83182510e+12, -4.82784360e+09],\n",
       "       [-1.65766672e+09, -1.06446483e+10, -7.06734583e+09,\n",
       "        -6.05141766e+09, -4.82784360e+09,  1.67086723e+09]])"
      ]
     },
     "execution_count": 51,
     "metadata": {},
     "output_type": "execute_result"
    }
   ],
   "source": [
    "ccc_covar"
   ]
  },
  {
   "cell_type": "code",
   "execution_count": 57,
   "metadata": {},
   "outputs": [],
   "source": [
    "ccc_std_euro = np.sqrt(weights.T.dot(ccc_covar).dot(weights))"
   ]
  },
  {
   "cell_type": "code",
   "execution_count": 58,
   "metadata": {},
   "outputs": [
    {
     "data": {
      "text/plain": [
       "787039.0793397828"
      ]
     },
     "execution_count": 58,
     "metadata": {},
     "output_type": "execute_result"
    }
   ],
   "source": [
    "ccc_std_euro"
   ]
  },
  {
   "cell_type": "code",
   "execution_count": 59,
   "metadata": {},
   "outputs": [],
   "source": [
    "avg_returns = returns.mean()\n",
    "pf_mean_euro = sum(avg_returns*weights)"
   ]
  },
  {
   "cell_type": "code",
   "execution_count": 60,
   "metadata": {},
   "outputs": [
    {
     "data": {
      "text/plain": [
       "11259.842108347755"
      ]
     },
     "execution_count": 60,
     "metadata": {},
     "output_type": "execute_result"
    }
   ],
   "source": [
    "pf_mean_euro"
   ]
  },
  {
   "cell_type": "markdown",
   "metadata": {},
   "source": [
    "#### Estimate VaR and ES, based on Filtered Historical Simulation method with EWMA for each risk factor ####"
   ]
  },
  {
   "cell_type": "code",
   "execution_count": null,
   "metadata": {},
   "outputs": [],
   "source": []
  }
 ],
 "metadata": {
  "kernelspec": {
   "display_name": "Python 3",
   "language": "python",
   "name": "python3"
  },
  "language_info": {
   "codemirror_mode": {
    "name": "ipython",
    "version": 3
   },
   "file_extension": ".py",
   "mimetype": "text/x-python",
   "name": "python",
   "nbconvert_exporter": "python",
   "pygments_lexer": "ipython3",
   "version": "3.7.2"
  }
 },
 "nbformat": 4,
 "nbformat_minor": 4
}
