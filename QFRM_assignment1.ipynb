{
 "cells": [
  {
   "cell_type": "code",
   "execution_count": 1,
   "metadata": {},
   "outputs": [],
   "source": [
    "# Data processing\n",
    "import numpy as np\n",
    "import pandas as pd\n",
    "import datetime as dt\n",
    "\n",
    "# Download data\n",
    "import yfinance as yf\n",
    "\n",
    "from scipy.stats import norm\n",
    "import statsmodels.api as sm\n",
    "from matplotlib import pyplot as plt"
   ]
  },
  {
   "cell_type": "code",
   "execution_count": 2,
   "metadata": {},
   "outputs": [],
   "source": [
    "# Initial investment and currency per stock\n",
    "\n",
    "# in dollar values initially?\n",
    "\n",
    "principle = 100000000 #100mil\n",
    "\n",
    "# initial weights\n",
    "\n",
    "# for respective instruments, and 10% for cash\n",
    "weights = np.array([0.1,0.2,0.2,0.2,0.2, 0.1])\n",
    "\n",
    "investment = {\n",
    "    \"DBA\" : [10000000, 'USD'], # iPath Pure Beta Broad Commodity ETN (BCM)\n",
    "    \"EWQ\" : [20000000, 'USD'], # iShares MSCI France ETF, NYSE, USD\n",
    "    \"^AEX\"  : [20000000, 'EUR'], # AEX Index\n",
    "    \"^GSPC\" : [20000000, 'USD'], # S&P 500 Index\n",
    "    \"^N225\" : [20000000, 'JPY'] # Nikkei 225\n",
    "}\n",
    "\n",
    "start = \"2010-01-01\"\n",
    "end = \"2018-12-31\""
   ]
  },
  {
   "cell_type": "code",
   "execution_count": 3,
   "metadata": {},
   "outputs": [
    {
     "name": "stdout",
     "output_type": "stream",
     "text": [
      "[*********************100%***********************]  5 of 5 completed\n"
     ]
    }
   ],
   "source": [
    "# Download data and store in dataframe\n",
    "\n",
    "instruments_data = yf.download(' '.join(list(investment.keys())), start=start, end=end, groupby='ticker')\n",
    "instruments = instruments_data['Adj Close']"
   ]
  },
  {
   "cell_type": "code",
   "execution_count": 4,
   "metadata": {},
   "outputs": [],
   "source": [
    "# Create exchange rate ticker list based on initial investment data\n",
    "currencies = list(set(['EUR' + i[1] + '=X' for i in investment.values()]))\n",
    "\n",
    "# Remove EUR-EUR exchange rate\n",
    "for currency in currencies:\n",
    "    if currency[0:2] == currency[3:5]:\n",
    "        currencies.remove(currency)\n",
    "        \n",
    "currencies = \" \".join(currencies)"
   ]
  },
  {
   "cell_type": "code",
   "execution_count": 5,
   "metadata": {},
   "outputs": [
    {
     "name": "stdout",
     "output_type": "stream",
     "text": [
      "[*********************100%***********************]  2 of 2 completed\n"
     ]
    },
    {
     "data": {
      "text/html": [
       "<div>\n",
       "<style scoped>\n",
       "    .dataframe tbody tr th:only-of-type {\n",
       "        vertical-align: middle;\n",
       "    }\n",
       "\n",
       "    .dataframe tbody tr th {\n",
       "        vertical-align: top;\n",
       "    }\n",
       "\n",
       "    .dataframe thead th {\n",
       "        text-align: right;\n",
       "    }\n",
       "</style>\n",
       "<table border=\"1\" class=\"dataframe\">\n",
       "  <thead>\n",
       "    <tr style=\"text-align: right;\">\n",
       "      <th></th>\n",
       "      <th>EURJPY=X</th>\n",
       "      <th>EURUSD=X</th>\n",
       "    </tr>\n",
       "    <tr>\n",
       "      <th>Date</th>\n",
       "      <th></th>\n",
       "      <th></th>\n",
       "    </tr>\n",
       "  </thead>\n",
       "  <tbody>\n",
       "    <tr>\n",
       "      <th>2018-12-24</th>\n",
       "      <td>126.292000</td>\n",
       "      <td>1.137281</td>\n",
       "    </tr>\n",
       "    <tr>\n",
       "      <th>2018-12-25</th>\n",
       "      <td>125.769997</td>\n",
       "      <td>1.140394</td>\n",
       "    </tr>\n",
       "    <tr>\n",
       "      <th>2018-12-26</th>\n",
       "      <td>126.001999</td>\n",
       "      <td>1.141553</td>\n",
       "    </tr>\n",
       "    <tr>\n",
       "      <th>2018-12-27</th>\n",
       "      <td>126.404999</td>\n",
       "      <td>1.136131</td>\n",
       "    </tr>\n",
       "    <tr>\n",
       "      <th>2018-12-28</th>\n",
       "      <td>126.767998</td>\n",
       "      <td>1.143105</td>\n",
       "    </tr>\n",
       "  </tbody>\n",
       "</table>\n",
       "</div>"
      ],
      "text/plain": [
       "              EURJPY=X  EURUSD=X\n",
       "Date                            \n",
       "2018-12-24  126.292000  1.137281\n",
       "2018-12-25  125.769997  1.140394\n",
       "2018-12-26  126.001999  1.141553\n",
       "2018-12-27  126.404999  1.136131\n",
       "2018-12-28  126.767998  1.143105"
      ]
     },
     "execution_count": 5,
     "metadata": {},
     "output_type": "execute_result"
    }
   ],
   "source": [
    "# Download exchange rate data\n",
    "exchangerate_data = yf.download(currencies, start=start, end=end, groupby='ticker')\n",
    "exchangerate = exchangerate_data['Adj Close']\n",
    "exchangerate.tail()"
   ]
  },
  {
   "cell_type": "code",
   "execution_count": 6,
   "metadata": {},
   "outputs": [],
   "source": [
    "# invest in Euribor 3m future, exposure to interest rates\n",
    "\n",
    "euribor3m_future = pd.read_excel('data/euribor_FEU300-EUR.xlsx')\n",
    "euribor3m = euribor3m_future['Last']\n"
   ]
  },
  {
   "cell_type": "code",
   "execution_count": 7,
   "metadata": {},
   "outputs": [],
   "source": [
    "# Make index datetime\n",
    "euribor3m.index = pd.to_datetime(euribor3m_future.Date)"
   ]
  },
  {
   "cell_type": "code",
   "execution_count": 8,
   "metadata": {},
   "outputs": [],
   "source": [
    "euribor3m = euribor3m.iloc[::-1]\n",
    "euribor3m = euribor3m[start:end]"
   ]
  },
  {
   "cell_type": "code",
   "execution_count": 9,
   "metadata": {},
   "outputs": [
    {
     "data": {
      "text/html": [
       "<div>\n",
       "<style scoped>\n",
       "    .dataframe tbody tr th:only-of-type {\n",
       "        vertical-align: middle;\n",
       "    }\n",
       "\n",
       "    .dataframe tbody tr th {\n",
       "        vertical-align: top;\n",
       "    }\n",
       "\n",
       "    .dataframe thead th {\n",
       "        text-align: right;\n",
       "    }\n",
       "</style>\n",
       "<table border=\"1\" class=\"dataframe\">\n",
       "  <thead>\n",
       "    <tr style=\"text-align: right;\">\n",
       "      <th></th>\n",
       "      <th>DBA</th>\n",
       "      <th>EWQ</th>\n",
       "      <th>^AEX</th>\n",
       "      <th>^GSPC</th>\n",
       "      <th>^N225</th>\n",
       "    </tr>\n",
       "    <tr>\n",
       "      <th>Date</th>\n",
       "      <th></th>\n",
       "      <th></th>\n",
       "      <th></th>\n",
       "      <th></th>\n",
       "      <th></th>\n",
       "    </tr>\n",
       "  </thead>\n",
       "  <tbody>\n",
       "    <tr>\n",
       "      <th>2009-12-31</th>\n",
       "      <td>25.755527</td>\n",
       "      <td>19.757006</td>\n",
       "      <td>NaN</td>\n",
       "      <td>1115.099976</td>\n",
       "      <td>NaN</td>\n",
       "    </tr>\n",
       "    <tr>\n",
       "      <th>2010-01-04</th>\n",
       "      <td>25.999054</td>\n",
       "      <td>20.460157</td>\n",
       "      <td>343.029999</td>\n",
       "      <td>1132.989990</td>\n",
       "      <td>10654.790039</td>\n",
       "    </tr>\n",
       "    <tr>\n",
       "      <th>2010-01-05</th>\n",
       "      <td>26.164654</td>\n",
       "      <td>20.406656</td>\n",
       "      <td>342.019989</td>\n",
       "      <td>1136.520020</td>\n",
       "      <td>10681.830078</td>\n",
       "    </tr>\n",
       "    <tr>\n",
       "      <th>2010-01-06</th>\n",
       "      <td>26.310770</td>\n",
       "      <td>20.513659</td>\n",
       "      <td>341.480011</td>\n",
       "      <td>1137.140015</td>\n",
       "      <td>10731.450195</td>\n",
       "    </tr>\n",
       "    <tr>\n",
       "      <th>2010-01-07</th>\n",
       "      <td>26.106207</td>\n",
       "      <td>20.421942</td>\n",
       "      <td>340.549988</td>\n",
       "      <td>1141.689941</td>\n",
       "      <td>10681.660156</td>\n",
       "    </tr>\n",
       "    <tr>\n",
       "      <th>...</th>\n",
       "      <td>...</td>\n",
       "      <td>...</td>\n",
       "      <td>...</td>\n",
       "      <td>...</td>\n",
       "      <td>...</td>\n",
       "    </tr>\n",
       "    <tr>\n",
       "      <th>2018-12-24</th>\n",
       "      <td>16.687899</td>\n",
       "      <td>24.885502</td>\n",
       "      <td>478.339996</td>\n",
       "      <td>2351.100098</td>\n",
       "      <td>NaN</td>\n",
       "    </tr>\n",
       "    <tr>\n",
       "      <th>2018-12-25</th>\n",
       "      <td>NaN</td>\n",
       "      <td>NaN</td>\n",
       "      <td>NaN</td>\n",
       "      <td>NaN</td>\n",
       "      <td>19155.740234</td>\n",
       "    </tr>\n",
       "    <tr>\n",
       "      <th>2018-12-26</th>\n",
       "      <td>16.697742</td>\n",
       "      <td>25.567028</td>\n",
       "      <td>NaN</td>\n",
       "      <td>2467.699951</td>\n",
       "      <td>19327.060547</td>\n",
       "    </tr>\n",
       "    <tr>\n",
       "      <th>2018-12-27</th>\n",
       "      <td>16.638670</td>\n",
       "      <td>25.528084</td>\n",
       "      <td>476.029999</td>\n",
       "      <td>2488.830078</td>\n",
       "      <td>20077.619141</td>\n",
       "    </tr>\n",
       "    <tr>\n",
       "      <th>2018-12-28</th>\n",
       "      <td>16.707588</td>\n",
       "      <td>25.625444</td>\n",
       "      <td>484.170013</td>\n",
       "      <td>2485.739990</td>\n",
       "      <td>20014.769531</td>\n",
       "    </tr>\n",
       "  </tbody>\n",
       "</table>\n",
       "<p>2341 rows × 5 columns</p>\n",
       "</div>"
      ],
      "text/plain": [
       "                  DBA        EWQ        ^AEX        ^GSPC         ^N225\n",
       "Date                                                                   \n",
       "2009-12-31  25.755527  19.757006         NaN  1115.099976           NaN\n",
       "2010-01-04  25.999054  20.460157  343.029999  1132.989990  10654.790039\n",
       "2010-01-05  26.164654  20.406656  342.019989  1136.520020  10681.830078\n",
       "2010-01-06  26.310770  20.513659  341.480011  1137.140015  10731.450195\n",
       "2010-01-07  26.106207  20.421942  340.549988  1141.689941  10681.660156\n",
       "...               ...        ...         ...          ...           ...\n",
       "2018-12-24  16.687899  24.885502  478.339996  2351.100098           NaN\n",
       "2018-12-25        NaN        NaN         NaN          NaN  19155.740234\n",
       "2018-12-26  16.697742  25.567028         NaN  2467.699951  19327.060547\n",
       "2018-12-27  16.638670  25.528084  476.029999  2488.830078  20077.619141\n",
       "2018-12-28  16.707588  25.625444  484.170013  2485.739990  20014.769531\n",
       "\n",
       "[2341 rows x 5 columns]"
      ]
     },
     "execution_count": 9,
     "metadata": {},
     "output_type": "execute_result"
    }
   ],
   "source": [
    "# invest in stock (and commodity) indices (by investing in mutual funds)? ETFs?\n",
    "\n",
    "\n",
    "instruments"
   ]
  },
  {
   "cell_type": "markdown",
   "metadata": {},
   "source": [
    "### Step2: \n",
    "Implement and backtest VaR and ES for the two abovementioned confidence levels and 1-day horizon using the following methods:"
   ]
  },
  {
   "cell_type": "code",
   "execution_count": 10,
   "metadata": {},
   "outputs": [],
   "source": [
    "from functools import reduce"
   ]
  },
  {
   "cell_type": "code",
   "execution_count": 11,
   "metadata": {},
   "outputs": [],
   "source": [
    "# merge the instrument prices, exchange rates, and euribor into one dataframe\n",
    "dfs = [instruments, exchangerate, euribor3m]\n",
    "df_pf = reduce(lambda left,right: pd.merge(left,right,left_index=True, right_index=True), dfs)\n",
    "df_pf = df_pf.rename(columns={5: 'euribor3m', '^AEX':'AEX', '^GSPC':'GSPC','^N225':'N225', 'Last':'euribor3m'})\n"
   ]
  },
  {
   "cell_type": "code",
   "execution_count": 12,
   "metadata": {},
   "outputs": [],
   "source": [
    "instrument_names = list(df_pf.columns[:5])\n",
    "instrument_names.append('euribor3m')"
   ]
  },
  {
   "cell_type": "code",
   "execution_count": 13,
   "metadata": {},
   "outputs": [
    {
     "data": {
      "text/plain": [
       "['DBA', 'EWQ', 'AEX', 'GSPC', 'N225', 'euribor3m']"
      ]
     },
     "execution_count": 13,
     "metadata": {},
     "output_type": "execute_result"
    }
   ],
   "source": [
    "instrument_names"
   ]
  },
  {
   "cell_type": "code",
   "execution_count": null,
   "metadata": {},
   "outputs": [],
   "source": []
  },
  {
   "cell_type": "code",
   "execution_count": 14,
   "metadata": {},
   "outputs": [],
   "source": [
    "df_returns_all = np.log(df_pf[instrument_names])- np.log(df_pf[instrument_names].shift())\n",
    "\n",
    "df_returns_all['euribor3m'] = np.log(df_pf['euribor3m'])- np.log(df_pf['euribor3m'].shift()) # negative rates?\n",
    "\n",
    "# calculate the FX returns, and use them to adjust the foreign currency denominated indices\n",
    "df_returns_all['EURJPY_ret'] = np.log(df_pf['EURJPY=X'])- np.log(df_pf['EURJPY=X'].shift())\n",
    "df_returns_all['EURUSD_ret'] = np.log(df_pf['EURUSD=X'])- np.log(df_pf['EURUSD=X'].shift())"
   ]
  },
  {
   "cell_type": "code",
   "execution_count": 15,
   "metadata": {},
   "outputs": [
    {
     "data": {
      "text/html": [
       "<div>\n",
       "<style scoped>\n",
       "    .dataframe tbody tr th:only-of-type {\n",
       "        vertical-align: middle;\n",
       "    }\n",
       "\n",
       "    .dataframe tbody tr th {\n",
       "        vertical-align: top;\n",
       "    }\n",
       "\n",
       "    .dataframe thead th {\n",
       "        text-align: right;\n",
       "    }\n",
       "</style>\n",
       "<table border=\"1\" class=\"dataframe\">\n",
       "  <thead>\n",
       "    <tr style=\"text-align: right;\">\n",
       "      <th></th>\n",
       "      <th>DBA</th>\n",
       "      <th>EWQ</th>\n",
       "      <th>AEX</th>\n",
       "      <th>GSPC</th>\n",
       "      <th>N225</th>\n",
       "      <th>euribor3m</th>\n",
       "      <th>EURJPY_ret</th>\n",
       "      <th>EURUSD_ret</th>\n",
       "    </tr>\n",
       "    <tr>\n",
       "      <th>Date</th>\n",
       "      <th></th>\n",
       "      <th></th>\n",
       "      <th></th>\n",
       "      <th></th>\n",
       "      <th></th>\n",
       "      <th></th>\n",
       "      <th></th>\n",
       "      <th></th>\n",
       "    </tr>\n",
       "  </thead>\n",
       "  <tbody>\n",
       "    <tr>\n",
       "      <th>2010-01-04</th>\n",
       "      <td>NaN</td>\n",
       "      <td>NaN</td>\n",
       "      <td>NaN</td>\n",
       "      <td>NaN</td>\n",
       "      <td>NaN</td>\n",
       "      <td>NaN</td>\n",
       "      <td>NaN</td>\n",
       "      <td>NaN</td>\n",
       "    </tr>\n",
       "    <tr>\n",
       "      <th>2010-01-05</th>\n",
       "      <td>0.006349</td>\n",
       "      <td>-0.002618</td>\n",
       "      <td>-0.002949</td>\n",
       "      <td>0.003111</td>\n",
       "      <td>0.002535</td>\n",
       "      <td>0.000151</td>\n",
       "      <td>-0.014042</td>\n",
       "      <td>-0.004031</td>\n",
       "    </tr>\n",
       "    <tr>\n",
       "      <th>2010-01-06</th>\n",
       "      <td>0.005569</td>\n",
       "      <td>0.005230</td>\n",
       "      <td>-0.001580</td>\n",
       "      <td>0.000545</td>\n",
       "      <td>0.004635</td>\n",
       "      <td>0.000101</td>\n",
       "      <td>0.011212</td>\n",
       "      <td>0.002647</td>\n",
       "    </tr>\n",
       "    <tr>\n",
       "      <th>2010-01-07</th>\n",
       "      <td>-0.007805</td>\n",
       "      <td>-0.004481</td>\n",
       "      <td>-0.002727</td>\n",
       "      <td>0.003993</td>\n",
       "      <td>-0.004650</td>\n",
       "      <td>0.000151</td>\n",
       "      <td>0.005511</td>\n",
       "      <td>-0.005989</td>\n",
       "    </tr>\n",
       "    <tr>\n",
       "      <th>2010-01-08</th>\n",
       "      <td>0.002981</td>\n",
       "      <td>0.013752</td>\n",
       "      <td>0.004073</td>\n",
       "      <td>0.002878</td>\n",
       "      <td>0.010862</td>\n",
       "      <td>-0.000050</td>\n",
       "      <td>-0.001931</td>\n",
       "      <td>0.006478</td>\n",
       "    </tr>\n",
       "    <tr>\n",
       "      <th>...</th>\n",
       "      <td>...</td>\n",
       "      <td>...</td>\n",
       "      <td>...</td>\n",
       "      <td>...</td>\n",
       "      <td>...</td>\n",
       "      <td>...</td>\n",
       "      <td>...</td>\n",
       "      <td>...</td>\n",
       "    </tr>\n",
       "    <tr>\n",
       "      <th>2018-12-19</th>\n",
       "      <td>-0.001744</td>\n",
       "      <td>-0.008289</td>\n",
       "      <td>0.003110</td>\n",
       "      <td>-0.015515</td>\n",
       "      <td>-0.006058</td>\n",
       "      <td>0.000100</td>\n",
       "      <td>-0.000461</td>\n",
       "      <td>0.002250</td>\n",
       "    </tr>\n",
       "    <tr>\n",
       "      <th>2018-12-20</th>\n",
       "      <td>-0.002913</td>\n",
       "      <td>-0.004171</td>\n",
       "      <td>-0.020409</td>\n",
       "      <td>-0.015898</td>\n",
       "      <td>-0.028776</td>\n",
       "      <td>0.000050</td>\n",
       "      <td>0.000188</td>\n",
       "      <td>0.001241</td>\n",
       "    </tr>\n",
       "    <tr>\n",
       "      <th>2018-12-21</th>\n",
       "      <td>-0.008201</td>\n",
       "      <td>-0.013387</td>\n",
       "      <td>-0.002390</td>\n",
       "      <td>-0.020803</td>\n",
       "      <td>-0.011164</td>\n",
       "      <td>0.000000</td>\n",
       "      <td>-0.005216</td>\n",
       "      <td>0.005894</td>\n",
       "    </tr>\n",
       "    <tr>\n",
       "      <th>2018-12-27</th>\n",
       "      <td>0.004745</td>\n",
       "      <td>0.009580</td>\n",
       "      <td>-0.018276</td>\n",
       "      <td>0.029443</td>\n",
       "      <td>-0.004402</td>\n",
       "      <td>0.000000</td>\n",
       "      <td>-0.007464</td>\n",
       "      <td>-0.008374</td>\n",
       "    </tr>\n",
       "    <tr>\n",
       "      <th>2018-12-28</th>\n",
       "      <td>0.004133</td>\n",
       "      <td>0.003807</td>\n",
       "      <td>0.016955</td>\n",
       "      <td>-0.001242</td>\n",
       "      <td>-0.003135</td>\n",
       "      <td>0.000050</td>\n",
       "      <td>0.002868</td>\n",
       "      <td>0.006120</td>\n",
       "    </tr>\n",
       "  </tbody>\n",
       "</table>\n",
       "<p>2289 rows × 8 columns</p>\n",
       "</div>"
      ],
      "text/plain": [
       "                 DBA       EWQ       AEX      GSPC      N225  euribor3m  \\\n",
       "Date                                                                      \n",
       "2010-01-04       NaN       NaN       NaN       NaN       NaN        NaN   \n",
       "2010-01-05  0.006349 -0.002618 -0.002949  0.003111  0.002535   0.000151   \n",
       "2010-01-06  0.005569  0.005230 -0.001580  0.000545  0.004635   0.000101   \n",
       "2010-01-07 -0.007805 -0.004481 -0.002727  0.003993 -0.004650   0.000151   \n",
       "2010-01-08  0.002981  0.013752  0.004073  0.002878  0.010862  -0.000050   \n",
       "...              ...       ...       ...       ...       ...        ...   \n",
       "2018-12-19 -0.001744 -0.008289  0.003110 -0.015515 -0.006058   0.000100   \n",
       "2018-12-20 -0.002913 -0.004171 -0.020409 -0.015898 -0.028776   0.000050   \n",
       "2018-12-21 -0.008201 -0.013387 -0.002390 -0.020803 -0.011164   0.000000   \n",
       "2018-12-27  0.004745  0.009580 -0.018276  0.029443 -0.004402   0.000000   \n",
       "2018-12-28  0.004133  0.003807  0.016955 -0.001242 -0.003135   0.000050   \n",
       "\n",
       "            EURJPY_ret  EURUSD_ret  \n",
       "Date                                \n",
       "2010-01-04         NaN         NaN  \n",
       "2010-01-05   -0.014042   -0.004031  \n",
       "2010-01-06    0.011212    0.002647  \n",
       "2010-01-07    0.005511   -0.005989  \n",
       "2010-01-08   -0.001931    0.006478  \n",
       "...                ...         ...  \n",
       "2018-12-19   -0.000461    0.002250  \n",
       "2018-12-20    0.000188    0.001241  \n",
       "2018-12-21   -0.005216    0.005894  \n",
       "2018-12-27   -0.007464   -0.008374  \n",
       "2018-12-28    0.002868    0.006120  \n",
       "\n",
       "[2289 rows x 8 columns]"
      ]
     },
     "execution_count": 15,
     "metadata": {},
     "output_type": "execute_result"
    }
   ],
   "source": [
    "df_returns_all"
   ]
  },
  {
   "cell_type": "code",
   "execution_count": 16,
   "metadata": {},
   "outputs": [],
   "source": [
    "# select the estimation period\n",
    "df_returns = df_returns_all[instrument_names][:]"
   ]
  },
  {
   "cell_type": "code",
   "execution_count": 17,
   "metadata": {},
   "outputs": [],
   "source": [
    "# adjust for exchange rates\n",
    "df_returns['DBA'] = df_returns['DBA'] * (1+df_returns_all['EURUSD_ret'])\n",
    "df_returns['EWQ'] = df_returns['EWQ'] * (1+df_returns_all['EURUSD_ret'])\n",
    "df_returns['GSPC'] = df_returns['GSPC'] * (1+df_returns_all['EURUSD_ret'])\n",
    "df_returns['N225'] = df_returns['N225'] * (1+df_returns_all['EURJPY_ret'])"
   ]
  },
  {
   "cell_type": "markdown",
   "metadata": {},
   "source": [
    "#### Estimate VaR and ES, based on Variance-Covariance method, multivariate normal distribution"
   ]
  },
  {
   "cell_type": "code",
   "execution_count": 18,
   "metadata": {},
   "outputs": [
    {
     "data": {
      "text/html": [
       "<div>\n",
       "<style scoped>\n",
       "    .dataframe tbody tr th:only-of-type {\n",
       "        vertical-align: middle;\n",
       "    }\n",
       "\n",
       "    .dataframe tbody tr th {\n",
       "        vertical-align: top;\n",
       "    }\n",
       "\n",
       "    .dataframe thead th {\n",
       "        text-align: right;\n",
       "    }\n",
       "</style>\n",
       "<table border=\"1\" class=\"dataframe\">\n",
       "  <thead>\n",
       "    <tr style=\"text-align: right;\">\n",
       "      <th></th>\n",
       "      <th>DBA</th>\n",
       "      <th>EWQ</th>\n",
       "      <th>AEX</th>\n",
       "      <th>GSPC</th>\n",
       "      <th>N225</th>\n",
       "      <th>euribor3m</th>\n",
       "    </tr>\n",
       "  </thead>\n",
       "  <tbody>\n",
       "    <tr>\n",
       "      <th>DBA</th>\n",
       "      <td>6.680151e-05</td>\n",
       "      <td>4.054976e-05</td>\n",
       "      <td>2.084994e-05</td>\n",
       "      <td>2.341740e-05</td>\n",
       "      <td>1.201325e-05</td>\n",
       "      <td>-6.176495e-08</td>\n",
       "    </tr>\n",
       "    <tr>\n",
       "      <th>EWQ</th>\n",
       "      <td>4.054976e-05</td>\n",
       "      <td>2.212690e-04</td>\n",
       "      <td>1.102516e-04</td>\n",
       "      <td>1.165002e-04</td>\n",
       "      <td>3.237039e-05</td>\n",
       "      <td>-3.270876e-07</td>\n",
       "    </tr>\n",
       "    <tr>\n",
       "      <th>AEX</th>\n",
       "      <td>2.084994e-05</td>\n",
       "      <td>1.102516e-04</td>\n",
       "      <td>1.154280e-04</td>\n",
       "      <td>6.463286e-05</td>\n",
       "      <td>4.734517e-05</td>\n",
       "      <td>-9.876114e-08</td>\n",
       "    </tr>\n",
       "    <tr>\n",
       "      <th>GSPC</th>\n",
       "      <td>2.341740e-05</td>\n",
       "      <td>1.165002e-04</td>\n",
       "      <td>6.463286e-05</td>\n",
       "      <td>9.079651e-05</td>\n",
       "      <td>2.248005e-05</td>\n",
       "      <td>-1.309112e-07</td>\n",
       "    </tr>\n",
       "    <tr>\n",
       "      <th>N225</th>\n",
       "      <td>1.201325e-05</td>\n",
       "      <td>3.237039e-05</td>\n",
       "      <td>4.734517e-05</td>\n",
       "      <td>2.248005e-05</td>\n",
       "      <td>1.796203e-04</td>\n",
       "      <td>-1.540590e-07</td>\n",
       "    </tr>\n",
       "    <tr>\n",
       "      <th>euribor3m</th>\n",
       "      <td>-6.176495e-08</td>\n",
       "      <td>-3.270876e-07</td>\n",
       "      <td>-9.876114e-08</td>\n",
       "      <td>-1.309112e-07</td>\n",
       "      <td>-1.540590e-07</td>\n",
       "      <td>5.689059e-08</td>\n",
       "    </tr>\n",
       "  </tbody>\n",
       "</table>\n",
       "</div>"
      ],
      "text/plain": [
       "                    DBA           EWQ           AEX          GSPC  \\\n",
       "DBA        6.680151e-05  4.054976e-05  2.084994e-05  2.341740e-05   \n",
       "EWQ        4.054976e-05  2.212690e-04  1.102516e-04  1.165002e-04   \n",
       "AEX        2.084994e-05  1.102516e-04  1.154280e-04  6.463286e-05   \n",
       "GSPC       2.341740e-05  1.165002e-04  6.463286e-05  9.079651e-05   \n",
       "N225       1.201325e-05  3.237039e-05  4.734517e-05  2.248005e-05   \n",
       "euribor3m -6.176495e-08 -3.270876e-07 -9.876114e-08 -1.309112e-07   \n",
       "\n",
       "                   N225     euribor3m  \n",
       "DBA        1.201325e-05 -6.176495e-08  \n",
       "EWQ        3.237039e-05 -3.270876e-07  \n",
       "AEX        4.734517e-05 -9.876114e-08  \n",
       "GSPC       2.248005e-05 -1.309112e-07  \n",
       "N225       1.796203e-04 -1.540590e-07  \n",
       "euribor3m -1.540590e-07  5.689059e-08  "
      ]
     },
     "execution_count": 18,
     "metadata": {},
     "output_type": "execute_result"
    }
   ],
   "source": [
    "# calculate the variance-covariance matrix\n",
    "cov_matrix = df_returns.cov()\n",
    "cov_matrix"
   ]
  },
  {
   "cell_type": "code",
   "execution_count": 19,
   "metadata": {},
   "outputs": [],
   "source": [
    "# calculate the mean return\n",
    "avg_returns = df_returns.mean()"
   ]
  },
  {
   "cell_type": "code",
   "execution_count": 20,
   "metadata": {},
   "outputs": [
    {
     "data": {
      "text/plain": [
       "0.00015997788952196355"
      ]
     },
     "execution_count": 20,
     "metadata": {},
     "output_type": "execute_result"
    }
   ],
   "source": [
    "# calculate the portfolio mean\n",
    "pf_mean_pct = sum(avg_returns*weights)\n",
    "pf_mean_pct"
   ]
  },
  {
   "cell_type": "code",
   "execution_count": 21,
   "metadata": {},
   "outputs": [],
   "source": [
    "# calculate the portfolio standard deviation in percentage terms\n",
    "pf_std_pct = np.sqrt(weights.T.dot(cov_matrix).dot(weights))"
   ]
  },
  {
   "cell_type": "code",
   "execution_count": 22,
   "metadata": {},
   "outputs": [],
   "source": [
    "# convert the pf return and std from percentage to euro\n",
    "pf_mean_euro = pf_mean_pct * principle\n",
    "pf_std_euro = pf_std_pct * principle"
   ]
  },
  {
   "cell_type": "code",
   "execution_count": 23,
   "metadata": {},
   "outputs": [
    {
     "data": {
      "text/plain": [
       "[0.025, 0.01]"
      ]
     },
     "execution_count": 23,
     "metadata": {},
     "output_type": "execute_result"
    }
   ],
   "source": [
    "confidence_levels = [0.975, 0.99]\n",
    "alphas = [0.025,0.01]\n",
    "alphas"
   ]
  },
  {
   "cell_type": "code",
   "execution_count": 24,
   "metadata": {},
   "outputs": [],
   "source": [
    "# calculate the VaR\n",
    "var_975_1d = norm.ppf(confidence_levels[0]) * pf_std_euro - pf_mean_euro\n",
    "es_975_1d = alphas[0]**-1 * norm.pdf(norm.ppf(alphas[0]))*pf_std_euro - pf_mean_euro"
   ]
  },
  {
   "cell_type": "code",
   "execution_count": 25,
   "metadata": {},
   "outputs": [],
   "source": [
    "var_990_1d = norm.ppf(confidence_levels[1]) * pf_std_euro - pf_mean_euro\n",
    "es_990_1d = alphas[1]**-1 * norm.pdf(norm.ppf(alphas[1]))*pf_std_euro - pf_mean_euro"
   ]
  },
  {
   "cell_type": "code",
   "execution_count": 26,
   "metadata": {},
   "outputs": [
    {
     "name": "stdout",
     "output_type": "stream",
     "text": [
      "VaR 99% 1d: 1790229.8110804502, ES 99% 1d: 2053333.087356622\n"
     ]
    }
   ],
   "source": [
    "print(f'VaR 99% 1d: {var_990_1d}, ES 99% 1d: {es_990_1d}')"
   ]
  },
  {
   "cell_type": "code",
   "execution_count": 27,
   "metadata": {},
   "outputs": [
    {
     "name": "stderr",
     "output_type": "stream",
     "text": [
      "/Library/Frameworks/Python.framework/Versions/3.7/lib/python3.7/site-packages/numpy/lib/histograms.py:754: RuntimeWarning: invalid value encountered in greater_equal\n",
      "  keep = (tmp_a >= first_edge)\n",
      "/Library/Frameworks/Python.framework/Versions/3.7/lib/python3.7/site-packages/numpy/lib/histograms.py:755: RuntimeWarning: invalid value encountered in less_equal\n",
      "  keep &= (tmp_a <= last_edge)\n"
     ]
    },
    {
     "data": {
      "image/png": "[encoded data removed]",
      "text/plain": [
       "<Figure size 432x288 with 1 Axes>"
      ]
     },
     "metadata": {
      "needs_background": "light"
     },
     "output_type": "display_data"
    }
   ],
   "source": [
    "plt.hist(df_returns['AEX']);"
   ]
  },
  {
   "cell_type": "markdown",
   "metadata": {},
   "source": [
    "#### Estimate VaR and ES, based on Variance-Covariance method, Student-t distribution with 3, 4, 5, 6 degrees of freedom"
   ]
  },
  {
   "cell_type": "code",
   "execution_count": 28,
   "metadata": {},
   "outputs": [],
   "source": [
    "from scipy.stats import t"
   ]
  },
  {
   "cell_type": "code",
   "execution_count": 29,
   "metadata": {},
   "outputs": [],
   "source": [
    "degree_of_freedom = [3,4,5,6]"
   ]
  },
  {
   "cell_type": "code",
   "execution_count": 30,
   "metadata": {},
   "outputs": [
    {
     "name": "stdout",
     "output_type": "stream",
     "text": [
      "Student-t distribution with 3 degree of freedom: \n",
      "VaR 97.5% 1d: 2454923.442, ES 97.5% 1d: 3300737.117\n",
      "\n",
      "Student-t distribution with 4 degree of freedom: \n",
      "VaR 97.5% 1d: 2139695.19, ES 97.5% 1d: 2555047.384\n",
      "\n",
      "Student-t distribution with 5 degree of freedom: \n",
      "VaR 97.5% 1d: 1979858.426, ES 97.5% 1d: 2247133.72\n",
      "\n",
      "Student-t distribution with 6 degree of freedom: \n",
      "VaR 97.5% 1d: 1883838.33, ES 97.5% 1d: 2090347.913\n",
      "\n"
     ]
    }
   ],
   "source": [
    "# at 97.5% confidence level\n",
    "for df in degree_of_freedom:\n",
    "    \n",
    "    tppf = t.ppf(alphas[0], df)\n",
    "    \n",
    "    var_975_1d_t= t.ppf(confidence_levels[0], df) * pf_std_euro - pf_mean_euro\n",
    "    \n",
    "    es_975_1d_t = -1/alphas[0] * (1-df)**(-1) * (df-2+tppf**2) * t.pdf(tppf, df)*pf_std_euro - pf_mean_euro\n",
    "    \n",
    "    \n",
    "    print(f'Student-t distribution with {df} degree of freedom: \\nVaR 97.5% 1d: {np.round(var_975_1d_t,3)}, ES 97.5% 1d: {np.round(es_975_1d_t,3)}\\n')"
   ]
  },
  {
   "cell_type": "code",
   "execution_count": 31,
   "metadata": {},
   "outputs": [
    {
     "name": "stdout",
     "output_type": "stream",
     "text": [
      "VaR 97.5% 1d: 1505761.31, ES 97.5% 1d: 1799123.661\n"
     ]
    }
   ],
   "source": [
    "# compare with VaR and ES under standard normal distribution\n",
    "print(f'VaR 97.5% 1d: {np.round(var_975_1d,3)}, ES 97.5% 1d: {np.round(es_975_1d,3)}')"
   ]
  },
  {
   "cell_type": "code",
   "execution_count": 32,
   "metadata": {},
   "outputs": [
    {
     "name": "stdout",
     "output_type": "stream",
     "text": [
      "Student-t distribution with 3 degree of freedom: \n",
      "VaR 97.5% 1d: 3509503.671, ES 97.5% 1d: 4960907.708\n",
      "\n",
      "Student-t distribution with 4 degree of freedom: \n",
      "VaR 97.5% 1d: 2893214.485, ES 97.5% 1d: 3587992.354\n",
      "\n",
      "Student-t distribution with 5 degree of freedom: \n",
      "VaR 97.5% 1d: 2596607.791, ES 97.5% 1d: 3017389.948\n",
      "\n",
      "Student-t distribution with 6 degree of freedom: \n",
      "VaR 97.5% 1d: 2424039.005, ES 97.5% 1d: 2720529.681\n",
      "\n"
     ]
    }
   ],
   "source": [
    "# at 99% confidence level\n",
    "for df in degree_of_freedom:\n",
    "    \n",
    "    tppf = t.ppf(alphas[1], df)\n",
    "    \n",
    "    var_990_1d_t= t.ppf(confidence_levels[1], df) * pf_std_euro - pf_mean_euro\n",
    "    \n",
    "    es_990_1d_t = -1/alphas[1] * (1-df)**(-1) * (df-2+tppf**2) * t.pdf(tppf, df) * pf_std_euro - pf_mean_euro\n",
    "    \n",
    "    \n",
    "    print(f'Student-t distribution with {df} degree of freedom: \\nVaR 97.5% 1d: {np.round(var_990_1d_t,3)}, ES 97.5% 1d: {np.round(es_990_1d_t,3)}\\n')"
   ]
  },
  {
   "cell_type": "code",
   "execution_count": 33,
   "metadata": {},
   "outputs": [
    {
     "name": "stdout",
     "output_type": "stream",
     "text": [
      "VaR 99% 1d: 1790229.811, ES 99% 1d: 2053333.087\n"
     ]
    }
   ],
   "source": [
    "# compare with VaR and ES under standard normal distribution\n",
    "print(f'VaR 99% 1d: {np.round(var_990_1d,3)}, ES 99% 1d: {np.round(es_990_1d,3)}')"
   ]
  },
  {
   "cell_type": "markdown",
   "metadata": {},
   "source": [
    "#### Estimate VaR and ES, based on Historical Simulation method"
   ]
  },
  {
   "cell_type": "code",
   "execution_count": 34,
   "metadata": {},
   "outputs": [],
   "source": [
    "# calculate the historical losses, and order them in increasing order\n",
    "df_returns = df_returns[:] # select the simulation period\n",
    "pf_losses = np.sort(principle * df_returns.dot(weights))"
   ]
  },
  {
   "cell_type": "code",
   "execution_count": 35,
   "metadata": {},
   "outputs": [],
   "source": [
    "# at 97.5% confidence level\n",
    "var_975_1d_hsm = pf_losses[int(alphas[0]*len(pf_losses))]\n",
    "es_975_1d_hsm = pf_losses[0:int(alphas[0]*len(pf_losses))].mean()"
   ]
  },
  {
   "cell_type": "code",
   "execution_count": 36,
   "metadata": {},
   "outputs": [
    {
     "name": "stdout",
     "output_type": "stream",
     "text": [
      "VaR 97.5% 1d: -1605894.394, ES 97.5% 1d: -2332376.66\n"
     ]
    }
   ],
   "source": [
    "print(f'VaR 97.5% 1d: {np.round(var_975_1d_hsm,3)}, ES 97.5% 1d: {np.round(es_975_1d_hsm,3)}')"
   ]
  },
  {
   "cell_type": "code",
   "execution_count": 37,
   "metadata": {},
   "outputs": [],
   "source": [
    "# at 99% confidence level\n",
    "var_990_1d_hsm = pf_losses[int(alphas[1]*len(pf_losses))]\n",
    "es_990_1d_hsm = pf_losses[0:int(alphas[1]*len(pf_losses))].mean()"
   ]
  },
  {
   "cell_type": "code",
   "execution_count": 38,
   "metadata": {},
   "outputs": [
    {
     "name": "stdout",
     "output_type": "stream",
     "text": [
      "VaR 99% 1d: -2314570.75, ES 99% 1d: -3059666.776\n"
     ]
    }
   ],
   "source": [
    "print(f'VaR 99% 1d: {np.round(var_990_1d_hsm,3)}, ES 99% 1d: {np.round(es_990_1d_hsm,3)}')"
   ]
  },
  {
   "cell_type": "markdown",
   "metadata": {},
   "source": [
    "#### Estimate VaR and ES, based on Constant Conditional Correlation method"
   ]
  },
  {
   "cell_type": "code",
   "execution_count": 39,
   "metadata": {},
   "outputs": [],
   "source": [
    "# Fill empty cells\n",
    "df_returns = df_returns.ffill().iloc[1:,:]\n",
    "\n",
    "# Rescale data for optimizing algorithm\n",
    "df_returns = df_returns*1000"
   ]
  },
  {
   "cell_type": "code",
   "execution_count": 40,
   "metadata": {},
   "outputs": [],
   "source": [
    "# divide train and test split\n",
    "split_date = dt.datetime(2012,1,1)"
   ]
  },
  {
   "cell_type": "code",
   "execution_count": 41,
   "metadata": {},
   "outputs": [
    {
     "name": "stdout",
     "output_type": "stream",
     "text": [
      "Iteration:     10,   Func. Count:     66,   Neg. LLF: 1942.8902871714138\n",
      "Optimization terminated successfully.    (Exit mode 0)\n",
      "            Current function value: 1942.8902787751572\n",
      "            Iterations: 11\n",
      "            Function evaluations: 72\n",
      "            Gradient evaluations: 11\n",
      "Iteration:     10,   Func. Count:     67,   Neg. LLF: 2268.847773135488\n",
      "Optimization terminated successfully.    (Exit mode 0)\n",
      "            Current function value: 2268.8416963030263\n",
      "            Iterations: 13\n",
      "            Function evaluations: 86\n",
      "            Gradient evaluations: 13\n",
      "Optimization terminated successfully.    (Exit mode 0)\n",
      "            Current function value: 2001.2019927055394\n",
      "            Iterations: 9\n",
      "            Function evaluations: 60\n",
      "            Gradient evaluations: 9\n",
      "Optimization terminated successfully.    (Exit mode 0)\n",
      "            Current function value: 1970.1577436042735\n",
      "            Iterations: 8\n",
      "            Function evaluations: 55\n",
      "            Gradient evaluations: 8\n",
      "Iteration:     10,   Func. Count:     65,   Neg. LLF: 2038.0543529895094\n",
      "Optimization terminated successfully.    (Exit mode 0)\n",
      "            Current function value: 2038.000135005423\n",
      "            Iterations: 15\n",
      "            Function evaluations: 95\n",
      "            Gradient evaluations: 15\n",
      "Iteration:     10,   Func. Count:     76,   Neg. LLF: 203.8755301876407\n",
      "Optimization terminated successfully.    (Exit mode 0)\n",
      "            Current function value: 203.8755293238049\n",
      "            Iterations: 11\n",
      "            Function evaluations: 84\n",
      "            Gradient evaluations: 10\n"
     ]
    },
    {
     "data": {
      "image/png": "[encoded data removed]",
      "text/plain": [
       "<Figure size 432x288 with 1 Axes>"
      ]
     },
     "metadata": {
      "needs_background": "light"
     },
     "output_type": "display_data"
    },
    {
     "data": {
      "image/png": "[encoded data removed]",
      "text/plain": [
       "<Figure size 432x288 with 1 Axes>"
      ]
     },
     "metadata": {
      "needs_background": "light"
     },
     "output_type": "display_data"
    },
    {
     "data": {
      "image/png": "[encoded data removed]",
      "text/plain": [
       "<Figure size 432x288 with 1 Axes>"
      ]
     },
     "metadata": {
      "needs_background": "light"
     },
     "output_type": "display_data"
    },
    {
     "data": {
      "image/png": "[encoded data removed]",
      "text/plain": [
       "<Figure size 432x288 with 1 Axes>"
      ]
     },
     "metadata": {
      "needs_background": "light"
     },
     "output_type": "display_data"
    },
    {
     "data": {
      "image/png": "[encoded data removed]",
      "text/plain": [
       "<Figure size 432x288 with 1 Axes>"
      ]
     },
     "metadata": {
      "needs_background": "light"
     },
     "output_type": "display_data"
    },
    {
     "data": {
      "image/png": "[encoded data removed]",
      "text/plain": [
       "<Figure size 432x288 with 1 Axes>"
      ]
     },
     "metadata": {
      "needs_background": "light"
     },
     "output_type": "display_data"
    }
   ],
   "source": [
    "from arch import arch_model\n",
    "\n",
    "# Create empty dict to store parameter values\n",
    "params_dict = {}\n",
    "\n",
    "# Create dataframe to store volatility forecasts\n",
    "vola_forecast = pd.DataFrame(index=df_returns.loc[split_date:end].index)\n",
    "\n",
    "# Fit GARCH(1,1) for each instrument\n",
    "for instrument in df_returns.columns:\n",
    "\n",
    "    garch11 = arch_model(df_returns[instrument], p=1, q=1, dist='Normal', vol='Garch')\n",
    "    res = garch11.fit(update_freq=10, last_obs=split_date)\n",
    "    \n",
    "    forecasts = res.forecast(start=split_date)\n",
    "    forecasts.variance[split_date:].plot()\n",
    "    \n",
    "    vola_forecast[instrument] = forecasts.variance[split_date:]\n",
    "    params_dict[instrument] = res.params"
   ]
  },
  {
   "cell_type": "code",
   "execution_count": 42,
   "metadata": {},
   "outputs": [
    {
     "data": {
      "text/html": [
       "<div>\n",
       "<style scoped>\n",
       "    .dataframe tbody tr th:only-of-type {\n",
       "        vertical-align: middle;\n",
       "    }\n",
       "\n",
       "    .dataframe tbody tr th {\n",
       "        vertical-align: top;\n",
       "    }\n",
       "\n",
       "    .dataframe thead th {\n",
       "        text-align: right;\n",
       "    }\n",
       "</style>\n",
       "<table border=\"1\" class=\"dataframe\">\n",
       "  <thead>\n",
       "    <tr style=\"text-align: right;\">\n",
       "      <th></th>\n",
       "      <th>DBA</th>\n",
       "      <th>EWQ</th>\n",
       "      <th>AEX</th>\n",
       "      <th>GSPC</th>\n",
       "      <th>N225</th>\n",
       "      <th>euribor3m</th>\n",
       "    </tr>\n",
       "    <tr>\n",
       "      <th>Date</th>\n",
       "      <th></th>\n",
       "      <th></th>\n",
       "      <th></th>\n",
       "      <th></th>\n",
       "      <th></th>\n",
       "      <th></th>\n",
       "    </tr>\n",
       "  </thead>\n",
       "  <tbody>\n",
       "    <tr>\n",
       "      <th>2012-01-02</th>\n",
       "      <td>81.784777</td>\n",
       "      <td>411.719201</td>\n",
       "      <td>163.230670</td>\n",
       "      <td>127.813467</td>\n",
       "      <td>99.834168</td>\n",
       "      <td>0.297617</td>\n",
       "    </tr>\n",
       "    <tr>\n",
       "      <th>2012-01-03</th>\n",
       "      <td>80.509533</td>\n",
       "      <td>371.814492</td>\n",
       "      <td>146.369876</td>\n",
       "      <td>115.947199</td>\n",
       "      <td>99.723532</td>\n",
       "      <td>0.298152</td>\n",
       "    </tr>\n",
       "    <tr>\n",
       "      <th>2012-01-04</th>\n",
       "      <td>79.671388</td>\n",
       "      <td>371.830660</td>\n",
       "      <td>145.585705</td>\n",
       "      <td>102.200987</td>\n",
       "      <td>99.651091</td>\n",
       "      <td>0.298687</td>\n",
       "    </tr>\n",
       "    <tr>\n",
       "      <th>2012-01-05</th>\n",
       "      <td>132.769966</td>\n",
       "      <td>387.058559</td>\n",
       "      <td>138.335405</td>\n",
       "      <td>90.945206</td>\n",
       "      <td>107.115380</td>\n",
       "      <td>0.299222</td>\n",
       "    </tr>\n",
       "    <tr>\n",
       "      <th>2012-01-06</th>\n",
       "      <td>115.809590</td>\n",
       "      <td>384.356457</td>\n",
       "      <td>124.277743</td>\n",
       "      <td>82.442432</td>\n",
       "      <td>126.554820</td>\n",
       "      <td>0.299757</td>\n",
       "    </tr>\n",
       "    <tr>\n",
       "      <th>...</th>\n",
       "      <td>...</td>\n",
       "      <td>...</td>\n",
       "      <td>...</td>\n",
       "      <td>...</td>\n",
       "      <td>...</td>\n",
       "      <td>...</td>\n",
       "    </tr>\n",
       "    <tr>\n",
       "      <th>2018-12-19</th>\n",
       "      <td>78.761271</td>\n",
       "      <td>235.138505</td>\n",
       "      <td>148.662101</td>\n",
       "      <td>274.381762</td>\n",
       "      <td>185.689485</td>\n",
       "      <td>1.170503</td>\n",
       "    </tr>\n",
       "    <tr>\n",
       "      <th>2018-12-20</th>\n",
       "      <td>77.976133</td>\n",
       "      <td>220.845444</td>\n",
       "      <td>183.148508</td>\n",
       "      <td>275.382973</td>\n",
       "      <td>328.899060</td>\n",
       "      <td>1.170955</td>\n",
       "    </tr>\n",
       "    <tr>\n",
       "      <th>2018-12-21</th>\n",
       "      <td>84.746791</td>\n",
       "      <td>226.993674</td>\n",
       "      <td>162.803958</td>\n",
       "      <td>302.405162</td>\n",
       "      <td>269.306352</td>\n",
       "      <td>1.171408</td>\n",
       "    </tr>\n",
       "    <tr>\n",
       "      <th>2018-12-27</th>\n",
       "      <td>83.467394</td>\n",
       "      <td>220.434593</td>\n",
       "      <td>185.367915</td>\n",
       "      <td>368.670524</td>\n",
       "      <td>206.958498</td>\n",
       "      <td>1.171861</td>\n",
       "    </tr>\n",
       "    <tr>\n",
       "      <th>2018-12-28</th>\n",
       "      <td>82.008976</td>\n",
       "      <td>207.133943</td>\n",
       "      <td>197.384869</td>\n",
       "      <td>317.979430</td>\n",
       "      <td>163.976341</td>\n",
       "      <td>1.172314</td>\n",
       "    </tr>\n",
       "  </tbody>\n",
       "</table>\n",
       "<p>1776 rows × 6 columns</p>\n",
       "</div>"
      ],
      "text/plain": [
       "                   DBA         EWQ         AEX        GSPC        N225  \\\n",
       "Date                                                                     \n",
       "2012-01-02   81.784777  411.719201  163.230670  127.813467   99.834168   \n",
       "2012-01-03   80.509533  371.814492  146.369876  115.947199   99.723532   \n",
       "2012-01-04   79.671388  371.830660  145.585705  102.200987   99.651091   \n",
       "2012-01-05  132.769966  387.058559  138.335405   90.945206  107.115380   \n",
       "2012-01-06  115.809590  384.356457  124.277743   82.442432  126.554820   \n",
       "...                ...         ...         ...         ...         ...   \n",
       "2018-12-19   78.761271  235.138505  148.662101  274.381762  185.689485   \n",
       "2018-12-20   77.976133  220.845444  183.148508  275.382973  328.899060   \n",
       "2018-12-21   84.746791  226.993674  162.803958  302.405162  269.306352   \n",
       "2018-12-27   83.467394  220.434593  185.367915  368.670524  206.958498   \n",
       "2018-12-28   82.008976  207.133943  197.384869  317.979430  163.976341   \n",
       "\n",
       "            euribor3m  \n",
       "Date                   \n",
       "2012-01-02   0.297617  \n",
       "2012-01-03   0.298152  \n",
       "2012-01-04   0.298687  \n",
       "2012-01-05   0.299222  \n",
       "2012-01-06   0.299757  \n",
       "...               ...  \n",
       "2018-12-19   1.170503  \n",
       "2018-12-20   1.170955  \n",
       "2018-12-21   1.171408  \n",
       "2018-12-27   1.171861  \n",
       "2018-12-28   1.172314  \n",
       "\n",
       "[1776 rows x 6 columns]"
      ]
     },
     "execution_count": 42,
     "metadata": {},
     "output_type": "execute_result"
    }
   ],
   "source": [
    "vola_forecast"
   ]
  },
  {
   "cell_type": "code",
   "execution_count": null,
   "metadata": {},
   "outputs": [],
   "source": []
  },
  {
   "cell_type": "code",
   "execution_count": null,
   "metadata": {},
   "outputs": [],
   "source": []
  },
  {
   "cell_type": "code",
   "execution_count": null,
   "metadata": {},
   "outputs": [],
   "source": []
  },
  {
   "cell_type": "code",
   "execution_count": null,
   "metadata": {},
   "outputs": [],
   "source": []
  },
  {
   "cell_type": "code",
   "execution_count": null,
   "metadata": {},
   "outputs": [],
   "source": []
  },
  {
   "cell_type": "code",
   "execution_count": null,
   "metadata": {},
   "outputs": [],
   "source": []
  },
  {
   "cell_type": "code",
   "execution_count": null,
   "metadata": {},
   "outputs": [],
   "source": []
  },
  {
   "cell_type": "code",
   "execution_count": null,
   "metadata": {},
   "outputs": [],
   "source": []
  },
  {
   "cell_type": "markdown",
   "metadata": {},
   "source": [
    "#### Estimate VaR and ES, based on Filtered Historical Simulation method with EWMA for each risk factor ####"
   ]
  },
  {
   "cell_type": "code",
   "execution_count": null,
   "metadata": {},
   "outputs": [],
   "source": []
  }
 ],
 "metadata": {
  "kernelspec": {
   "display_name": "Python 3",
   "language": "python",
   "name": "python3"
  },
  "language_info": {
   "codemirror_mode": {
    "name": "ipython",
    "version": 3
   },
   "file_extension": ".py",
   "mimetype": "text/x-python",
   "name": "python",
   "nbconvert_exporter": "python",
   "pygments_lexer": "ipython3",
   "version": "3.7.2"
  }
 },
 "nbformat": 4,
 "nbformat_minor": 4
}
